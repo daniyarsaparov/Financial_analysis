{
 "cells": [
  {
   "cell_type": "markdown",
   "metadata": {},
   "source": [
    "# Section A - KPI Reporting"
   ]
  },
  {
   "cell_type": "markdown",
   "metadata": {},
   "source": [
    "### 1) Monthly total loan volume in dollars and the monthly average loan size"
   ]
  },
  {
   "cell_type": "code",
   "execution_count": 1,
   "metadata": {},
   "outputs": [],
   "source": [
    "import re\n",
    "import pandas as pd\n",
    "import numpy as np\n",
    "from PIL import Image, ImageDraw\n",
    "import matplotlib.pyplot as plt\n",
    "\n",
    "import warnings\n",
    "warnings.filterwarnings('ignore')"
   ]
  },
  {
   "cell_type": "code",
   "execution_count": 2,
   "metadata": {},
   "outputs": [],
   "source": [
    "# load the data\n",
    "data = pd.read_csv('LoanStats_2015_subset.csv')"
   ]
  },
  {
   "cell_type": "code",
   "execution_count": 3,
   "metadata": {},
   "outputs": [],
   "source": [
    "# let's see the months when the loan was issued and the amount of each loan\n",
    "loan_info = data[[\"issue_d\", \"loan_amnt\"]].dropna() # dropped all NaN values"
   ]
  },
  {
   "cell_type": "code",
   "execution_count": 5,
   "metadata": {},
   "outputs": [
    {
     "name": "stdout",
     "output_type": "stream",
     "text": [
      "In Apr-2015 the total amount of loan was $539401075.0\n",
      "In Aug-2015 the total amount of loan was $555331400.0\n",
      "In Dec-2015 the total amount of loan was $667910550.0\n",
      "In Feb-2015 the total amount of loan was $366908525.0\n",
      "In Jan-2015 the total amount of loan was $533132575.0\n",
      "In Jul-2015 the total amount of loan was $696238600.0\n",
      "In Jun-2015 the total amount of loan was $429777175.0\n",
      "In Mar-2015 the total amount of loan was $390003275.0\n",
      "In May-2015 the total amount of loan was $483189475.0\n",
      "In Nov-2015 the total amount of loan was $567247325.0\n",
      "In Oct-2015 the total amount of loan was $738221400.0\n",
      "In Sep-2015 the total amount of loan was $450246800.0\n"
     ]
    }
   ],
   "source": [
    "def total_loan_each_month(x):\n",
    "    for month, loan in x.groupby(\"issue_d\"):\n",
    "        total = np.sum(loan[\"loan_amnt\"])\n",
    "        print(\"In \" + month + \" the total amount of loan was $\" + str(total))\n",
    "        \n",
    "total_loan_each_month(loan_info)"
   ]
  },
  {
   "cell_type": "markdown",
   "metadata": {},
   "source": [
    "We see that the order of the months is not very convenient. \n",
    "So we can first place the months in a correct order and print the final report again"
   ]
  },
  {
   "cell_type": "code",
   "execution_count": 6,
   "metadata": {},
   "outputs": [
    {
     "name": "stdout",
     "output_type": "stream",
     "text": [
      "In Jan-2015 the total amount of loan was $533132575.0\n",
      "In Feb-2015 the total amount of loan was $366908525.0\n",
      "In Mar-2015 the total amount of loan was $390003275.0\n",
      "In Apr-2015 the total amount of loan was $539401075.0\n",
      "In May-2015 the total amount of loan was $483189475.0\n",
      "In Jun-2015 the total amount of loan was $429777175.0\n",
      "In Jul-2015 the total amount of loan was $696238600.0\n",
      "In Aug-2015 the total amount of loan was $555331400.0\n",
      "In Sep-2015 the total amount of loan was $450246800.0\n",
      "In Oct-2015 the total amount of loan was $738221400.0\n",
      "In Nov-2015 the total amount of loan was $567247325.0\n",
      "In Dec-2015 the total amount of loan was $667910550.0\n"
     ]
    }
   ],
   "source": [
    "# Now let's print the report in a correct order\n",
    "from pandas.api.types import CategoricalDtype\n",
    "loan_each_month = loan_info.groupby(\"issue_d\", as_index=False).agg({\"loan_amnt\":np.sum})\n",
    "month_order = CategoricalDtype(\n",
    "    [\"Jan-2015\", \"Feb-2015\", \"Mar-2015\", \"Apr-2015\",\"May-2015\", \"Jun-2015\", \n",
    "     \"Jul-2015\", \"Aug-2015\",\"Sep-2015\", \"Oct-2015\", \"Nov-2015\", \"Dec-2015\"], \n",
    "     ordered=True)\n",
    "loan_each_month[\"issue_d\"] = loan_each_month[\"issue_d\"].astype(month_order)\n",
    "loan_each_month = loan_each_month.sort_values(\"issue_d\")\n",
    "\n",
    "for index, row in loan_each_month.iterrows():\n",
    "        print(\"In \" + str(row['issue_d']) + \" the total amount of loan was $\" \n",
    "              + str(row['loan_amnt']))"
   ]
  },
  {
   "cell_type": "markdown",
   "metadata": {},
   "source": [
    "Now we calculate the average amount of loan each month"
   ]
  },
  {
   "cell_type": "code",
   "execution_count": 7,
   "metadata": {},
   "outputs": [
    {
     "name": "stdout",
     "output_type": "stream",
     "text": [
      "In Apr-2015 the average amount of loan was $15225.71\n",
      "In Aug-2015 the average amount of loan was $15474.88\n",
      "In Dec-2015 the average amount of loan was $15062.37\n",
      "In Feb-2015 the average amount of loan was $15435.78\n",
      "In Jan-2015 the average amount of loan was $15185.93\n",
      "In Jul-2015 the average amount of loan was $15148.14\n",
      "In Jun-2015 the average amount of loan was $15087.84\n",
      "In Mar-2015 the average amount of loan was $15354.46\n",
      "In May-2015 the average amount of loan was $15140.84\n",
      "In Nov-2015 the average amount of loan was $15114.5\n",
      "In Oct-2015 the average amount of loan was $15180.06\n",
      "In Sep-2015 the average amount of loan was $15720.36\n",
      "None\n"
     ]
    }
   ],
   "source": [
    "def average_loan_each_month(x):\n",
    "    for month, loan in x.groupby(\"issue_d\"):\n",
    "        average_loan = np.mean(loan[\"loan_amnt\"])\n",
    "        print(\"In \" + month + \" the average amount of loan was $\" \n",
    "              + str(round(average_loan, 2)))\n",
    "        \n",
    "print(average_loan_each_month(loan_info))"
   ]
  },
  {
   "cell_type": "code",
   "execution_count": 8,
   "metadata": {},
   "outputs": [
    {
     "name": "stdout",
     "output_type": "stream",
     "text": [
      "In Jan-2015 the average amount of loan was $15185.93\n",
      "In Feb-2015 the average amount of loan was $15435.78\n",
      "In Mar-2015 the average amount of loan was $15354.46\n",
      "In Apr-2015 the average amount of loan was $15225.71\n",
      "In May-2015 the average amount of loan was $15140.84\n",
      "In Jun-2015 the average amount of loan was $15087.84\n",
      "In Jul-2015 the average amount of loan was $15148.14\n",
      "In Aug-2015 the average amount of loan was $15474.88\n",
      "In Sep-2015 the average amount of loan was $15720.36\n",
      "In Oct-2015 the average amount of loan was $15180.06\n",
      "In Nov-2015 the average amount of loan was $15114.5\n",
      "In Dec-2015 the average amount of loan was $15062.37\n"
     ]
    }
   ],
   "source": [
    "# Let's print this in a coorect order\n",
    "ave_loan_each_month = loan_info.groupby(\"issue_d\", as_index=False).agg({\"loan_amnt\":np.mean})\n",
    "ave_loan_each_month[\"issue_d\"] = ave_loan_each_month[\"issue_d\"].astype(month_order)\n",
    "ave_loan_each_month = ave_loan_each_month.sort_values(\"issue_d\")\n",
    "\n",
    "for index, row in ave_loan_each_month.iterrows():\n",
    "        print(\"In \" + str(row['issue_d']) + \" the average amount of loan was $\" \n",
    "              + str(round(row['loan_amnt'], 2)))"
   ]
  },
  {
   "cell_type": "markdown",
   "metadata": {},
   "source": [
    "We can also see how much loan people take each month"
   ]
  },
  {
   "cell_type": "code",
   "execution_count": 9,
   "metadata": {},
   "outputs": [
    {
     "name": "stdout",
     "output_type": "stream",
     "text": [
      "Each month people take on average $534800681.25\n"
     ]
    }
   ],
   "source": [
    "print(\"Each month people take on average $\" + str(np.average(loan_each_month[\"loan_amnt\"])))"
   ]
  },
  {
   "cell_type": "markdown",
   "metadata": {},
   "source": [
    "### 2) Calculation of charge-off rates by loan grades\n",
    "\n",
    "Let's first see how many laon grades exist: "
   ]
  },
  {
   "cell_type": "code",
   "execution_count": 10,
   "metadata": {},
   "outputs": [
    {
     "data": {
      "text/plain": [
       "array(['B', 'A', 'D', 'E', 'C', 'F', 'G'], dtype=object)"
      ]
     },
     "execution_count": 10,
     "metadata": {},
     "output_type": "execute_result"
    }
   ],
   "source": [
    "data[\"grade\"].dropna().unique() # checking how many loan grades exist"
   ]
  },
  {
   "cell_type": "markdown",
   "metadata": {},
   "source": [
    "So we see that there are 7 different loan grades as: A, B, C, D, E, F, G. We need to calculate charge-off rates for each status separately.  "
   ]
  },
  {
   "cell_type": "markdown",
   "metadata": {},
   "source": [
    "First we separate the necessary columns by their grade"
   ]
  },
  {
   "cell_type": "code",
   "execution_count": 11,
   "metadata": {},
   "outputs": [],
   "source": [
    "grade_A = data[data[\"grade\"] == \"A\"][[\"grade\",\"loan_status\",\"loan_amnt\", \"int_rate\"]].dropna()\n",
    "grade_B = data[data[\"grade\"] == \"B\"][[\"grade\",\"loan_status\",\"loan_amnt\", \"int_rate\"]].dropna()\n",
    "grade_C = data[data[\"grade\"] == \"C\"][[\"grade\",\"loan_status\",\"loan_amnt\", \"int_rate\"]].dropna()\n",
    "grade_D = data[data[\"grade\"] == \"D\"][[\"grade\",\"loan_status\",\"loan_amnt\", \"int_rate\"]].dropna()\n",
    "grade_E = data[data[\"grade\"] == \"E\"][[\"grade\",\"loan_status\",\"loan_amnt\", \"int_rate\"]].dropna()\n",
    "grade_F = data[data[\"grade\"] == \"F\"][[\"grade\",\"loan_status\",\"loan_amnt\", \"int_rate\"]].dropna()\n",
    "grade_G = data[data[\"grade\"] == \"G\"][[\"grade\",\"loan_status\",\"loan_amnt\", \"int_rate\"]].dropna()"
   ]
  },
  {
   "cell_type": "code",
   "execution_count": 12,
   "metadata": {},
   "outputs": [
    {
     "name": "stdout",
     "output_type": "stream",
     "text": [
      "73336 117606 120567 62654 34948 9817 2167\n"
     ]
    }
   ],
   "source": [
    "# Let's see how big each loan grade is\n",
    "print(len(grade_A),len(grade_B),len(grade_C),\n",
    "      len(grade_D),len(grade_E),len(grade_F),len(grade_G))"
   ]
  },
  {
   "cell_type": "markdown",
   "metadata": {},
   "source": [
    "Let's see how many loan statuses exist:"
   ]
  },
  {
   "cell_type": "code",
   "execution_count": 13,
   "metadata": {},
   "outputs": [
    {
     "data": {
      "text/plain": [
       "array(['Fully Paid', 'Current', 'Charged Off', 'Late (16-30 days)',\n",
       "       'Late (31-120 days)', 'In Grace Period', 'Default', nan],\n",
       "      dtype=object)"
      ]
     },
     "execution_count": 13,
     "metadata": {},
     "output_type": "execute_result"
    }
   ],
   "source": [
    "data[\"loan_status\"].unique()"
   ]
  },
  {
   "cell_type": "markdown",
   "metadata": {},
   "source": [
    "We need to count only the ones marked as \"Charged Off\" and \"Default\" to calculate the charge-off rates. From my understanding we need to calculate the charge-off rates as\n",
    "\n",
    "$\\text{charge-off rate} = \\frac{\\text{number of charged-off loans}}{\\text{total number of loans}}$\n",
    "\n",
    "As problem states, we will take both \"Charge Off\" and \"Default\" values as charged-off, and the\n",
    "rest as not charged-off"
   ]
  },
  {
   "cell_type": "code",
   "execution_count": 14,
   "metadata": {},
   "outputs": [],
   "source": [
    "grade_A_charge_off_amount = grade_A.loc[grade_A[\"loan_status\"].isin([\"Charged Off\",\"Default\"])][\"loan_amnt\"]\n",
    "grade_B_charge_off_amount = grade_B.loc[grade_B[\"loan_status\"].isin([\"Charged Off\",\"Default\"])][\"loan_amnt\"]\n",
    "grade_C_charge_off_amount = grade_C.loc[grade_C[\"loan_status\"].isin([\"Charged Off\",\"Default\"])][\"loan_amnt\"]\n",
    "grade_D_charge_off_amount = grade_D.loc[grade_D[\"loan_status\"].isin([\"Charged Off\",\"Default\"])][\"loan_amnt\"]\n",
    "grade_E_charge_off_amount = grade_E.loc[grade_E[\"loan_status\"].isin([\"Charged Off\",\"Default\"])][\"loan_amnt\"]\n",
    "grade_F_charge_off_amount = grade_F.loc[grade_F[\"loan_status\"].isin([\"Charged Off\",\"Default\"])][\"loan_amnt\"]\n",
    "grade_G_charge_off_amount = grade_G.loc[grade_G[\"loan_status\"].isin([\"Charged Off\",\"Default\"])][\"loan_amnt\"]"
   ]
  },
  {
   "cell_type": "code",
   "execution_count": 15,
   "metadata": {},
   "outputs": [],
   "source": [
    "grade_A_charge_off_rate = len(grade_A_charge_off_amount)/len(grade_A[\"loan_amnt\"])\n",
    "grade_B_charge_off_rate = len(grade_B_charge_off_amount)/len(grade_B[\"loan_amnt\"])\n",
    "grade_C_charge_off_rate = len(grade_C_charge_off_amount)/len(grade_C[\"loan_amnt\"])\n",
    "grade_D_charge_off_rate = len(grade_D_charge_off_amount)/len(grade_D[\"loan_amnt\"])\n",
    "grade_E_charge_off_rate = len(grade_E_charge_off_amount)/len(grade_E[\"loan_amnt\"])\n",
    "grade_F_charge_off_rate = len(grade_F_charge_off_amount)/len(grade_F[\"loan_amnt\"])\n",
    "grade_G_charge_off_rate = len(grade_G_charge_off_amount)/len(grade_G[\"loan_amnt\"])"
   ]
  },
  {
   "cell_type": "code",
   "execution_count": 16,
   "metadata": {},
   "outputs": [
    {
     "name": "stdout",
     "output_type": "stream",
     "text": [
      "The charge-off rate for grade-A loan is 4.51%\n",
      "The charge-off rate for grade-B loan is 9.75%\n",
      "The charge-off rate for grade-C loan is 16.22%\n",
      "The charge-off rate for grade-D loan is 23.52%\n",
      "The charge-off rate for grade-E loan is 29.08%\n",
      "The charge-off rate for grade-F loan is 37.6%\n",
      "The charge-off rate for grade-G loan is 43.05%\n"
     ]
    }
   ],
   "source": [
    "print(\n",
    "\"The charge-off rate for grade-A loan is \"+str(round(grade_A_charge_off_rate*100, 2))+\"%\\n\"\n",
    "\"The charge-off rate for grade-B loan is \"+str(round(grade_B_charge_off_rate*100, 2))+\"%\\n\"\n",
    "\"The charge-off rate for grade-C loan is \"+str(round(grade_C_charge_off_rate*100, 2))+\"%\\n\"\n",
    "\"The charge-off rate for grade-D loan is \"+str(round(grade_D_charge_off_rate*100, 2))+\"%\\n\"\n",
    "\"The charge-off rate for grade-E loan is \"+str(round(grade_E_charge_off_rate*100, 2))+\"%\\n\"\n",
    "\"The charge-off rate for grade-F loan is \"+str(round(grade_F_charge_off_rate*100, 2))+\"%\\n\"\n",
    "\"The charge-off rate for grade-G loan is \"+str(round(grade_G_charge_off_rate*100, 2))+\"%\")"
   ]
  },
  {
   "cell_type": "code",
   "execution_count": 17,
   "metadata": {},
   "outputs": [],
   "source": [
    "grades = [i for i in range(1,8)]\n",
    "charge_off_rates = [100*grade_A_charge_off_rate, 100*grade_B_charge_off_rate, \n",
    "                    100*grade_C_charge_off_rate, 100*grade_D_charge_off_rate, \n",
    "                    100*grade_E_charge_off_rate, 100*grade_F_charge_off_rate,\n",
    "                    100*grade_G_charge_off_rate]"
   ]
  },
  {
   "cell_type": "code",
   "execution_count": 18,
   "metadata": {},
   "outputs": [
    {
     "data": {
      "image/png": "[encoded data removed]",
      "text/plain": [
       "<Figure size 432x288 with 1 Axes>"
      ]
     },
     "metadata": {
      "needs_background": "light"
     },
     "output_type": "display_data"
    }
   ],
   "source": [
    "labels = ['grade-A', 'grade-B', 'grade-C', 'grade-D', 'grade-E', 'grade-F', 'grade-G',]\n",
    "plt.bar(grades, charge_off_rates)\n",
    "plt.xticks(grades, labels, rotation='vertical')\n",
    "plt.ylabel(\"charge-off rates %\")\n",
    "plt.show()"
   ]
  },
  {
   "cell_type": "markdown",
   "metadata": {},
   "source": [
    "#### Conclusion:\n",
    "These numbers show the charge-off rates for each grade category. We can see that the \n",
    "percentage of charge-off the rates are different for each group. It looks like the charge-off rates for the grade-G borrowers is much higher than those of grade-A. From this we can understand that the people in grade-G tend to not pay back their loan and this leads to higher risk of loss of money. And grade-A group has the lowest percentage of charge-off rates, thus they are more trustable and may qualify to borrow more frequent and bigger amount of loans. "
   ]
  },
  {
   "cell_type": "markdown",
   "metadata": {},
   "source": [
    "We can also estimate the amount of money that each category of people may not pay back their loan. It is clear that grade-A category people have lesser chance to be charged-off, but they also may have bigger amount of loans compared to those of grade-G. Similarly, since people of grade-G category have higher risks not to pay back their loan, the amount of loan given to them may also be less. So it might be fair to look at the amount of loan each category borrows and calculate the approximate amount of loss. "
   ]
  },
  {
   "cell_type": "code",
   "execution_count": 19,
   "metadata": {},
   "outputs": [
    {
     "data": {
      "image/png": "[encoded data removed]",
      "text/plain": [
       "<Figure size 432x288 with 1 Axes>"
      ]
     },
     "metadata": {
      "needs_background": "light"
     },
     "output_type": "display_data"
    }
   ],
   "source": [
    "grades = [i for i in range(1,8)]\n",
    "number_of_borrowers = [len(grade_A),len(grade_B),len(grade_C),\n",
    "                       len(grade_D),len(grade_E),len(grade_F),len(grade_G)]\n",
    "labels = ['grade-A', 'grade-B', 'grade-C', 'grade-D', 'grade-E', 'grade-F', 'grade-G',]\n",
    "plt.bar(grades, number_of_borrowers)\n",
    "plt.xticks(grades, labels, rotation='vertical')\n",
    "plt.ylabel(\"number of borrowers\")\n",
    "plt.show()"
   ]
  },
  {
   "cell_type": "markdown",
   "metadata": {},
   "source": [
    "We can see that there are not many people in grade-G and grade-F, which have higher\n",
    "charge-off rates"
   ]
  },
  {
   "cell_type": "markdown",
   "metadata": {},
   "source": [
    "Now let's see the total amount of loan taken by each group"
   ]
  },
  {
   "cell_type": "code",
   "execution_count": 20,
   "metadata": {},
   "outputs": [],
   "source": [
    "grade_A_total_loan = np.sum(grade_A_charge_off_amount)\n",
    "grade_B_total_loan = np.sum(grade_B_charge_off_amount)\n",
    "grade_C_total_loan = np.sum(grade_C_charge_off_amount)\n",
    "grade_D_total_loan = np.sum(grade_D_charge_off_amount)\n",
    "grade_E_total_loan = np.sum(grade_E_charge_off_amount)\n",
    "grade_F_total_loan = np.sum(grade_F_charge_off_amount)\n",
    "grade_G_total_loan = np.sum(grade_G_charge_off_amount)"
   ]
  },
  {
   "cell_type": "code",
   "execution_count": 21,
   "metadata": {},
   "outputs": [],
   "source": [
    "total_loan_by_grade = [grade_A_total_loan, grade_B_total_loan, grade_C_total_loan,\n",
    "                 grade_D_total_loan, grade_E_total_loan, grade_F_total_loan,\n",
    "                 grade_G_total_loan]"
   ]
  },
  {
   "cell_type": "code",
   "execution_count": 22,
   "metadata": {},
   "outputs": [
    {
     "data": {
      "image/png": "[encoded data removed]",
      "text/plain": [
       "<Figure size 432x288 with 1 Axes>"
      ]
     },
     "metadata": {
      "needs_background": "light"
     },
     "output_type": "display_data"
    }
   ],
   "source": [
    "labels = ['grade-A', 'grade-B', 'grade-C', 'grade-D', 'grade-E', 'grade-F', 'grade-G',]\n",
    "plt.bar(grades, total_loan_by_grade)\n",
    "plt.xticks(grades, labels, rotation='vertical')\n",
    "plt.ylabel(\"total loan in dollars\")\n",
    "plt.show()"
   ]
  },
  {
   "cell_type": "markdown",
   "metadata": {},
   "source": [
    "As was estimated, the chart above shows that the group of people who have more trust may qualify to borrow larger amount of money, and that's what exactly happens here. Although they have less risks compared to the grade-G borrowers, the amount of money they borrow may still lead to larger loss of money overall. Let's try to reflect this in the following calculation. We will estimate the loss of money for each group using their charge-off rates and the total amount of loan."
   ]
  },
  {
   "cell_type": "code",
   "execution_count": 23,
   "metadata": {},
   "outputs": [],
   "source": [
    "estimated_loss_grade_A = grade_A_total_loan*grade_A_charge_off_rate\n",
    "estimated_loss_grade_B = grade_B_total_loan*grade_B_charge_off_rate\n",
    "estimated_loss_grade_C = grade_C_total_loan*grade_C_charge_off_rate\n",
    "estimated_loss_grade_D = grade_D_total_loan*grade_D_charge_off_rate\n",
    "estimated_loss_grade_E = grade_E_total_loan*grade_E_charge_off_rate\n",
    "estimated_loss_grade_F = grade_F_total_loan*grade_F_charge_off_rate\n",
    "estimated_loss_grade_G = grade_G_total_loan*grade_G_charge_off_rate"
   ]
  },
  {
   "cell_type": "code",
   "execution_count": 24,
   "metadata": {},
   "outputs": [
    {
     "name": "stdout",
     "output_type": "stream",
     "text": [
      "Estimated loss of money for grade-A would be $2095331.87\n",
      "Estimated loss of money for grade-B would be $15488442.61\n",
      "Estimated loss of money for grade-C would be $45403156.4\n",
      "Estimated loss of money for grade-D would be $54492359.97\n",
      "Estimated loss of money for grade-E would be $53681947.76\n",
      "Estimated loss of money for grade-F would be $27889355.04\n",
      "Estimated loss of money for grade-G would be $8073183.99\n",
      "\n"
     ]
    }
   ],
   "source": [
    "print(\n",
    "\"Estimated loss of money for grade-A would be $\"+str(round(estimated_loss_grade_A, 2))+\"\\n\"\n",
    "\"Estimated loss of money for grade-B would be $\"+str(round(estimated_loss_grade_B, 2))+\"\\n\"\n",
    "\"Estimated loss of money for grade-C would be $\"+str(round(estimated_loss_grade_C, 2))+\"\\n\"\n",
    "\"Estimated loss of money for grade-D would be $\"+str(round(estimated_loss_grade_D, 2))+\"\\n\"\n",
    "\"Estimated loss of money for grade-E would be $\"+str(round(estimated_loss_grade_E, 2))+\"\\n\"\n",
    "\"Estimated loss of money for grade-F would be $\"+str(round(estimated_loss_grade_F, 2))+\"\\n\"\n",
    "\"Estimated loss of money for grade-G would be $\"+str(round(estimated_loss_grade_G, 2))+\"\\n\")"
   ]
  },
  {
   "cell_type": "code",
   "execution_count": 25,
   "metadata": {},
   "outputs": [
    {
     "data": {
      "image/png": "[encoded data removed]",
      "text/plain": [
       "<Figure size 432x288 with 1 Axes>"
      ]
     },
     "metadata": {
      "needs_background": "light"
     },
     "output_type": "display_data"
    }
   ],
   "source": [
    "grades = [i for i in range(1,8)]\n",
    "money_losses = [estimated_loss_grade_A, estimated_loss_grade_B, estimated_loss_grade_C, \n",
    "                estimated_loss_grade_D, estimated_loss_grade_E, estimated_loss_grade_F,\n",
    "                estimated_loss_grade_G]\n",
    "labels = ['grade-A', 'grade-B', 'grade-C', 'grade-D', 'grade-E', 'grade-F', 'grade-G',]\n",
    "plt.bar(grades, money_losses)\n",
    "plt.xticks(grades, labels, rotation='vertical')\n",
    "plt.ylabel(\"estimated loss in dollars\")\n",
    "plt.show()"
   ]
  },
  {
   "cell_type": "markdown",
   "metadata": {},
   "source": [
    "As we can clearly see, the chart above shows that the estimated amount of loss due to \n",
    "the charge-off can be determined by two parameters: charge-off rate and the amount of loan. People in grade-A have low charge-off rates and the total amount of loan is also not very big (there are simply few people in this category). People in grade-G have very high charge-off rate, but they cannot borrow too much money and the total amount of loss is also low. The main amount of loss of money falls in category of grade-C, grade-D and grade-E. "
   ]
  },
  {
   "cell_type": "markdown",
   "metadata": {},
   "source": [
    "### 4) Interest rate for the risk"
   ]
  },
  {
   "cell_type": "code",
   "execution_count": 26,
   "metadata": {},
   "outputs": [],
   "source": [
    "grade_groups = data[[\"grade\",\"loan_status\",\"loan_amnt\", \"int_rate\"]].dropna()\n",
    "grade_groups[\"int_rate\"] = grade_groups[\"int_rate\"].str[:-1].astype(float)\n",
    "average_interest_rate_by_grade = grade_groups.groupby(\"grade\").agg({\"int_rate\":np.nanmean})"
   ]
  },
  {
   "cell_type": "code",
   "execution_count": 27,
   "metadata": {},
   "outputs": [
    {
     "data": {
      "image/png": "[encoded data removed]",
      "text/plain": [
       "<Figure size 432x288 with 1 Axes>"
      ]
     },
     "metadata": {
      "needs_background": "light"
     },
     "output_type": "display_data"
    }
   ],
   "source": [
    "grades = [i for i in range(1,8)]\n",
    "average_rates = np.round(average_interest_rate_by_grade[\"int_rate\"].tolist(), 2)\n",
    "labels = ['grade-A', 'grade-B', 'grade-C', 'grade-D', 'grade-E', 'grade-F', 'grade-G',]\n",
    "plt.bar(grades, average_rates)\n",
    "plt.xticks(grades, labels, rotation='vertical')\n",
    "plt.ylabel(\"average interest rates\")\n",
    "plt.show()"
   ]
  },
  {
   "cell_type": "markdown",
   "metadata": {},
   "source": [
    "This chart shows that the average amount of loan interest rate for each category of borrowers has a direct relation with the amount of risk. The two charts that show the charge-off rate and the average loan rate have a very similar structure, and show that these two parameters are correlated with each other. "
   ]
  },
  {
   "cell_type": "markdown",
   "metadata": {},
   "source": [
    "# Section B - Modeling"
   ]
  },
  {
   "cell_type": "markdown",
   "metadata": {},
   "source": [
    "### 1) Data cleaning"
   ]
  },
  {
   "cell_type": "code",
   "execution_count": 28,
   "metadata": {},
   "outputs": [
    {
     "name": "stdout",
     "output_type": "stream",
     "text": [
      "Number of raws: 421097\n",
      "Number of columns: 105\n"
     ]
    }
   ],
   "source": [
    "print(\"Number of raws: \" + str(len(data)) + \n",
    "      \"\\nNumber of columns: \" + str(len(data.columns)))"
   ]
  },
  {
   "cell_type": "markdown",
   "metadata": {},
   "source": [
    "The full data is consist of 421097 rows and 105 columns. First we may try to delete any rows or columns where all elements are NaN or null. If we apply $\\textbf{\"data.dropna()}$\" we  can see that the whole data vanishes, which means that every row has at least one NaN value. If we apply $\\textbf{\"len(data.dropna(how='all'))}$\" we see that the size of the data remains the same as there is no row with all elements missing. If we apply $\\textbf{\"len(data.dropna(how='all', axis='columns').columns)\"}$ we can see that the number of columns has shrinked from 105 to 93, which means that there are 12 columns that have no data at all and we may just drop those columns from our dataset. Furthermore, we may set our threshold for the number of non-missing data, such as 5000 or so. In other words, we may say that we don't want to work with any data that has less than 5000 nonzero values. For that we can apply $\\textbf{\"data.dropna(thresh=len(data)-5000, axis='columns')\"}$, and the size of the data after this shrinks down to 65, which means that we have only 65 columns whose nonzero elements are more than 5000, and we may want to use these data only for fruther analysis and\n",
    "machine learning modeling."
   ]
  },
  {
   "cell_type": "code",
   "execution_count": 30,
   "metadata": {},
   "outputs": [
    {
     "name": "stdout",
     "output_type": "stream",
     "text": [
      "Number of columns remaining after dropping all-zero columns: 93\n",
      "Number of columns remaining after dropping columns with threshold: 65\n"
     ]
    }
   ],
   "source": [
    "print(\"Number of columns remaining after dropping all-zero columns:\",\n",
    "      len(data.dropna(how='all', axis='columns').columns))\n",
    "print(\"Number of columns remaining after dropping columns with threshold:\", \n",
    "      len(data.dropna(thresh=len(data)-5000, axis='columns').columns))"
   ]
  },
  {
   "cell_type": "code",
   "execution_count": 35,
   "metadata": {},
   "outputs": [
    {
     "name": "stdout",
     "output_type": "stream",
     "text": [
      "421097\n"
     ]
    }
   ],
   "source": [
    "reduced_data = data.dropna(thresh=len(data)-5000, axis='columns')\n",
    "print(len(reduced_data))"
   ]
  },
  {
   "cell_type": "markdown",
   "metadata": {},
   "source": [
    "Now that we have eliminated the columns that have too many NaN values, we might as well be\n",
    "interested if the rest of the data has many zeros. For that we can call:"
   ]
  },
  {
   "cell_type": "code",
   "execution_count": 36,
   "metadata": {},
   "outputs": [
    {
     "name": "stdout",
     "output_type": "stream",
     "text": [
      "Number of zeros in each column would be:\n",
      "acc_now_delinq          2\n",
      "acc_open_past_24mths    2\n",
      "addr_state              2\n",
      "annual_inc              2\n",
      "application_type        2\n",
      "dtype: int64\n",
      "Maximum number of zeros is:  4241\n"
     ]
    }
   ],
   "source": [
    "print(\"Number of zeros in each column would be:\")\n",
    "print(reduced_data.isnull().sum().head())\n",
    "print(\"Maximum number of zeros is: \", max(reduced_data.isnull().sum()))"
   ]
  },
  {
   "cell_type": "markdown",
   "metadata": {},
   "source": [
    "We see that every column has several null values, and the maximum number of zeros is only \n",
    "4241, which belongs to column \"percent_bc_gt_75\". We can also eliminate this data because it makes a very small portion of the data in hand. For that we can call:"
   ]
  },
  {
   "cell_type": "code",
   "execution_count": 37,
   "metadata": {},
   "outputs": [
    {
     "name": "stdout",
     "output_type": "stream",
     "text": [
      "416460\n"
     ]
    }
   ],
   "source": [
    "reduced_data = reduced_data.dropna()\n",
    "print(len(reduced_data))"
   ]
  },
  {
   "cell_type": "markdown",
   "metadata": {},
   "source": [
    "We see that we still have most of the data preserved and this might be a good set of data to\n",
    "use for further analysis. We conclude that the original data had some columns with all of their values being completely missing or zero, so we dropped those columns. Moreover, from the remaining columns we see that there is still some missing data but those data make a very small part of the original data and we droppped those values as well and preserved most of the data in our hand."
   ]
  },
  {
   "cell_type": "code",
   "execution_count": 38,
   "metadata": {},
   "outputs": [
    {
     "name": "stdout",
     "output_type": "stream",
     "text": [
      "<class 'pandas.core.frame.DataFrame'>\n",
      "Int64Index: 416460 entries, 0 to 421094\n",
      "Data columns (total 65 columns):\n",
      "acc_now_delinq                416460 non-null float64\n",
      "acc_open_past_24mths          416460 non-null float64\n",
      "addr_state                    416460 non-null object\n",
      "annual_inc                    416460 non-null float64\n",
      "application_type              416460 non-null object\n",
      "avg_cur_bal                   416460 non-null float64\n",
      "bc_open_to_buy                416460 non-null float64\n",
      "bc_util                       416460 non-null float64\n",
      "chargeoff_within_12_mths      416460 non-null float64\n",
      "collections_12_mths_ex_med    416460 non-null float64\n",
      "delinq_2yrs                   416460 non-null float64\n",
      "delinq_amnt                   416460 non-null float64\n",
      "dti                           416460 non-null float64\n",
      "earliest_cr_line              416460 non-null object\n",
      "funded_amnt                   416460 non-null float64\n",
      "funded_amnt_inv               416460 non-null float64\n",
      "grade                         416460 non-null object\n",
      "home_ownership                416460 non-null object\n",
      "initial_list_status           416460 non-null object\n",
      "inq_last_6mths                416460 non-null float64\n",
      "installment                   416460 non-null float64\n",
      "int_rate                      416460 non-null object\n",
      "issue_d                       416460 non-null object\n",
      "loan_amnt                     416460 non-null float64\n",
      "loan_status                   416460 non-null object\n",
      "mo_sin_old_rev_tl_op          416460 non-null float64\n",
      "mo_sin_rcnt_rev_tl_op         416460 non-null float64\n",
      "mo_sin_rcnt_tl                416460 non-null float64\n",
      "mort_acc                      416460 non-null float64\n",
      "mths_since_recent_bc          416460 non-null float64\n",
      "num_accts_ever_120_pd         416460 non-null float64\n",
      "num_actv_bc_tl                416460 non-null float64\n",
      "num_actv_rev_tl               416460 non-null float64\n",
      "num_bc_sats                   416460 non-null float64\n",
      "num_bc_tl                     416460 non-null float64\n",
      "num_il_tl                     416460 non-null float64\n",
      "num_op_rev_tl                 416460 non-null float64\n",
      "num_rev_accts                 416460 non-null float64\n",
      "num_rev_tl_bal_gt_0           416460 non-null float64\n",
      "num_sats                      416460 non-null float64\n",
      "num_tl_30dpd                  416460 non-null float64\n",
      "num_tl_90g_dpd_24m            416460 non-null float64\n",
      "num_tl_op_past_12m            416460 non-null float64\n",
      "open_acc                      416460 non-null float64\n",
      "pct_tl_nvr_dlq                416460 non-null float64\n",
      "percent_bc_gt_75              416460 non-null float64\n",
      "policy_code                   416460 non-null float64\n",
      "pub_rec                       416460 non-null float64\n",
      "pub_rec_bankruptcies          416460 non-null float64\n",
      "purpose                       416460 non-null object\n",
      "revol_bal                     416460 non-null float64\n",
      "revol_util                    416460 non-null object\n",
      "sub_grade                     416460 non-null object\n",
      "tax_liens                     416460 non-null float64\n",
      "term                          416460 non-null object\n",
      "title                         416460 non-null object\n",
      "tot_cur_bal                   416460 non-null float64\n",
      "tot_hi_cred_lim               416460 non-null float64\n",
      "total_acc                     416460 non-null float64\n",
      "total_bal_ex_mort             416460 non-null float64\n",
      "total_bc_limit                416460 non-null float64\n",
      "total_il_high_credit_limit    416460 non-null float64\n",
      "total_rev_hi_lim              416460 non-null float64\n",
      "verification_status           416460 non-null object\n",
      "zip_code                      416460 non-null object\n",
      "dtypes: float64(49), object(16)\n",
      "memory usage: 209.7+ MB\n",
      "None\n",
      "        acc_now_delinq  acc_open_past_24mths addr_state    annual_inc  \\\n",
      "count    416460.000000         416460.000000     416460  4.164600e+05   \n",
      "unique             NaN                   NaN         49           NaN   \n",
      "top                NaN                   NaN         CA           NaN   \n",
      "freq               NaN                   NaN      57438           NaN   \n",
      "mean          0.006053              4.673916        NaN  7.704201e+04   \n",
      "std           0.086245              3.199087        NaN  7.412567e+04   \n",
      "min           0.000000              0.000000        NaN  1.200000e+03   \n",
      "25%           0.000000              2.000000        NaN  4.639734e+04   \n",
      "50%           0.000000              4.000000        NaN  6.500000e+04   \n",
      "75%           0.000000              6.000000        NaN  9.200000e+04   \n",
      "max          14.000000             64.000000        NaN  9.500000e+06   \n",
      "\n",
      "       application_type    avg_cur_bal  bc_open_to_buy        bc_util  \\\n",
      "count            416460  416460.000000   416460.000000  416460.000000   \n",
      "unique                2            NaN             NaN            NaN   \n",
      "top          Individual            NaN             NaN            NaN   \n",
      "freq             415970            NaN             NaN            NaN   \n",
      "mean                NaN   13021.646216     9644.681112      62.271470   \n",
      "std                 NaN   15498.455673    14778.169751      27.538233   \n",
      "min                 NaN       0.000000        0.000000       0.000000   \n",
      "25%                 NaN    3189.000000     1351.000000      41.600000   \n",
      "50%                 NaN    7226.000000     4374.000000      65.900000   \n",
      "75%                 NaN   17889.000000    11584.000000      86.500000   \n",
      "max                 NaN  555925.000000   559912.000000     318.200000   \n",
      "\n",
      "        chargeoff_within_12_mths  collections_12_mths_ex_med  ...  \\\n",
      "count              416460.000000               416460.000000  ...   \n",
      "unique                       NaN                         NaN  ...   \n",
      "top                          NaN                         NaN  ...   \n",
      "freq                         NaN                         NaN  ...   \n",
      "mean                    0.010330                    0.020196  ...   \n",
      "std                     0.116534                    0.157274  ...   \n",
      "min                     0.000000                    0.000000  ...   \n",
      "25%                     0.000000                    0.000000  ...   \n",
      "50%                     0.000000                    0.000000  ...   \n",
      "75%                     0.000000                    0.000000  ...   \n",
      "max                    10.000000                   14.000000  ...   \n",
      "\n",
      "                     title   tot_cur_bal  tot_hi_cred_lim      total_acc  \\\n",
      "count               416460  4.164600e+05     4.164600e+05  416460.000000   \n",
      "unique                  27           NaN              NaN            NaN   \n",
      "top     Debt consolidation           NaN              NaN            NaN   \n",
      "freq                247279           NaN              NaN            NaN   \n",
      "mean                   NaN  1.401601e+05     1.735760e+05      25.527743   \n",
      "std                    NaN  1.553114e+05     1.751124e+05      12.106591   \n",
      "min                    NaN  0.000000e+00     2.500000e+03       4.000000   \n",
      "25%                    NaN  3.106400e+04     5.100900e+04      17.000000   \n",
      "50%                    NaN  7.974950e+04     1.115375e+05      24.000000   \n",
      "75%                    NaN  2.076232e+05     2.499260e+05      32.000000   \n",
      "max                    NaN  4.447397e+06     9.999999e+06     169.000000   \n",
      "\n",
      "        total_bal_ex_mort  total_bc_limit total_il_high_credit_limit  \\\n",
      "count        4.164600e+05   416460.000000               4.164600e+05   \n",
      "unique                NaN             NaN                        NaN   \n",
      "top                   NaN             NaN                        NaN   \n",
      "freq                  NaN             NaN                        NaN   \n",
      "mean         5.230094e+04    22184.639344               4.346690e+04   \n",
      "std          4.908153e+04    21836.759690               4.395170e+04   \n",
      "min          0.000000e+00      100.000000               0.000000e+00   \n",
      "25%          2.265300e+04     8000.000000               1.545100e+04   \n",
      "50%          3.966800e+04    15400.000000               3.295300e+04   \n",
      "75%          6.575400e+04    28800.000000               5.828400e+04   \n",
      "max          2.921551e+06   834300.000000               2.101913e+06   \n",
      "\n",
      "       total_rev_hi_lim verification_status  zip_code  \n",
      "count      4.164600e+05              416460    416460  \n",
      "unique              NaN                   3       913  \n",
      "top                 NaN     Source Verified     945xx  \n",
      "freq                NaN              177673      4423  \n",
      "mean       3.386762e+04                 NaN       NaN  \n",
      "std        3.774154e+04                 NaN       NaN  \n",
      "min        2.000000e+02                 NaN       NaN  \n",
      "25%        1.450000e+04                 NaN       NaN  \n",
      "50%        2.480000e+04                 NaN       NaN  \n",
      "75%        4.190000e+04                 NaN       NaN  \n",
      "max        9.999999e+06                 NaN       NaN  \n",
      "\n",
      "[11 rows x 65 columns]\n"
     ]
    }
   ],
   "source": [
    "print(reduced_data.info())\n",
    "print(reduced_data.describe(include='all'))"
   ]
  },
  {
   "cell_type": "markdown",
   "metadata": {},
   "source": [
    "After all this process we see that the final data is more or less clean now. The missing data was not random and we could eliminate those values easily. Some attributed were missing more than the others as we saw above and through couple of data cleaning process we were able to eliminate those values as well. This is just a short and approximate way of cleaning data from many meanigless parameters. We could spend more time and effort in order to reach better results, but I believe for  the purpose of this task this process might be enough to give us some idea about the structure of our data. "
   ]
  },
  {
   "cell_type": "markdown",
   "metadata": {},
   "source": [
    "### 2) Building Model"
   ]
  },
  {
   "cell_type": "markdown",
   "metadata": {},
   "source": [
    "Before building a model to predict charge-off rates, we might want to take a look at the data again and eliminate any data which might be irrelevant to calculate the charge-off rates."
   ]
  },
  {
   "cell_type": "code",
   "execution_count": 53,
   "metadata": {},
   "outputs": [
    {
     "data": {
      "text/html": [
       "<div>\n",
       "<style scoped>\n",
       "    .dataframe tbody tr th:only-of-type {\n",
       "        vertical-align: middle;\n",
       "    }\n",
       "\n",
       "    .dataframe tbody tr th {\n",
       "        vertical-align: top;\n",
       "    }\n",
       "\n",
       "    .dataframe thead th {\n",
       "        text-align: right;\n",
       "    }\n",
       "</style>\n",
       "<table border=\"1\" class=\"dataframe\">\n",
       "  <thead>\n",
       "    <tr style=\"text-align: right;\">\n",
       "      <th></th>\n",
       "      <th>title</th>\n",
       "      <th>tot_cur_bal</th>\n",
       "      <th>tot_hi_cred_lim</th>\n",
       "      <th>total_acc</th>\n",
       "      <th>total_bal_ex_mort</th>\n",
       "      <th>total_bc_limit</th>\n",
       "      <th>total_il_high_credit_limit</th>\n",
       "      <th>total_rev_hi_lim</th>\n",
       "      <th>verification_status</th>\n",
       "      <th>zip_code</th>\n",
       "    </tr>\n",
       "  </thead>\n",
       "  <tbody>\n",
       "    <tr>\n",
       "      <td>0</td>\n",
       "      <td>Debt consolidation</td>\n",
       "      <td>181540.0</td>\n",
       "      <td>291626.0</td>\n",
       "      <td>37.0</td>\n",
       "      <td>74787.0</td>\n",
       "      <td>49500.0</td>\n",
       "      <td>105910.0</td>\n",
       "      <td>73200.0</td>\n",
       "      <td>Not Verified</td>\n",
       "      <td>660xx</td>\n",
       "    </tr>\n",
       "    <tr>\n",
       "      <td>1</td>\n",
       "      <td>Credit card refinancing</td>\n",
       "      <td>430856.0</td>\n",
       "      <td>512381.0</td>\n",
       "      <td>18.0</td>\n",
       "      <td>44786.0</td>\n",
       "      <td>44000.0</td>\n",
       "      <td>51081.0</td>\n",
       "      <td>45500.0</td>\n",
       "      <td>Not Verified</td>\n",
       "      <td>054xx</td>\n",
       "    </tr>\n",
       "    <tr>\n",
       "      <td>2</td>\n",
       "      <td>Debt consolidation</td>\n",
       "      <td>193745.0</td>\n",
       "      <td>267312.0</td>\n",
       "      <td>46.0</td>\n",
       "      <td>57302.0</td>\n",
       "      <td>58500.0</td>\n",
       "      <td>31758.0</td>\n",
       "      <td>83600.0</td>\n",
       "      <td>Verified</td>\n",
       "      <td>471xx</td>\n",
       "    </tr>\n",
       "    <tr>\n",
       "      <td>3</td>\n",
       "      <td>Home improvement</td>\n",
       "      <td>408118.0</td>\n",
       "      <td>447599.0</td>\n",
       "      <td>23.0</td>\n",
       "      <td>152571.0</td>\n",
       "      <td>43400.0</td>\n",
       "      <td>146568.0</td>\n",
       "      <td>43400.0</td>\n",
       "      <td>Not Verified</td>\n",
       "      <td>430xx</td>\n",
       "    </tr>\n",
       "    <tr>\n",
       "      <td>5</td>\n",
       "      <td>Debt consolidation</td>\n",
       "      <td>42952.0</td>\n",
       "      <td>92909.0</td>\n",
       "      <td>31.0</td>\n",
       "      <td>42952.0</td>\n",
       "      <td>33200.0</td>\n",
       "      <td>37909.0</td>\n",
       "      <td>55000.0</td>\n",
       "      <td>Source Verified</td>\n",
       "      <td>441xx</td>\n",
       "    </tr>\n",
       "    <tr>\n",
       "      <td>...</td>\n",
       "      <td>...</td>\n",
       "      <td>...</td>\n",
       "      <td>...</td>\n",
       "      <td>...</td>\n",
       "      <td>...</td>\n",
       "      <td>...</td>\n",
       "      <td>...</td>\n",
       "      <td>...</td>\n",
       "      <td>...</td>\n",
       "      <td>...</td>\n",
       "    </tr>\n",
       "    <tr>\n",
       "      <td>421090</td>\n",
       "      <td>Home improvement</td>\n",
       "      <td>140285.0</td>\n",
       "      <td>152650.0</td>\n",
       "      <td>23.0</td>\n",
       "      <td>8621.0</td>\n",
       "      <td>9000.0</td>\n",
       "      <td>0.0</td>\n",
       "      <td>10200.0</td>\n",
       "      <td>Verified</td>\n",
       "      <td>072xx</td>\n",
       "    </tr>\n",
       "    <tr>\n",
       "      <td>421091</td>\n",
       "      <td>Debt consolidation</td>\n",
       "      <td>25274.0</td>\n",
       "      <td>32950.0</td>\n",
       "      <td>15.0</td>\n",
       "      <td>25274.0</td>\n",
       "      <td>9200.0</td>\n",
       "      <td>15850.0</td>\n",
       "      <td>17100.0</td>\n",
       "      <td>Verified</td>\n",
       "      <td>905xx</td>\n",
       "    </tr>\n",
       "    <tr>\n",
       "      <td>421092</td>\n",
       "      <td>Debt consolidation</td>\n",
       "      <td>58418.0</td>\n",
       "      <td>96919.0</td>\n",
       "      <td>20.0</td>\n",
       "      <td>58418.0</td>\n",
       "      <td>9700.0</td>\n",
       "      <td>69919.0</td>\n",
       "      <td>27000.0</td>\n",
       "      <td>Source Verified</td>\n",
       "      <td>010xx</td>\n",
       "    </tr>\n",
       "    <tr>\n",
       "      <td>421093</td>\n",
       "      <td>Debt consolidation</td>\n",
       "      <td>34178.0</td>\n",
       "      <td>51239.0</td>\n",
       "      <td>22.0</td>\n",
       "      <td>34178.0</td>\n",
       "      <td>10600.0</td>\n",
       "      <td>33239.0</td>\n",
       "      <td>18000.0</td>\n",
       "      <td>Verified</td>\n",
       "      <td>378xx</td>\n",
       "    </tr>\n",
       "    <tr>\n",
       "      <td>421094</td>\n",
       "      <td>Credit card refinancing</td>\n",
       "      <td>33307.0</td>\n",
       "      <td>43740.0</td>\n",
       "      <td>10.0</td>\n",
       "      <td>33307.0</td>\n",
       "      <td>41700.0</td>\n",
       "      <td>0.0</td>\n",
       "      <td>41700.0</td>\n",
       "      <td>Verified</td>\n",
       "      <td>331xx</td>\n",
       "    </tr>\n",
       "  </tbody>\n",
       "</table>\n",
       "<p>416460 rows × 10 columns</p>\n",
       "</div>"
      ],
      "text/plain": [
       "                          title  tot_cur_bal  tot_hi_cred_lim  total_acc  \\\n",
       "0            Debt consolidation     181540.0         291626.0       37.0   \n",
       "1       Credit card refinancing     430856.0         512381.0       18.0   \n",
       "2            Debt consolidation     193745.0         267312.0       46.0   \n",
       "3              Home improvement     408118.0         447599.0       23.0   \n",
       "5            Debt consolidation      42952.0          92909.0       31.0   \n",
       "...                         ...          ...              ...        ...   \n",
       "421090         Home improvement     140285.0         152650.0       23.0   \n",
       "421091       Debt consolidation      25274.0          32950.0       15.0   \n",
       "421092       Debt consolidation      58418.0          96919.0       20.0   \n",
       "421093       Debt consolidation      34178.0          51239.0       22.0   \n",
       "421094  Credit card refinancing      33307.0          43740.0       10.0   \n",
       "\n",
       "        total_bal_ex_mort  total_bc_limit  total_il_high_credit_limit  \\\n",
       "0                 74787.0         49500.0                    105910.0   \n",
       "1                 44786.0         44000.0                     51081.0   \n",
       "2                 57302.0         58500.0                     31758.0   \n",
       "3                152571.0         43400.0                    146568.0   \n",
       "5                 42952.0         33200.0                     37909.0   \n",
       "...                   ...             ...                         ...   \n",
       "421090             8621.0          9000.0                         0.0   \n",
       "421091            25274.0          9200.0                     15850.0   \n",
       "421092            58418.0          9700.0                     69919.0   \n",
       "421093            34178.0         10600.0                     33239.0   \n",
       "421094            33307.0         41700.0                         0.0   \n",
       "\n",
       "        total_rev_hi_lim verification_status zip_code  \n",
       "0                73200.0        Not Verified    660xx  \n",
       "1                45500.0        Not Verified    054xx  \n",
       "2                83600.0            Verified    471xx  \n",
       "3                43400.0        Not Verified    430xx  \n",
       "5                55000.0     Source Verified    441xx  \n",
       "...                  ...                 ...      ...  \n",
       "421090           10200.0            Verified    072xx  \n",
       "421091           17100.0            Verified    905xx  \n",
       "421092           27000.0     Source Verified    010xx  \n",
       "421093           18000.0            Verified    378xx  \n",
       "421094           41700.0            Verified    331xx  \n",
       "\n",
       "[416460 rows x 10 columns]"
      ]
     },
     "execution_count": 53,
     "metadata": {},
     "output_type": "execute_result"
    }
   ],
   "source": [
    "reduced_data.iloc[:, 55:65]   # we can change the range of columns \n",
    "                            # and eventually see all the columns"
   ]
  },
  {
   "cell_type": "markdown",
   "metadata": {},
   "source": [
    "After careful review of the columns, I decided to use the following features:\n",
    "\"annual_inc\", \"avg_cur_bal\", \"chargeoff_within_12_mths\", \"delinq_2yrs\", \"dti\", \n",
    "\"funded_amnt_inv\", \"grade\", \"installment\", \"loan_amnt\",\"loan_status\",  \"num_accts_ever_120_pd\", \"num_bc_sats\", \"num_sats\", \"open_acc\", \"pct_tl_nvr_dlq\", \n",
    "\"pub_rec_bankruptcies\", \"revol_bal\", \"tot_cur_bal\". I investigated each column by printing\n",
    "their unique and nonzero values, and decided to have these parameters as the features to \n",
    "predict the charge-off rates. We will split our data into ~ 80%-20% as the training and\n",
    "the testing parts and see if we were able to find the same labels for the loan status."
   ]
  },
  {
   "cell_type": "markdown",
   "metadata": {},
   "source": [
    "Since I counted \"Charge-off\" and \"Default\" as the charge-off and the rest as non-charge-off, \n",
    "as a simplified model I will rename the loan status as \"charge-off == 1\" and \"non-charge-off == 0\", and we can use a logistic regression to predict the charge-off rates. "
   ]
  },
  {
   "cell_type": "markdown",
   "metadata": {},
   "source": [
    "So now we select the the above columns and create our data set that we are going to use\n",
    "create a machine learning model."
   ]
  },
  {
   "cell_type": "code",
   "execution_count": 67,
   "metadata": {},
   "outputs": [
    {
     "name": "stdout",
     "output_type": "stream",
     "text": [
      "annual_inc                  float64\n",
      "avg_cur_bal                 float64\n",
      "chargeoff_within_12_mths    float64\n",
      "delinq_2yrs                 float64\n",
      "dti                         float64\n",
      "funded_amnt_inv             float64\n",
      "installment                 float64\n",
      "loan_amnt                   float64\n",
      "num_accts_ever_120_pd       float64\n",
      "num_bc_sats                 float64\n",
      "num_sats                    float64\n",
      "open_acc                    float64\n",
      "pct_tl_nvr_dlq              float64\n",
      "pub_rec_bankruptcies        float64\n",
      "revol_bal                   float64\n",
      "tot_cur_bal                 float64\n",
      "dtype: object\n",
      "int64\n"
     ]
    }
   ],
   "source": [
    "features = reduced_data[[\"annual_inc\", \"avg_cur_bal\", \"chargeoff_within_12_mths\", \n",
    "                         \"delinq_2yrs\", \"dti\", \"funded_amnt_inv\", \"installment\", \"loan_amnt\", \n",
    "                         \"num_accts_ever_120_pd\", \"num_bc_sats\", \"num_sats\", \"open_acc\", \n",
    "                         \"pct_tl_nvr_dlq\", \"pub_rec_bankruptcies\", \"revol_bal\", \"tot_cur_bal\"]]\n",
    "\n",
    "\n",
    "\n",
    "\n",
    "\n",
    "labels = reduced_data[\"loan_status\"].replace({'Fully Paid': 0, 'Current': 0, \n",
    "                                              'Charged Off': 1, 'Late (16-30 days)': 0,\n",
    "                                             'Late (31-120 days)': 0, 'In Grace Period': 0,\n",
    "                                             'Default': 1})\n",
    "print(features.dtypes)\n",
    "print(labels.dtype)"
   ]
  },
  {
   "cell_type": "markdown",
   "metadata": {},
   "source": [
    "\"annual_inc\" - annual income is definitely one of the features that tell if a person is capable of paying back his/her loan\n",
    "\n",
    "\"avg_cur_bal\" - average current balance in a person's account also tell if the person is capable of paying everything back. If this balance is too big, it increases the risk of being charged-off\n",
    "\n",
    "\"chargeoff_within_12_mths\" - the number of charged-off cases within the last 12 months will also tell if a person is going to be charged-off in the future. Same thing can be said about \"delinq_2yrs\"\n",
    "\n",
    "\n",
    "\"installment\" - the monthly payment owed by the borrower if the loan originated. This tells the amount of loan a borrower should pay every month. If this amount is too big, a person may not be able to pay it in full.\n",
    "\n",
    "\"loan_amnt\" - amount of loan is definitely the number we should be looking for to calculate the chances of being charged-off\n",
    "\n",
    "\"num_bc_sats\", \"num_sats\" - number of satisfactory accounts. This also tells us the history of the bank accounts that were fully paid or not.\n",
    "\n",
    "\"pub_rec_bankruptcies\" - tells us if a borrower has been bankrupt in the past and should be relevant to calculate the future risks\n",
    "\n",
    "\"revol_bal\", \"tot_cur_bal\" - revolving and current total balances in all accounts tell us how much the borrower owes to the bank, which can also increase the chance of being charged off"
   ]
  },
  {
   "cell_type": "code",
   "execution_count": 68,
   "metadata": {},
   "outputs": [
    {
     "data": {
      "text/html": [
       "<div>\n",
       "<style scoped>\n",
       "    .dataframe tbody tr th:only-of-type {\n",
       "        vertical-align: middle;\n",
       "    }\n",
       "\n",
       "    .dataframe tbody tr th {\n",
       "        vertical-align: top;\n",
       "    }\n",
       "\n",
       "    .dataframe thead th {\n",
       "        text-align: right;\n",
       "    }\n",
       "</style>\n",
       "<table border=\"1\" class=\"dataframe\">\n",
       "  <thead>\n",
       "    <tr style=\"text-align: right;\">\n",
       "      <th></th>\n",
       "      <th>annual_inc</th>\n",
       "      <th>avg_cur_bal</th>\n",
       "      <th>chargeoff_within_12_mths</th>\n",
       "      <th>delinq_2yrs</th>\n",
       "      <th>dti</th>\n",
       "      <th>funded_amnt_inv</th>\n",
       "      <th>installment</th>\n",
       "      <th>loan_amnt</th>\n",
       "      <th>num_accts_ever_120_pd</th>\n",
       "      <th>num_bc_sats</th>\n",
       "      <th>num_sats</th>\n",
       "      <th>open_acc</th>\n",
       "      <th>pct_tl_nvr_dlq</th>\n",
       "      <th>pub_rec_bankruptcies</th>\n",
       "      <th>revol_bal</th>\n",
       "      <th>tot_cur_bal</th>\n",
       "    </tr>\n",
       "  </thead>\n",
       "  <tbody>\n",
       "    <tr>\n",
       "      <td>0</td>\n",
       "      <td>65000.0</td>\n",
       "      <td>10086.0</td>\n",
       "      <td>0.0</td>\n",
       "      <td>0.0</td>\n",
       "      <td>23.84</td>\n",
       "      <td>12000.0</td>\n",
       "      <td>253.79</td>\n",
       "      <td>12000.0</td>\n",
       "      <td>0.0</td>\n",
       "      <td>5.0</td>\n",
       "      <td>18.0</td>\n",
       "      <td>18.0</td>\n",
       "      <td>100.0</td>\n",
       "      <td>0.0</td>\n",
       "      <td>9786.0</td>\n",
       "      <td>181540.0</td>\n",
       "    </tr>\n",
       "    <tr>\n",
       "      <td>1</td>\n",
       "      <td>150000.0</td>\n",
       "      <td>61551.0</td>\n",
       "      <td>0.0</td>\n",
       "      <td>0.0</td>\n",
       "      <td>9.54</td>\n",
       "      <td>25000.0</td>\n",
       "      <td>752.87</td>\n",
       "      <td>25000.0</td>\n",
       "      <td>0.0</td>\n",
       "      <td>3.0</td>\n",
       "      <td>7.0</td>\n",
       "      <td>7.0</td>\n",
       "      <td>100.0</td>\n",
       "      <td>0.0</td>\n",
       "      <td>19339.0</td>\n",
       "      <td>430856.0</td>\n",
       "    </tr>\n",
       "    <tr>\n",
       "      <td>2</td>\n",
       "      <td>75000.0</td>\n",
       "      <td>7176.0</td>\n",
       "      <td>0.0</td>\n",
       "      <td>0.0</td>\n",
       "      <td>31.88</td>\n",
       "      <td>28000.0</td>\n",
       "      <td>718.51</td>\n",
       "      <td>28000.0</td>\n",
       "      <td>0.0</td>\n",
       "      <td>14.0</td>\n",
       "      <td>27.0</td>\n",
       "      <td>27.0</td>\n",
       "      <td>100.0</td>\n",
       "      <td>0.0</td>\n",
       "      <td>43413.0</td>\n",
       "      <td>193745.0</td>\n",
       "    </tr>\n",
       "    <tr>\n",
       "      <td>3</td>\n",
       "      <td>175000.0</td>\n",
       "      <td>51015.0</td>\n",
       "      <td>0.0</td>\n",
       "      <td>0.0</td>\n",
       "      <td>18.50</td>\n",
       "      <td>30000.0</td>\n",
       "      <td>1051.31</td>\n",
       "      <td>30000.0</td>\n",
       "      <td>0.0</td>\n",
       "      <td>3.0</td>\n",
       "      <td>9.0</td>\n",
       "      <td>9.0</td>\n",
       "      <td>95.7</td>\n",
       "      <td>0.0</td>\n",
       "      <td>21831.0</td>\n",
       "      <td>408118.0</td>\n",
       "    </tr>\n",
       "    <tr>\n",
       "      <td>5</td>\n",
       "      <td>104000.0</td>\n",
       "      <td>3068.0</td>\n",
       "      <td>0.0</td>\n",
       "      <td>0.0</td>\n",
       "      <td>14.01</td>\n",
       "      <td>33600.0</td>\n",
       "      <td>1096.53</td>\n",
       "      <td>33600.0</td>\n",
       "      <td>1.0</td>\n",
       "      <td>6.0</td>\n",
       "      <td>14.0</td>\n",
       "      <td>14.0</td>\n",
       "      <td>96.8</td>\n",
       "      <td>0.0</td>\n",
       "      <td>28475.0</td>\n",
       "      <td>42952.0</td>\n",
       "    </tr>\n",
       "    <tr>\n",
       "      <td>...</td>\n",
       "      <td>...</td>\n",
       "      <td>...</td>\n",
       "      <td>...</td>\n",
       "      <td>...</td>\n",
       "      <td>...</td>\n",
       "      <td>...</td>\n",
       "      <td>...</td>\n",
       "      <td>...</td>\n",
       "      <td>...</td>\n",
       "      <td>...</td>\n",
       "      <td>...</td>\n",
       "      <td>...</td>\n",
       "      <td>...</td>\n",
       "      <td>...</td>\n",
       "      <td>...</td>\n",
       "      <td>...</td>\n",
       "    </tr>\n",
       "    <tr>\n",
       "      <td>421090</td>\n",
       "      <td>79000.0</td>\n",
       "      <td>35071.0</td>\n",
       "      <td>0.0</td>\n",
       "      <td>0.0</td>\n",
       "      <td>3.90</td>\n",
       "      <td>24000.0</td>\n",
       "      <td>797.03</td>\n",
       "      <td>24000.0</td>\n",
       "      <td>10.0</td>\n",
       "      <td>3.0</td>\n",
       "      <td>5.0</td>\n",
       "      <td>5.0</td>\n",
       "      <td>56.5</td>\n",
       "      <td>0.0</td>\n",
       "      <td>8621.0</td>\n",
       "      <td>140285.0</td>\n",
       "    </tr>\n",
       "    <tr>\n",
       "      <td>421091</td>\n",
       "      <td>31000.0</td>\n",
       "      <td>3159.0</td>\n",
       "      <td>0.0</td>\n",
       "      <td>0.0</td>\n",
       "      <td>28.69</td>\n",
       "      <td>10000.0</td>\n",
       "      <td>332.10</td>\n",
       "      <td>10000.0</td>\n",
       "      <td>0.0</td>\n",
       "      <td>3.0</td>\n",
       "      <td>9.0</td>\n",
       "      <td>9.0</td>\n",
       "      <td>100.0</td>\n",
       "      <td>0.0</td>\n",
       "      <td>14037.0</td>\n",
       "      <td>25274.0</td>\n",
       "    </tr>\n",
       "    <tr>\n",
       "      <td>421092</td>\n",
       "      <td>64400.0</td>\n",
       "      <td>3895.0</td>\n",
       "      <td>0.0</td>\n",
       "      <td>1.0</td>\n",
       "      <td>27.19</td>\n",
       "      <td>12000.0</td>\n",
       "      <td>317.86</td>\n",
       "      <td>12000.0</td>\n",
       "      <td>1.0</td>\n",
       "      <td>7.0</td>\n",
       "      <td>17.0</td>\n",
       "      <td>17.0</td>\n",
       "      <td>95.0</td>\n",
       "      <td>0.0</td>\n",
       "      <td>8254.0</td>\n",
       "      <td>58418.0</td>\n",
       "    </tr>\n",
       "    <tr>\n",
       "      <td>421093</td>\n",
       "      <td>35000.0</td>\n",
       "      <td>3798.0</td>\n",
       "      <td>0.0</td>\n",
       "      <td>0.0</td>\n",
       "      <td>30.90</td>\n",
       "      <td>13000.0</td>\n",
       "      <td>316.07</td>\n",
       "      <td>13000.0</td>\n",
       "      <td>0.0</td>\n",
       "      <td>4.0</td>\n",
       "      <td>9.0</td>\n",
       "      <td>9.0</td>\n",
       "      <td>100.0</td>\n",
       "      <td>1.0</td>\n",
       "      <td>11031.0</td>\n",
       "      <td>34178.0</td>\n",
       "    </tr>\n",
       "    <tr>\n",
       "      <td>421094</td>\n",
       "      <td>100000.0</td>\n",
       "      <td>4163.0</td>\n",
       "      <td>0.0</td>\n",
       "      <td>0.0</td>\n",
       "      <td>10.83</td>\n",
       "      <td>20000.0</td>\n",
       "      <td>664.20</td>\n",
       "      <td>20000.0</td>\n",
       "      <td>0.0</td>\n",
       "      <td>6.0</td>\n",
       "      <td>8.0</td>\n",
       "      <td>8.0</td>\n",
       "      <td>100.0</td>\n",
       "      <td>0.0</td>\n",
       "      <td>33266.0</td>\n",
       "      <td>33307.0</td>\n",
       "    </tr>\n",
       "  </tbody>\n",
       "</table>\n",
       "<p>416460 rows × 16 columns</p>\n",
       "</div>"
      ],
      "text/plain": [
       "        annual_inc  avg_cur_bal  chargeoff_within_12_mths  delinq_2yrs    dti  \\\n",
       "0          65000.0      10086.0                       0.0          0.0  23.84   \n",
       "1         150000.0      61551.0                       0.0          0.0   9.54   \n",
       "2          75000.0       7176.0                       0.0          0.0  31.88   \n",
       "3         175000.0      51015.0                       0.0          0.0  18.50   \n",
       "5         104000.0       3068.0                       0.0          0.0  14.01   \n",
       "...            ...          ...                       ...          ...    ...   \n",
       "421090     79000.0      35071.0                       0.0          0.0   3.90   \n",
       "421091     31000.0       3159.0                       0.0          0.0  28.69   \n",
       "421092     64400.0       3895.0                       0.0          1.0  27.19   \n",
       "421093     35000.0       3798.0                       0.0          0.0  30.90   \n",
       "421094    100000.0       4163.0                       0.0          0.0  10.83   \n",
       "\n",
       "        funded_amnt_inv  installment  loan_amnt  num_accts_ever_120_pd  \\\n",
       "0               12000.0       253.79    12000.0                    0.0   \n",
       "1               25000.0       752.87    25000.0                    0.0   \n",
       "2               28000.0       718.51    28000.0                    0.0   \n",
       "3               30000.0      1051.31    30000.0                    0.0   \n",
       "5               33600.0      1096.53    33600.0                    1.0   \n",
       "...                 ...          ...        ...                    ...   \n",
       "421090          24000.0       797.03    24000.0                   10.0   \n",
       "421091          10000.0       332.10    10000.0                    0.0   \n",
       "421092          12000.0       317.86    12000.0                    1.0   \n",
       "421093          13000.0       316.07    13000.0                    0.0   \n",
       "421094          20000.0       664.20    20000.0                    0.0   \n",
       "\n",
       "        num_bc_sats  num_sats  open_acc  pct_tl_nvr_dlq  pub_rec_bankruptcies  \\\n",
       "0               5.0      18.0      18.0           100.0                   0.0   \n",
       "1               3.0       7.0       7.0           100.0                   0.0   \n",
       "2              14.0      27.0      27.0           100.0                   0.0   \n",
       "3               3.0       9.0       9.0            95.7                   0.0   \n",
       "5               6.0      14.0      14.0            96.8                   0.0   \n",
       "...             ...       ...       ...             ...                   ...   \n",
       "421090          3.0       5.0       5.0            56.5                   0.0   \n",
       "421091          3.0       9.0       9.0           100.0                   0.0   \n",
       "421092          7.0      17.0      17.0            95.0                   0.0   \n",
       "421093          4.0       9.0       9.0           100.0                   1.0   \n",
       "421094          6.0       8.0       8.0           100.0                   0.0   \n",
       "\n",
       "        revol_bal  tot_cur_bal  \n",
       "0          9786.0     181540.0  \n",
       "1         19339.0     430856.0  \n",
       "2         43413.0     193745.0  \n",
       "3         21831.0     408118.0  \n",
       "5         28475.0      42952.0  \n",
       "...           ...          ...  \n",
       "421090     8621.0     140285.0  \n",
       "421091    14037.0      25274.0  \n",
       "421092     8254.0      58418.0  \n",
       "421093    11031.0      34178.0  \n",
       "421094    33266.0      33307.0  \n",
       "\n",
       "[416460 rows x 16 columns]"
      ]
     },
     "execution_count": 68,
     "metadata": {},
     "output_type": "execute_result"
    }
   ],
   "source": [
    "features"
   ]
  },
  {
   "cell_type": "markdown",
   "metadata": {},
   "source": [
    "Since every feature of this data ranges between different numbers, we need to normalize each feature, and make them take values between 0 and 1, so that when we feed our data to the machine learning algorithm no specific data will dominate and every feature will contribute equally. For that we can do:"
   ]
  },
  {
   "cell_type": "code",
   "execution_count": 69,
   "metadata": {},
   "outputs": [],
   "source": [
    "from sklearn import preprocessing"
   ]
  },
  {
   "cell_type": "code",
   "execution_count": 70,
   "metadata": {},
   "outputs": [],
   "source": [
    "x = features.values #returns a numpy array\n",
    "min_max_scaler = preprocessing.MinMaxScaler()\n",
    "x_scaled = min_max_scaler.fit_transform(x) #normalized data\n",
    "norm_features = pd.DataFrame(x_scaled, columns=features.columns) #normalized dataframe"
   ]
  },
  {
   "cell_type": "code",
   "execution_count": 71,
   "metadata": {},
   "outputs": [
    {
     "data": {
      "text/html": [
       "<div>\n",
       "<style scoped>\n",
       "    .dataframe tbody tr th:only-of-type {\n",
       "        vertical-align: middle;\n",
       "    }\n",
       "\n",
       "    .dataframe tbody tr th {\n",
       "        vertical-align: top;\n",
       "    }\n",
       "\n",
       "    .dataframe thead th {\n",
       "        text-align: right;\n",
       "    }\n",
       "</style>\n",
       "<table border=\"1\" class=\"dataframe\">\n",
       "  <thead>\n",
       "    <tr style=\"text-align: right;\">\n",
       "      <th></th>\n",
       "      <th>annual_inc</th>\n",
       "      <th>avg_cur_bal</th>\n",
       "      <th>chargeoff_within_12_mths</th>\n",
       "      <th>delinq_2yrs</th>\n",
       "      <th>dti</th>\n",
       "      <th>funded_amnt_inv</th>\n",
       "      <th>installment</th>\n",
       "      <th>loan_amnt</th>\n",
       "      <th>num_accts_ever_120_pd</th>\n",
       "      <th>num_bc_sats</th>\n",
       "      <th>num_sats</th>\n",
       "      <th>open_acc</th>\n",
       "      <th>pct_tl_nvr_dlq</th>\n",
       "      <th>pub_rec_bankruptcies</th>\n",
       "      <th>revol_bal</th>\n",
       "      <th>tot_cur_bal</th>\n",
       "    </tr>\n",
       "  </thead>\n",
       "  <tbody>\n",
       "    <tr>\n",
       "      <td>0</td>\n",
       "      <td>0.006717</td>\n",
       "      <td>0.018143</td>\n",
       "      <td>0.0</td>\n",
       "      <td>0.000000</td>\n",
       "      <td>0.023864</td>\n",
       "      <td>0.325513</td>\n",
       "      <td>0.167508</td>\n",
       "      <td>0.323529</td>\n",
       "      <td>0.000000</td>\n",
       "      <td>0.079365</td>\n",
       "      <td>0.191011</td>\n",
       "      <td>0.191011</td>\n",
       "      <td>1.000</td>\n",
       "      <td>0.000000</td>\n",
       "      <td>0.003369</td>\n",
       "      <td>0.040819</td>\n",
       "    </tr>\n",
       "    <tr>\n",
       "      <td>1</td>\n",
       "      <td>0.015665</td>\n",
       "      <td>0.110718</td>\n",
       "      <td>0.0</td>\n",
       "      <td>0.000000</td>\n",
       "      <td>0.009550</td>\n",
       "      <td>0.706745</td>\n",
       "      <td>0.516162</td>\n",
       "      <td>0.705882</td>\n",
       "      <td>0.000000</td>\n",
       "      <td>0.047619</td>\n",
       "      <td>0.067416</td>\n",
       "      <td>0.067416</td>\n",
       "      <td>1.000</td>\n",
       "      <td>0.000000</td>\n",
       "      <td>0.006658</td>\n",
       "      <td>0.096878</td>\n",
       "    </tr>\n",
       "    <tr>\n",
       "      <td>2</td>\n",
       "      <td>0.007769</td>\n",
       "      <td>0.012908</td>\n",
       "      <td>0.0</td>\n",
       "      <td>0.000000</td>\n",
       "      <td>0.031912</td>\n",
       "      <td>0.794721</td>\n",
       "      <td>0.492158</td>\n",
       "      <td>0.794118</td>\n",
       "      <td>0.000000</td>\n",
       "      <td>0.222222</td>\n",
       "      <td>0.292135</td>\n",
       "      <td>0.292135</td>\n",
       "      <td>1.000</td>\n",
       "      <td>0.000000</td>\n",
       "      <td>0.014945</td>\n",
       "      <td>0.043564</td>\n",
       "    </tr>\n",
       "    <tr>\n",
       "      <td>3</td>\n",
       "      <td>0.018297</td>\n",
       "      <td>0.091766</td>\n",
       "      <td>0.0</td>\n",
       "      <td>0.000000</td>\n",
       "      <td>0.018519</td>\n",
       "      <td>0.853372</td>\n",
       "      <td>0.724650</td>\n",
       "      <td>0.852941</td>\n",
       "      <td>0.000000</td>\n",
       "      <td>0.047619</td>\n",
       "      <td>0.089888</td>\n",
       "      <td>0.089888</td>\n",
       "      <td>0.957</td>\n",
       "      <td>0.000000</td>\n",
       "      <td>0.007515</td>\n",
       "      <td>0.091766</td>\n",
       "    </tr>\n",
       "    <tr>\n",
       "      <td>4</td>\n",
       "      <td>0.010822</td>\n",
       "      <td>0.005519</td>\n",
       "      <td>0.0</td>\n",
       "      <td>0.000000</td>\n",
       "      <td>0.014024</td>\n",
       "      <td>0.958944</td>\n",
       "      <td>0.756240</td>\n",
       "      <td>0.958824</td>\n",
       "      <td>0.025641</td>\n",
       "      <td>0.095238</td>\n",
       "      <td>0.146067</td>\n",
       "      <td>0.146067</td>\n",
       "      <td>0.968</td>\n",
       "      <td>0.000000</td>\n",
       "      <td>0.009803</td>\n",
       "      <td>0.009658</td>\n",
       "    </tr>\n",
       "    <tr>\n",
       "      <td>...</td>\n",
       "      <td>...</td>\n",
       "      <td>...</td>\n",
       "      <td>...</td>\n",
       "      <td>...</td>\n",
       "      <td>...</td>\n",
       "      <td>...</td>\n",
       "      <td>...</td>\n",
       "      <td>...</td>\n",
       "      <td>...</td>\n",
       "      <td>...</td>\n",
       "      <td>...</td>\n",
       "      <td>...</td>\n",
       "      <td>...</td>\n",
       "      <td>...</td>\n",
       "      <td>...</td>\n",
       "      <td>...</td>\n",
       "    </tr>\n",
       "    <tr>\n",
       "      <td>416455</td>\n",
       "      <td>0.008191</td>\n",
       "      <td>0.063086</td>\n",
       "      <td>0.0</td>\n",
       "      <td>0.000000</td>\n",
       "      <td>0.003904</td>\n",
       "      <td>0.677419</td>\n",
       "      <td>0.547012</td>\n",
       "      <td>0.676471</td>\n",
       "      <td>0.256410</td>\n",
       "      <td>0.047619</td>\n",
       "      <td>0.044944</td>\n",
       "      <td>0.044944</td>\n",
       "      <td>0.565</td>\n",
       "      <td>0.000000</td>\n",
       "      <td>0.002968</td>\n",
       "      <td>0.031543</td>\n",
       "    </tr>\n",
       "    <tr>\n",
       "      <td>416456</td>\n",
       "      <td>0.003137</td>\n",
       "      <td>0.005682</td>\n",
       "      <td>0.0</td>\n",
       "      <td>0.000000</td>\n",
       "      <td>0.028719</td>\n",
       "      <td>0.266862</td>\n",
       "      <td>0.222215</td>\n",
       "      <td>0.264706</td>\n",
       "      <td>0.000000</td>\n",
       "      <td>0.047619</td>\n",
       "      <td>0.089888</td>\n",
       "      <td>0.089888</td>\n",
       "      <td>1.000</td>\n",
       "      <td>0.000000</td>\n",
       "      <td>0.004832</td>\n",
       "      <td>0.005683</td>\n",
       "    </tr>\n",
       "    <tr>\n",
       "      <td>416457</td>\n",
       "      <td>0.006653</td>\n",
       "      <td>0.007006</td>\n",
       "      <td>0.0</td>\n",
       "      <td>0.025641</td>\n",
       "      <td>0.027217</td>\n",
       "      <td>0.325513</td>\n",
       "      <td>0.212267</td>\n",
       "      <td>0.323529</td>\n",
       "      <td>0.025641</td>\n",
       "      <td>0.111111</td>\n",
       "      <td>0.179775</td>\n",
       "      <td>0.179775</td>\n",
       "      <td>0.950</td>\n",
       "      <td>0.000000</td>\n",
       "      <td>0.002841</td>\n",
       "      <td>0.013135</td>\n",
       "    </tr>\n",
       "    <tr>\n",
       "      <td>416458</td>\n",
       "      <td>0.003558</td>\n",
       "      <td>0.006832</td>\n",
       "      <td>0.0</td>\n",
       "      <td>0.000000</td>\n",
       "      <td>0.030931</td>\n",
       "      <td>0.354839</td>\n",
       "      <td>0.211017</td>\n",
       "      <td>0.352941</td>\n",
       "      <td>0.000000</td>\n",
       "      <td>0.063492</td>\n",
       "      <td>0.089888</td>\n",
       "      <td>0.089888</td>\n",
       "      <td>1.000</td>\n",
       "      <td>0.090909</td>\n",
       "      <td>0.003797</td>\n",
       "      <td>0.007685</td>\n",
       "    </tr>\n",
       "    <tr>\n",
       "      <td>416459</td>\n",
       "      <td>0.010401</td>\n",
       "      <td>0.007488</td>\n",
       "      <td>0.0</td>\n",
       "      <td>0.000000</td>\n",
       "      <td>0.010841</td>\n",
       "      <td>0.560117</td>\n",
       "      <td>0.454218</td>\n",
       "      <td>0.558824</td>\n",
       "      <td>0.000000</td>\n",
       "      <td>0.095238</td>\n",
       "      <td>0.078652</td>\n",
       "      <td>0.078652</td>\n",
       "      <td>1.000</td>\n",
       "      <td>0.000000</td>\n",
       "      <td>0.011452</td>\n",
       "      <td>0.007489</td>\n",
       "    </tr>\n",
       "  </tbody>\n",
       "</table>\n",
       "<p>416460 rows × 16 columns</p>\n",
       "</div>"
      ],
      "text/plain": [
       "        annual_inc  avg_cur_bal  chargeoff_within_12_mths  delinq_2yrs  \\\n",
       "0         0.006717     0.018143                       0.0     0.000000   \n",
       "1         0.015665     0.110718                       0.0     0.000000   \n",
       "2         0.007769     0.012908                       0.0     0.000000   \n",
       "3         0.018297     0.091766                       0.0     0.000000   \n",
       "4         0.010822     0.005519                       0.0     0.000000   \n",
       "...            ...          ...                       ...          ...   \n",
       "416455    0.008191     0.063086                       0.0     0.000000   \n",
       "416456    0.003137     0.005682                       0.0     0.000000   \n",
       "416457    0.006653     0.007006                       0.0     0.025641   \n",
       "416458    0.003558     0.006832                       0.0     0.000000   \n",
       "416459    0.010401     0.007488                       0.0     0.000000   \n",
       "\n",
       "             dti  funded_amnt_inv  installment  loan_amnt  \\\n",
       "0       0.023864         0.325513     0.167508   0.323529   \n",
       "1       0.009550         0.706745     0.516162   0.705882   \n",
       "2       0.031912         0.794721     0.492158   0.794118   \n",
       "3       0.018519         0.853372     0.724650   0.852941   \n",
       "4       0.014024         0.958944     0.756240   0.958824   \n",
       "...          ...              ...          ...        ...   \n",
       "416455  0.003904         0.677419     0.547012   0.676471   \n",
       "416456  0.028719         0.266862     0.222215   0.264706   \n",
       "416457  0.027217         0.325513     0.212267   0.323529   \n",
       "416458  0.030931         0.354839     0.211017   0.352941   \n",
       "416459  0.010841         0.560117     0.454218   0.558824   \n",
       "\n",
       "        num_accts_ever_120_pd  num_bc_sats  num_sats  open_acc  \\\n",
       "0                    0.000000     0.079365  0.191011  0.191011   \n",
       "1                    0.000000     0.047619  0.067416  0.067416   \n",
       "2                    0.000000     0.222222  0.292135  0.292135   \n",
       "3                    0.000000     0.047619  0.089888  0.089888   \n",
       "4                    0.025641     0.095238  0.146067  0.146067   \n",
       "...                       ...          ...       ...       ...   \n",
       "416455               0.256410     0.047619  0.044944  0.044944   \n",
       "416456               0.000000     0.047619  0.089888  0.089888   \n",
       "416457               0.025641     0.111111  0.179775  0.179775   \n",
       "416458               0.000000     0.063492  0.089888  0.089888   \n",
       "416459               0.000000     0.095238  0.078652  0.078652   \n",
       "\n",
       "        pct_tl_nvr_dlq  pub_rec_bankruptcies  revol_bal  tot_cur_bal  \n",
       "0                1.000              0.000000   0.003369     0.040819  \n",
       "1                1.000              0.000000   0.006658     0.096878  \n",
       "2                1.000              0.000000   0.014945     0.043564  \n",
       "3                0.957              0.000000   0.007515     0.091766  \n",
       "4                0.968              0.000000   0.009803     0.009658  \n",
       "...                ...                   ...        ...          ...  \n",
       "416455           0.565              0.000000   0.002968     0.031543  \n",
       "416456           1.000              0.000000   0.004832     0.005683  \n",
       "416457           0.950              0.000000   0.002841     0.013135  \n",
       "416458           1.000              0.090909   0.003797     0.007685  \n",
       "416459           1.000              0.000000   0.011452     0.007489  \n",
       "\n",
       "[416460 rows x 16 columns]"
      ]
     },
     "execution_count": 71,
     "metadata": {},
     "output_type": "execute_result"
    }
   ],
   "source": [
    "norm_features # check the numbers"
   ]
  },
  {
   "cell_type": "markdown",
   "metadata": {},
   "source": [
    "Now we need to split our data into training and testing parts as ~80% and ~20% respectively:"
   ]
  },
  {
   "cell_type": "code",
   "execution_count": 72,
   "metadata": {},
   "outputs": [],
   "source": [
    "X_train = x_scaled[ :330000,:] # 330 000 by 16 matrix\n",
    "Y_train = labels[ :330000] # 330 000 elements\n",
    "X_test = x_scaled[330000: ,:] # 86460 by 16 matrix\n",
    "Y_test = labels[330000:] # 86460 elements"
   ]
  },
  {
   "cell_type": "code",
   "execution_count": 73,
   "metadata": {},
   "outputs": [],
   "source": [
    "from sklearn.linear_model import LogisticRegression\n",
    "from sklearn.metrics import accuracy_score"
   ]
  },
  {
   "cell_type": "code",
   "execution_count": 74,
   "metadata": {},
   "outputs": [
    {
     "name": "stdout",
     "output_type": "stream",
     "text": [
      "Predicted outcomes of the test data:  [0 0 0 ... 0 0 0]\n"
     ]
    }
   ],
   "source": [
    "classifier = LogisticRegression(random_state=0).fit(X_train, Y_train)\n",
    "Y_predict = classifier.predict(X_test)\n",
    "print(\"Predicted outcomes of the test data: \", Y_predict)"
   ]
  },
  {
   "cell_type": "code",
   "execution_count": 75,
   "metadata": {},
   "outputs": [
    {
     "name": "stdout",
     "output_type": "stream",
     "text": [
      "The accuracy of our prediction is:  83.21 %\n"
     ]
    }
   ],
   "source": [
    "accuracy = accuracy_score(Y_test, Y_predict)\n",
    "print(\"The accuracy of our prediction is: \", round(accuracy*100, 2), \"%\")"
   ]
  },
  {
   "cell_type": "markdown",
   "metadata": {},
   "source": [
    "Accuracy of our prediction for a certain loan to be charged-off was found to be 83.2%,\n",
    "which is not too bad, but still needs some improvement. I believe there could be several\n",
    "issues we might address in order to increase the accuracy of our prediction.\n",
    "Firstly, we did not include all the features given to us. Since I do not have a degree in finance, I could not understand some of the features, i. e. I could not see and justify how those features might be reflected in calculating the charge-off, hence I did not include all of them. Secondly, I could spend more time on preprocessing data and trying to find all possible inconsistencies in the data provided to us. This extra steps probably would give us better data and more accurate results. "
   ]
  },
  {
   "cell_type": "markdown",
   "metadata": {},
   "source": [
    "# Section C"
   ]
  },
  {
   "cell_type": "markdown",
   "metadata": {},
   "source": [
    "### Logistic Regression Explained to mathematician:"
   ]
  },
  {
   "cell_type": "markdown",
   "metadata": {},
   "source": [
    "Logistic Regression is a part of supervised machine learning where we need to train our system based on the data given in order to predict the discrete outcomes of the new data. From statistical point of view it is important to have all our data, whether it is the train data or the test data, to be from the same statistical sample. Logistic Regression is needed when we want to predict an outcome that has a discrete value, such as classification limited number of figures. Let's say we have a collection of labeled examples $\\{(x_i, y_i)\\}_{i=1}^N$, where N is the size of the collection, $x_i$ is the $D$-dimensional feature vector of example $i = 1, 2, ..., N $,  $y_i$ is the real valued target that has a discrete value of 0 or 1, and every freature $x_i^{(j)}, j = 1,...,D$ is also a real number. "
   ]
  },
  {
   "cell_type": "markdown",
   "metadata": {},
   "source": [
    "We want to build a model with hypothesis $h_{\\theta}(x)$ such that the outcome is either 0 or 1. We can do so by constructing a linear combination of features of examples under the sigmoid function (logistic function) as:"
   ]
  },
  {
   "cell_type": "markdown",
   "metadata": {},
   "source": [
    "$h_{\\theta}(x_i) = g(\\theta^T x_i) = \\frac{1}{1 + e^{-\\theta^T x_i}}$\n",
    "\n",
    "where:\n",
    "\n",
    "$\\theta^T x_i = \\sum_{j=1}^D \\theta^{(j)} x_i^{(j)}$"
   ]
  },
  {
   "cell_type": "markdown",
   "metadata": {},
   "source": [
    "This is a hypothesis that predicts the outcome of one specific example. Here $h_{\\theta}(x_{i})$ is the prediction of each example based on the features of $x_{i}$, $\\theta^{(j)}$ represents the collection of parameters, or weights, for each feature of $x_i$. The sigmoid function has such features so that when we are far from the zero point for $\\theta^T x_i$ it takes values either 0 or 1, which is a good function for logical operations. Our goal now is to make this prediction to be as close as possible to the real value $y_i$. One way we can approach this problem is to calculate the likelihood of a certain outcome. "
   ]
  },
  {
   "cell_type": "markdown",
   "metadata": {},
   "source": [
    "Now, let's assume that:\n",
    "\n",
    "$P(y = 1| x; \\theta) = h_{\\theta}(x)$\n",
    "\n",
    "$P(y = 0| x; \\theta) = 1-h_{\\theta}(x)$\n",
    "\n",
    "so that in a more compact form this can be written as:\n",
    "\n",
    "$P(y | x; \\theta) = (h_{\\theta}(x))^y (1 - h_{\\theta}(x))^{1-y}$"
   ]
  },
  {
   "cell_type": "markdown",
   "metadata": {},
   "source": [
    "The total likelihood of a certain outcome is the multiplication of probabilities of all the independent outcomes (here we assume that every data is independent from each other):\n",
    "    \n",
    "$L(\\theta) = \\prod_{i=1}^N P(y_{i} | x_i; \\theta) = \\prod_{i=1}^N (h_{\\theta}(x_i))^{y_i} (1 - h_{\\theta}(x_i))^{1-y_i}$"
   ]
  },
  {
   "cell_type": "markdown",
   "metadata": {},
   "source": [
    "Since this is going to give us either too large or too small values, it would be convenient to\n",
    "work with the logarithm of this function as:\n",
    "    \n",
    "$l(\\theta) = log(L(\\theta)) = \\sum_{i=1}^N y_i log(h_{\\theta}(x_i)) + (1 - y_i) log(1 - h_{\\theta}(x_i))$"
   ]
  },
  {
   "cell_type": "markdown",
   "metadata": {},
   "source": [
    "and we want to maximize this likelihood. "
   ]
  },
  {
   "cell_type": "markdown",
   "metadata": {},
   "source": [
    "Our goal is to find such $\\theta_i^{(j)}$ to make this likelihood as big as possible. We can start this by with some initial guess for $\\theta_i$, and then repeatedly changes $\\theta$ to make $l(\\theta)$ larger, until hopefully we converge to a value of $\\theta$ that mazimizes $l(\\theta)$. Specifically, let’s consider the gradient descent algorithm, which starts with some initial $\\theta$, and repeatedly performs the update:"
   ]
  },
  {
   "cell_type": "markdown",
   "metadata": {},
   "source": [
    "$\\theta^{(j)} := \\theta^{(j)} + \\alpha \\frac{\\partial}{\\partial \\theta^{(j)}} l(\\theta^{(j)})$"
   ]
  },
  {
   "cell_type": "markdown",
   "metadata": {},
   "source": [
    "where $\\alpha$ is named as a learning rate or a step parameter that we take when updating $\\theta_i^{(j)}$."
   ]
  },
  {
   "cell_type": "markdown",
   "metadata": {},
   "source": [
    "The derivative gives:"
   ]
  },
  {
   "cell_type": "markdown",
   "metadata": {},
   "source": [
    "$\\frac{\\partial}{\\partial \\theta^{(j)}} l(\\theta^{(j)}) = \\sum_{i = 1}^N (y_{i} - h_{\\theta}(x_{i}))x_i^{(j)}$"
   ]
  },
  {
   "cell_type": "markdown",
   "metadata": {},
   "source": [
    "where we used $g'(z) = g(z)(1 - g(z))$. The parameters will be updated as:\n",
    "    \n",
    "$\\theta^{(j)} := \\theta^{(j)} - \\alpha \\sum_{i=1}^N (h_{\\theta}(x_{i}) - y_{i})x_i^{(j)}$"
   ]
  },
  {
   "cell_type": "markdown",
   "metadata": {},
   "source": [
    "Everytime when we run this step we update the parameters $\\theta^{(j)}$ \n",
    "towards maximizing the likelihood $l(\\theta)$. As we approach the maximum point of \n",
    "$l(\\theta)$ in a hyperparameter space, our steps become smaller and smaller, and eventually we might reach the point where we make almost no progress. So the iteration might be set to stop\n",
    "when our steps are not significant and further calculation of $\\theta$ does not improve it,\n",
    "and we might stop at this point and return the value of $\\theta$. The final value of $\\theta$\n",
    "will be the one that we will use to predict the outcome of new data."
   ]
  },
  {
   "cell_type": "markdown",
   "metadata": {},
   "source": [
    "The above algorithm can be written in a vectorized form so that we can update all the \n",
    "$\\theta^{(j)}$ at the same time:\n",
    "\n",
    "$\\theta := \\theta - \\alpha X^T (h_{\\theta}(X) - Y) $"
   ]
  },
  {
   "cell_type": "markdown",
   "metadata": {},
   "source": [
    "This process need to be repeated until we reach the point where $\\theta$ does not change \n",
    "at all or changes negligibly small. This can be achieved by putting a restriction on the number of iterations by telling the computer to stop the calculation if the correction steps do not pass certain threshold. "
   ]
  },
  {
   "cell_type": "markdown",
   "metadata": {},
   "source": [
    "### Explanation to non-expert:"
   ]
  },
  {
   "cell_type": "markdown",
   "metadata": {},
   "source": [
    "Logistic regression is a statistical method for analysing a dataset in which there are one or more independent variables that determine the outcome. The outcome is expected to have binary values such as 1 or 0, Yes or No, True or False, based a set of independent variables. Logistic regression as a special case of linear regression when the outcome variable is categorical. Unlike actual regression, logistic regression does not try to predict the value of a numeric variable given a set of inputs. Instead, the output is a probability that the given input point belongs to a certain class. Even if there are several classes, not only two, each class can be assigned a logical True or False values depending on whether you find it or not. Thus any task with expected discrete outcome can be designed in a logical regression style. For example, you may want to categorize pictures of animals such as dog, cat, bird or fish. Each animal may be assigned a value of 1 (exist) or 0 (does not exist). We may create a vector of animals and organize them in a certain order like (dog, cat, bird, fish) and assign a vector with values (0, 0, 1, 0) if wee see a picture of a bird, or (0, 1, 0, 0) if we see a piture of a cat. Thus any problem that needs a discrete categorization may be designed to fit the logical regression problem. Unlike actual regression, logistic regression expects an outcome as 0 and 1, and for that we can use a special function named sigmoid function $g(x) = \\frac{1}{1 + e^{-x}}$ which has the following graphical view:"
   ]
  },
  {
   "cell_type": "code",
   "execution_count": 49,
   "metadata": {},
   "outputs": [],
   "source": [
    "x = np.linspace(-10, 10, 100)\n",
    "g = 1/(1+np.exp(-x))"
   ]
  },
  {
   "cell_type": "code",
   "execution_count": 50,
   "metadata": {},
   "outputs": [
    {
     "data": {
      "image/png": "[encoded data removed]",
      "text/plain": [
       "<Figure size 432x288 with 1 Axes>"
      ]
     },
     "metadata": {
      "needs_background": "light"
     },
     "output_type": "display_data"
    }
   ],
   "source": [
    "plt.plot(x, g)\n",
    "plt.ylabel(\"g(x)\")\n",
    "plt.show()"
   ]
  },
  {
   "cell_type": "markdown",
   "metadata": {},
   "source": [
    "which shows that when $x < 0$ the outcome is more like to be 0, and when $x > 0$ \n",
    "the outcome is more likely to be 1. "
   ]
  },
  {
   "cell_type": "markdown",
   "metadata": {},
   "source": [
    "This works good for most of the task we face, and maybe in some occasions we may want \n",
    "to use some other other logical functions such as ReLU or so. "
   ]
  },
  {
   "cell_type": "markdown",
   "metadata": {},
   "source": [
    "The following function works very well for logical regression problem:\n",
    "    \n",
    "$l(\\theta) = y log(h_{\\theta}(x)) + (1 - y) log(1 - h_{\\theta}(x))$"
   ]
  },
  {
   "cell_type": "markdown",
   "metadata": {},
   "source": [
    "This equation can be understood intuitively as follows: if $y = 0$, then the first term vanishes and  the second term will give  $log(1 - h_{\\theta}(x))$. This term is expected to be maximum,  which corresponds to $h_{\\theta}(x)$ being close to zero, the result we desire to achieve. But if $y = 1$, then the second term vanishes and the first term will give $log(h_{\\theta}(x))$, which can to be maximum if $h_{\\theta}(x)$ tends to be 1. Remember that $h_{\\theta}(x)$ has values between 0 and 1, that is $0 < h_{\\theta}(x) < 1$."
   ]
  },
  {
   "cell_type": "markdown",
   "metadata": {},
   "source": [
    "Our goal is that we want to maximize the likelihood function $l(\\theta)$. For this we need to tune the parameter $\\theta$ and this can be done by iterative calculation of $\\theta$. We initially guess $\\theta$ by assigning it some random value, then we slowly iterate our algorithm and update the values of $\\theta$ until we reach the point where the values of $\\theta$ do not change and then we stop. After all this iterative calculation we will obtain a final value for $\\theta$. Once we find it, we can use its value to calculate the outcome\n",
    "of a new data as $h_{\\theta}(x)$. Of course this will not give us an exact number as 0 or 1. In fact it will give a number somewhere between 0 and 1, but we take its closest integer value. This is the way we can construct a machine which can categorize objects according to their parameters."
   ]
  }
 ],
 "metadata": {
  "kernelspec": {
   "display_name": "Python 3",
   "language": "python",
   "name": "python3"
  },
  "language_info": {
   "codemirror_mode": {
    "name": "ipython",
    "version": 3
   },
   "file_extension": ".py",
   "mimetype": "text/x-python",
   "name": "python",
   "nbconvert_exporter": "python",
   "pygments_lexer": "ipython3",
   "version": "3.7.4"
  }
 },
 "nbformat": 4,
 "nbformat_minor": 2
}
