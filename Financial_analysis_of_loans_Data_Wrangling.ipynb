{
 "cells": [
  {
   "cell_type": "markdown",
   "metadata": {},
   "source": [
    "# Data Wrangling"
   ]
  },
  {
   "cell_type": "markdown",
   "metadata": {},
   "source": [
    "### Data Exploration and cleaning"
   ]
  },
  {
   "cell_type": "code",
   "execution_count": 1,
   "metadata": {},
   "outputs": [],
   "source": [
    "import re\n",
    "import pandas as pd\n",
    "import numpy as np\n",
    "import seaborn as sns\n",
    "import matplotlib.pyplot as plt\n",
    "from PIL import Image, ImageDraw\n",
    "import os\n",
    "from library.sb_utils import save_file\n",
    "\n",
    "import warnings\n",
    "warnings.filterwarnings('ignore')"
   ]
  },
  {
   "cell_type": "code",
   "execution_count": 2,
   "metadata": {},
   "outputs": [],
   "source": [
    "# load the data\n",
    "data = pd.read_csv('data/LoanStats_2015_subset.csv')"
   ]
  },
  {
   "cell_type": "markdown",
   "metadata": {},
   "source": [
    "This data is all about financial processes of individual people. The file named `LCDataDictionary.xlsx` contains detailed information about each column. "
   ]
  },
  {
   "cell_type": "markdown",
   "metadata": {},
   "source": [
    "Let's now explore the data and understand it:"
   ]
  },
  {
   "cell_type": "code",
   "execution_count": 3,
   "metadata": {},
   "outputs": [
    {
     "name": "stdout",
     "output_type": "stream",
     "text": [
      "<class 'pandas.core.frame.DataFrame'>\n",
      "RangeIndex: 421097 entries, 0 to 421096\n",
      "Columns: 105 entries, acc_now_delinq to sec_app_mths_since_last_major_derog\n",
      "dtypes: float64(85), object(20)\n",
      "memory usage: 337.3+ MB\n"
     ]
    }
   ],
   "source": [
    "data.info()"
   ]
  },
  {
   "cell_type": "markdown",
   "metadata": {},
   "source": [
    "There are 105 columns in total, 85 of which are of float type and the rest 20 are of object type. "
   ]
  },
  {
   "cell_type": "code",
   "execution_count": 4,
   "metadata": {},
   "outputs": [
    {
     "data": {
      "text/html": [
       "<div>\n",
       "<style scoped>\n",
       "    .dataframe tbody tr th:only-of-type {\n",
       "        vertical-align: middle;\n",
       "    }\n",
       "\n",
       "    .dataframe tbody tr th {\n",
       "        vertical-align: top;\n",
       "    }\n",
       "\n",
       "    .dataframe thead th {\n",
       "        text-align: right;\n",
       "    }\n",
       "</style>\n",
       "<table border=\"1\" class=\"dataframe\">\n",
       "  <thead>\n",
       "    <tr style=\"text-align: right;\">\n",
       "      <th></th>\n",
       "      <th>acc_now_delinq</th>\n",
       "      <th>acc_open_past_24mths</th>\n",
       "      <th>addr_state</th>\n",
       "      <th>all_util</th>\n",
       "      <th>annual_inc</th>\n",
       "      <th>annual_inc_joint</th>\n",
       "      <th>application_type</th>\n",
       "      <th>avg_cur_bal</th>\n",
       "      <th>bc_open_to_buy</th>\n",
       "      <th>bc_util</th>\n",
       "      <th>...</th>\n",
       "      <th>sec_app_earliest_cr_line</th>\n",
       "      <th>sec_app_inq_last_6mths</th>\n",
       "      <th>sec_app_mort_acc</th>\n",
       "      <th>sec_app_open_acc</th>\n",
       "      <th>sec_app_revol_util</th>\n",
       "      <th>sec_app_open_act_il</th>\n",
       "      <th>sec_app_num_rev_accts</th>\n",
       "      <th>sec_app_chargeoff_within_12_mths</th>\n",
       "      <th>sec_app_collections_12_mths_ex_med</th>\n",
       "      <th>sec_app_mths_since_last_major_derog</th>\n",
       "    </tr>\n",
       "  </thead>\n",
       "  <tbody>\n",
       "    <tr>\n",
       "      <th>0</th>\n",
       "      <td>0.0</td>\n",
       "      <td>8.0</td>\n",
       "      <td>KS</td>\n",
       "      <td>42.0</td>\n",
       "      <td>65000.0</td>\n",
       "      <td>NaN</td>\n",
       "      <td>Individual</td>\n",
       "      <td>10086.0</td>\n",
       "      <td>41055.0</td>\n",
       "      <td>17.1</td>\n",
       "      <td>...</td>\n",
       "      <td>NaN</td>\n",
       "      <td>NaN</td>\n",
       "      <td>NaN</td>\n",
       "      <td>NaN</td>\n",
       "      <td>NaN</td>\n",
       "      <td>NaN</td>\n",
       "      <td>NaN</td>\n",
       "      <td>NaN</td>\n",
       "      <td>NaN</td>\n",
       "      <td>NaN</td>\n",
       "    </tr>\n",
       "    <tr>\n",
       "      <th>1</th>\n",
       "      <td>0.0</td>\n",
       "      <td>1.0</td>\n",
       "      <td>VT</td>\n",
       "      <td>34.0</td>\n",
       "      <td>150000.0</td>\n",
       "      <td>NaN</td>\n",
       "      <td>Individual</td>\n",
       "      <td>61551.0</td>\n",
       "      <td>24661.0</td>\n",
       "      <td>44.0</td>\n",
       "      <td>...</td>\n",
       "      <td>NaN</td>\n",
       "      <td>NaN</td>\n",
       "      <td>NaN</td>\n",
       "      <td>NaN</td>\n",
       "      <td>NaN</td>\n",
       "      <td>NaN</td>\n",
       "      <td>NaN</td>\n",
       "      <td>NaN</td>\n",
       "      <td>NaN</td>\n",
       "      <td>NaN</td>\n",
       "    </tr>\n",
       "    <tr>\n",
       "      <th>2</th>\n",
       "      <td>0.0</td>\n",
       "      <td>8.0</td>\n",
       "      <td>IN</td>\n",
       "      <td>50.0</td>\n",
       "      <td>75000.0</td>\n",
       "      <td>NaN</td>\n",
       "      <td>Individual</td>\n",
       "      <td>7176.0</td>\n",
       "      <td>23476.0</td>\n",
       "      <td>59.9</td>\n",
       "      <td>...</td>\n",
       "      <td>NaN</td>\n",
       "      <td>NaN</td>\n",
       "      <td>NaN</td>\n",
       "      <td>NaN</td>\n",
       "      <td>NaN</td>\n",
       "      <td>NaN</td>\n",
       "      <td>NaN</td>\n",
       "      <td>NaN</td>\n",
       "      <td>NaN</td>\n",
       "      <td>NaN</td>\n",
       "    </tr>\n",
       "    <tr>\n",
       "      <th>3</th>\n",
       "      <td>0.0</td>\n",
       "      <td>7.0</td>\n",
       "      <td>OH</td>\n",
       "      <td>71.0</td>\n",
       "      <td>175000.0</td>\n",
       "      <td>NaN</td>\n",
       "      <td>Individual</td>\n",
       "      <td>51015.0</td>\n",
       "      <td>21569.0</td>\n",
       "      <td>50.3</td>\n",
       "      <td>...</td>\n",
       "      <td>NaN</td>\n",
       "      <td>NaN</td>\n",
       "      <td>NaN</td>\n",
       "      <td>NaN</td>\n",
       "      <td>NaN</td>\n",
       "      <td>NaN</td>\n",
       "      <td>NaN</td>\n",
       "      <td>NaN</td>\n",
       "      <td>NaN</td>\n",
       "      <td>NaN</td>\n",
       "    </tr>\n",
       "    <tr>\n",
       "      <th>4</th>\n",
       "      <td>0.0</td>\n",
       "      <td>1.0</td>\n",
       "      <td>FL</td>\n",
       "      <td>91.0</td>\n",
       "      <td>44000.0</td>\n",
       "      <td>NaN</td>\n",
       "      <td>Individual</td>\n",
       "      <td>19041.0</td>\n",
       "      <td>0.0</td>\n",
       "      <td>102.4</td>\n",
       "      <td>...</td>\n",
       "      <td>NaN</td>\n",
       "      <td>NaN</td>\n",
       "      <td>NaN</td>\n",
       "      <td>NaN</td>\n",
       "      <td>NaN</td>\n",
       "      <td>NaN</td>\n",
       "      <td>NaN</td>\n",
       "      <td>NaN</td>\n",
       "      <td>NaN</td>\n",
       "      <td>NaN</td>\n",
       "    </tr>\n",
       "  </tbody>\n",
       "</table>\n",
       "<p>5 rows × 105 columns</p>\n",
       "</div>"
      ],
      "text/plain": [
       "   acc_now_delinq  acc_open_past_24mths addr_state  all_util  annual_inc  \\\n",
       "0             0.0                   8.0         KS      42.0     65000.0   \n",
       "1             0.0                   1.0         VT      34.0    150000.0   \n",
       "2             0.0                   8.0         IN      50.0     75000.0   \n",
       "3             0.0                   7.0         OH      71.0    175000.0   \n",
       "4             0.0                   1.0         FL      91.0     44000.0   \n",
       "\n",
       "   annual_inc_joint application_type  avg_cur_bal  bc_open_to_buy  bc_util  \\\n",
       "0               NaN       Individual      10086.0         41055.0     17.1   \n",
       "1               NaN       Individual      61551.0         24661.0     44.0   \n",
       "2               NaN       Individual       7176.0         23476.0     59.9   \n",
       "3               NaN       Individual      51015.0         21569.0     50.3   \n",
       "4               NaN       Individual      19041.0             0.0    102.4   \n",
       "\n",
       "   ...  sec_app_earliest_cr_line  sec_app_inq_last_6mths  sec_app_mort_acc  \\\n",
       "0  ...                       NaN                     NaN               NaN   \n",
       "1  ...                       NaN                     NaN               NaN   \n",
       "2  ...                       NaN                     NaN               NaN   \n",
       "3  ...                       NaN                     NaN               NaN   \n",
       "4  ...                       NaN                     NaN               NaN   \n",
       "\n",
       "   sec_app_open_acc sec_app_revol_util  sec_app_open_act_il  \\\n",
       "0               NaN                NaN                  NaN   \n",
       "1               NaN                NaN                  NaN   \n",
       "2               NaN                NaN                  NaN   \n",
       "3               NaN                NaN                  NaN   \n",
       "4               NaN                NaN                  NaN   \n",
       "\n",
       "   sec_app_num_rev_accts sec_app_chargeoff_within_12_mths  \\\n",
       "0                    NaN                              NaN   \n",
       "1                    NaN                              NaN   \n",
       "2                    NaN                              NaN   \n",
       "3                    NaN                              NaN   \n",
       "4                    NaN                              NaN   \n",
       "\n",
       "  sec_app_collections_12_mths_ex_med sec_app_mths_since_last_major_derog  \n",
       "0                                NaN                                 NaN  \n",
       "1                                NaN                                 NaN  \n",
       "2                                NaN                                 NaN  \n",
       "3                                NaN                                 NaN  \n",
       "4                                NaN                                 NaN  \n",
       "\n",
       "[5 rows x 105 columns]"
      ]
     },
     "execution_count": 4,
     "metadata": {},
     "output_type": "execute_result"
    }
   ],
   "source": [
    "data.head()"
   ]
  },
  {
   "cell_type": "markdown",
   "metadata": {},
   "source": [
    "There are 421097 rows in total, i. e. so many clients with their personal and financial information. There are 105 columns in this table and each column contains some sort of information about the clients. We will try to see if any of these columns and rows contain any missing values."
   ]
  },
  {
   "cell_type": "code",
   "execution_count": 5,
   "metadata": {},
   "outputs": [
    {
     "data": {
      "text/plain": [
       "True"
      ]
     },
     "execution_count": 5,
     "metadata": {},
     "output_type": "execute_result"
    }
   ],
   "source": [
    "data.isna().any().any()"
   ]
  },
  {
   "cell_type": "code",
   "execution_count": 6,
   "metadata": {},
   "outputs": [
    {
     "data": {
      "text/html": [
       "<div>\n",
       "<style scoped>\n",
       "    .dataframe tbody tr th:only-of-type {\n",
       "        vertical-align: middle;\n",
       "    }\n",
       "\n",
       "    .dataframe tbody tr th {\n",
       "        vertical-align: top;\n",
       "    }\n",
       "\n",
       "    .dataframe thead th {\n",
       "        text-align: right;\n",
       "    }\n",
       "</style>\n",
       "<table border=\"1\" class=\"dataframe\">\n",
       "  <thead>\n",
       "    <tr style=\"text-align: right;\">\n",
       "      <th></th>\n",
       "      <th>acc_now_delinq</th>\n",
       "      <th>acc_open_past_24mths</th>\n",
       "      <th>addr_state</th>\n",
       "      <th>all_util</th>\n",
       "      <th>annual_inc</th>\n",
       "      <th>annual_inc_joint</th>\n",
       "      <th>application_type</th>\n",
       "      <th>avg_cur_bal</th>\n",
       "      <th>bc_open_to_buy</th>\n",
       "      <th>bc_util</th>\n",
       "      <th>...</th>\n",
       "      <th>sec_app_earliest_cr_line</th>\n",
       "      <th>sec_app_inq_last_6mths</th>\n",
       "      <th>sec_app_mort_acc</th>\n",
       "      <th>sec_app_open_acc</th>\n",
       "      <th>sec_app_revol_util</th>\n",
       "      <th>sec_app_open_act_il</th>\n",
       "      <th>sec_app_num_rev_accts</th>\n",
       "      <th>sec_app_chargeoff_within_12_mths</th>\n",
       "      <th>sec_app_collections_12_mths_ex_med</th>\n",
       "      <th>sec_app_mths_since_last_major_derog</th>\n",
       "    </tr>\n",
       "  </thead>\n",
       "  <tbody>\n",
       "  </tbody>\n",
       "</table>\n",
       "<p>0 rows × 105 columns</p>\n",
       "</div>"
      ],
      "text/plain": [
       "Empty DataFrame\n",
       "Columns: [acc_now_delinq, acc_open_past_24mths, addr_state, all_util, annual_inc, annual_inc_joint, application_type, avg_cur_bal, bc_open_to_buy, bc_util, chargeoff_within_12_mths, collections_12_mths_ex_med, delinq_2yrs, delinq_amnt, desc, dti, dti_joint, earliest_cr_line, emp_length, emp_title, funded_amnt, funded_amnt_inv, grade, home_ownership, id, il_util, initial_list_status, inq_fi, inq_last_12m, inq_last_6mths, installment, int_rate, issue_d, loan_amnt, loan_status, max_bal_bc, member_id, mo_sin_old_il_acct, mo_sin_old_rev_tl_op, mo_sin_rcnt_rev_tl_op, mo_sin_rcnt_tl, mort_acc, mths_since_last_delinq, mths_since_last_major_derog, mths_since_last_record, mths_since_rcnt_il, mths_since_recent_bc, mths_since_recent_bc_dlq, mths_since_recent_inq, mths_since_recent_revol_delinq, num_accts_ever_120_pd, num_actv_bc_tl, num_actv_rev_tl, num_bc_sats, num_bc_tl, num_il_tl, num_op_rev_tl, num_rev_accts, num_rev_tl_bal_gt_0, num_sats, num_tl_120dpd_2m, num_tl_30dpd, num_tl_90g_dpd_24m, num_tl_op_past_12m, open_acc, open_acc_6m, open_il_12m, open_il_24m, open_act_il, open_rv_12m, open_rv_24m, pct_tl_nvr_dlq, percent_bc_gt_75, policy_code, pub_rec, pub_rec_bankruptcies, purpose, revol_bal, revol_util, sub_grade, tax_liens, term, title, tot_cur_bal, tot_hi_cred_lim, total_acc, total_bal_ex_mort, total_bal_il, total_bc_limit, total_cu_tl, total_il_high_credit_limit, total_rev_hi_lim, verification_status, zip_code, revol_bal_joint, sec_app_earliest_cr_line, sec_app_inq_last_6mths, sec_app_mort_acc, sec_app_open_acc, sec_app_revol_util, ...]\n",
       "Index: []\n",
       "\n",
       "[0 rows x 105 columns]"
      ]
     },
     "execution_count": 6,
     "metadata": {},
     "output_type": "execute_result"
    }
   ],
   "source": [
    "# Let's see if there are any duplicate rows\n",
    "duplicate = data[data.duplicated()]\n",
    "duplicate"
   ]
  },
  {
   "cell_type": "markdown",
   "metadata": {},
   "source": [
    "Since the data is large and we have too many columns (pandas cannot display all columns), we can explore the columns in parts:"
   ]
  },
  {
   "cell_type": "code",
   "execution_count": 7,
   "metadata": {},
   "outputs": [
    {
     "name": "stdout",
     "output_type": "stream",
     "text": [
      "<class 'pandas.core.frame.DataFrame'>\n",
      "RangeIndex: 421097 entries, 0 to 421096\n",
      "Data columns (total 50 columns):\n",
      " #   Column                          Non-Null Count   Dtype  \n",
      "---  ------                          --------------   -----  \n",
      " 0   acc_now_delinq                  421095 non-null  float64\n",
      " 1   acc_open_past_24mths            421095 non-null  float64\n",
      " 2   addr_state                      421095 non-null  object \n",
      " 3   all_util                        21372 non-null   float64\n",
      " 4   annual_inc                      421095 non-null  float64\n",
      " 5   annual_inc_joint                511 non-null     float64\n",
      " 6   application_type                421095 non-null  object \n",
      " 7   avg_cur_bal                     421095 non-null  float64\n",
      " 8   bc_open_to_buy                  417132 non-null  float64\n",
      " 9   bc_util                         416868 non-null  float64\n",
      " 10  chargeoff_within_12_mths        421095 non-null  float64\n",
      " 11  collections_12_mths_ex_med      421095 non-null  float64\n",
      " 12  delinq_2yrs                     421095 non-null  float64\n",
      " 13  delinq_amnt                     421095 non-null  float64\n",
      " 14  desc                            45 non-null      object \n",
      " 15  dti                             421093 non-null  float64\n",
      " 16  dti_joint                       509 non-null     float64\n",
      " 17  earliest_cr_line                421095 non-null  object \n",
      " 18  emp_length                      397278 non-null  object \n",
      " 19  emp_title                       397221 non-null  object \n",
      " 20  funded_amnt                     421095 non-null  float64\n",
      " 21  funded_amnt_inv                 421095 non-null  float64\n",
      " 22  grade                           421095 non-null  object \n",
      " 23  home_ownership                  421095 non-null  object \n",
      " 24  id                              2 non-null       object \n",
      " 25  il_util                         18617 non-null   float64\n",
      " 26  initial_list_status             421095 non-null  object \n",
      " 27  inq_fi                          21372 non-null   float64\n",
      " 28  inq_last_12m                    21372 non-null   float64\n",
      " 29  inq_last_6mths                  421095 non-null  float64\n",
      " 30  installment                     421095 non-null  float64\n",
      " 31  int_rate                        421095 non-null  object \n",
      " 32  issue_d                         421095 non-null  object \n",
      " 33  loan_amnt                       421095 non-null  float64\n",
      " 34  loan_status                     421095 non-null  object \n",
      " 35  max_bal_bc                      21372 non-null   float64\n",
      " 36  member_id                       0 non-null       float64\n",
      " 37  mo_sin_old_il_acct              408841 non-null  float64\n",
      " 38  mo_sin_old_rev_tl_op            421095 non-null  float64\n",
      " 39  mo_sin_rcnt_rev_tl_op           421095 non-null  float64\n",
      " 40  mo_sin_rcnt_tl                  421095 non-null  float64\n",
      " 41  mort_acc                        421095 non-null  float64\n",
      " 42  mths_since_last_delinq          217133 non-null  float64\n",
      " 43  mths_since_last_major_derog     122729 non-null  float64\n",
      " 44  mths_since_last_record          74415 non-null   float64\n",
      " 45  mths_since_rcnt_il              20810 non-null   float64\n",
      " 46  mths_since_recent_bc            417297 non-null  float64\n",
      " 47  mths_since_recent_bc_dlq        108600 non-null  float64\n",
      " 48  mths_since_recent_inq           376496 non-null  float64\n",
      " 49  mths_since_recent_revol_delinq  151737 non-null  float64\n",
      "dtypes: float64(37), object(13)\n",
      "memory usage: 160.6+ MB\n"
     ]
    }
   ],
   "source": [
    "data.iloc[:,0:50].info() # first 50 columns"
   ]
  },
  {
   "cell_type": "code",
   "execution_count": 8,
   "metadata": {},
   "outputs": [
    {
     "name": "stdout",
     "output_type": "stream",
     "text": [
      "<class 'pandas.core.frame.DataFrame'>\n",
      "RangeIndex: 421097 entries, 0 to 421096\n",
      "Data columns (total 55 columns):\n",
      " #   Column                               Non-Null Count   Dtype  \n",
      "---  ------                               --------------   -----  \n",
      " 0   num_accts_ever_120_pd                421095 non-null  float64\n",
      " 1   num_actv_bc_tl                       421095 non-null  float64\n",
      " 2   num_actv_rev_tl                      421095 non-null  float64\n",
      " 3   num_bc_sats                          421095 non-null  float64\n",
      " 4   num_bc_tl                            421095 non-null  float64\n",
      " 5   num_il_tl                            421095 non-null  float64\n",
      " 6   num_op_rev_tl                        421095 non-null  float64\n",
      " 7   num_rev_accts                        421094 non-null  float64\n",
      " 8   num_rev_tl_bal_gt_0                  421095 non-null  float64\n",
      " 9   num_sats                             421095 non-null  float64\n",
      " 10  num_tl_120dpd_2m                     401865 non-null  float64\n",
      " 11  num_tl_30dpd                         421095 non-null  float64\n",
      " 12  num_tl_90g_dpd_24m                   421095 non-null  float64\n",
      " 13  num_tl_op_past_12m                   421095 non-null  float64\n",
      " 14  open_acc                             421095 non-null  float64\n",
      " 15  open_acc_6m                          21372 non-null   float64\n",
      " 16  open_il_12m                          21372 non-null   float64\n",
      " 17  open_il_24m                          21372 non-null   float64\n",
      " 18  open_act_il                          21372 non-null   float64\n",
      " 19  open_rv_12m                          21372 non-null   float64\n",
      " 20  open_rv_24m                          21372 non-null   float64\n",
      " 21  pct_tl_nvr_dlq                       421095 non-null  float64\n",
      " 22  percent_bc_gt_75                     416856 non-null  float64\n",
      " 23  policy_code                          421095 non-null  float64\n",
      " 24  pub_rec                              421095 non-null  float64\n",
      " 25  pub_rec_bankruptcies                 421095 non-null  float64\n",
      " 26  purpose                              421095 non-null  object \n",
      " 27  revol_bal                            421095 non-null  float64\n",
      " 28  revol_util                           420933 non-null  object \n",
      " 29  sub_grade                            421095 non-null  object \n",
      " 30  tax_liens                            421095 non-null  float64\n",
      " 31  term                                 421095 non-null  object \n",
      " 32  title                                420963 non-null  object \n",
      " 33  tot_cur_bal                          421095 non-null  float64\n",
      " 34  tot_hi_cred_lim                      421095 non-null  float64\n",
      " 35  total_acc                            421095 non-null  float64\n",
      " 36  total_bal_ex_mort                    421095 non-null  float64\n",
      " 37  total_bal_il                         21372 non-null   float64\n",
      " 38  total_bc_limit                       421095 non-null  float64\n",
      " 39  total_cu_tl                          21372 non-null   float64\n",
      " 40  total_il_high_credit_limit           421095 non-null  float64\n",
      " 41  total_rev_hi_lim                     421095 non-null  float64\n",
      " 42  verification_status                  421095 non-null  object \n",
      " 43  zip_code                             421095 non-null  object \n",
      " 44  revol_bal_joint                      0 non-null       float64\n",
      " 45  sec_app_earliest_cr_line             0 non-null       float64\n",
      " 46  sec_app_inq_last_6mths               0 non-null       float64\n",
      " 47  sec_app_mort_acc                     0 non-null       float64\n",
      " 48  sec_app_open_acc                     0 non-null       float64\n",
      " 49  sec_app_revol_util                   0 non-null       float64\n",
      " 50  sec_app_open_act_il                  0 non-null       float64\n",
      " 51  sec_app_num_rev_accts                0 non-null       float64\n",
      " 52  sec_app_chargeoff_within_12_mths     0 non-null       float64\n",
      " 53  sec_app_collections_12_mths_ex_med   0 non-null       float64\n",
      " 54  sec_app_mths_since_last_major_derog  0 non-null       float64\n",
      "dtypes: float64(48), object(7)\n",
      "memory usage: 176.7+ MB\n"
     ]
    }
   ],
   "source": [
    "data.iloc[:,50:105].info() # next 55 columns"
   ]
  },
  {
   "cell_type": "markdown",
   "metadata": {},
   "source": [
    "We can see that some of the columns have no information at all and some contain very few information (less than 1000 rows), so we may actually drop them. Before dropping, I looked at the description of the columns with fewer than 1000 rows of information in the documentation and verified that those columns do not contain any useful information which could be used for our future model. This again justifies our reason to drop those columns."
   ]
  },
  {
   "cell_type": "code",
   "execution_count": 9,
   "metadata": {},
   "outputs": [],
   "source": [
    "data.dropna(axis='columns', how='any', thresh=1000, inplace=True)"
   ]
  },
  {
   "cell_type": "code",
   "execution_count": 10,
   "metadata": {},
   "outputs": [
    {
     "data": {
      "text/plain": [
       "(421097, 89)"
      ]
     },
     "execution_count": 10,
     "metadata": {},
     "output_type": "execute_result"
    }
   ],
   "source": [
    "data.shape"
   ]
  },
  {
   "cell_type": "markdown",
   "metadata": {},
   "source": [
    "We got rid of 16 columns, which makes our further analysis a bit simpler."
   ]
  },
  {
   "cell_type": "markdown",
   "metadata": {},
   "source": [
    "Let's look at the columns with an object type of data:"
   ]
  },
  {
   "cell_type": "code",
   "execution_count": 11,
   "metadata": {},
   "outputs": [
    {
     "data": {
      "text/html": [
       "<div>\n",
       "<style scoped>\n",
       "    .dataframe tbody tr th:only-of-type {\n",
       "        vertical-align: middle;\n",
       "    }\n",
       "\n",
       "    .dataframe tbody tr th {\n",
       "        vertical-align: top;\n",
       "    }\n",
       "\n",
       "    .dataframe thead th {\n",
       "        text-align: right;\n",
       "    }\n",
       "</style>\n",
       "<table border=\"1\" class=\"dataframe\">\n",
       "  <thead>\n",
       "    <tr style=\"text-align: right;\">\n",
       "      <th></th>\n",
       "      <th>addr_state</th>\n",
       "      <th>application_type</th>\n",
       "      <th>earliest_cr_line</th>\n",
       "      <th>emp_length</th>\n",
       "      <th>emp_title</th>\n",
       "      <th>grade</th>\n",
       "      <th>home_ownership</th>\n",
       "      <th>initial_list_status</th>\n",
       "      <th>int_rate</th>\n",
       "      <th>issue_d</th>\n",
       "      <th>loan_status</th>\n",
       "      <th>purpose</th>\n",
       "      <th>revol_util</th>\n",
       "      <th>sub_grade</th>\n",
       "      <th>term</th>\n",
       "      <th>title</th>\n",
       "      <th>verification_status</th>\n",
       "      <th>zip_code</th>\n",
       "    </tr>\n",
       "  </thead>\n",
       "  <tbody>\n",
       "    <tr>\n",
       "      <th>0</th>\n",
       "      <td>KS</td>\n",
       "      <td>Individual</td>\n",
       "      <td>Nov-2003</td>\n",
       "      <td>10+ years</td>\n",
       "      <td>Teacher</td>\n",
       "      <td>B</td>\n",
       "      <td>MORTGAGE</td>\n",
       "      <td>w</td>\n",
       "      <td>9.80%</td>\n",
       "      <td>Dec-2015</td>\n",
       "      <td>Fully Paid</td>\n",
       "      <td>debt_consolidation</td>\n",
       "      <td>13.4%</td>\n",
       "      <td>B3</td>\n",
       "      <td>60 months</td>\n",
       "      <td>Debt consolidation</td>\n",
       "      <td>Not Verified</td>\n",
       "      <td>660xx</td>\n",
       "    </tr>\n",
       "    <tr>\n",
       "      <th>1</th>\n",
       "      <td>VT</td>\n",
       "      <td>Individual</td>\n",
       "      <td>Feb-1996</td>\n",
       "      <td>1 year</td>\n",
       "      <td>Director</td>\n",
       "      <td>A</td>\n",
       "      <td>MORTGAGE</td>\n",
       "      <td>w</td>\n",
       "      <td>5.32%</td>\n",
       "      <td>Dec-2015</td>\n",
       "      <td>Current</td>\n",
       "      <td>credit_card</td>\n",
       "      <td>42.5%</td>\n",
       "      <td>A1</td>\n",
       "      <td>36 months</td>\n",
       "      <td>Credit card refinancing</td>\n",
       "      <td>Not Verified</td>\n",
       "      <td>054xx</td>\n",
       "    </tr>\n",
       "    <tr>\n",
       "      <th>2</th>\n",
       "      <td>IN</td>\n",
       "      <td>Individual</td>\n",
       "      <td>Oct-2002</td>\n",
       "      <td>10+ years</td>\n",
       "      <td>Engineer</td>\n",
       "      <td>D</td>\n",
       "      <td>MORTGAGE</td>\n",
       "      <td>w</td>\n",
       "      <td>18.49%</td>\n",
       "      <td>Dec-2015</td>\n",
       "      <td>Current</td>\n",
       "      <td>debt_consolidation</td>\n",
       "      <td>51.9%</td>\n",
       "      <td>D5</td>\n",
       "      <td>60 months</td>\n",
       "      <td>Debt consolidation</td>\n",
       "      <td>Verified</td>\n",
       "      <td>471xx</td>\n",
       "    </tr>\n",
       "    <tr>\n",
       "      <th>3</th>\n",
       "      <td>OH</td>\n",
       "      <td>Individual</td>\n",
       "      <td>Aug-1997</td>\n",
       "      <td>2 years</td>\n",
       "      <td>Vice-President</td>\n",
       "      <td>D</td>\n",
       "      <td>MORTGAGE</td>\n",
       "      <td>w</td>\n",
       "      <td>15.77%</td>\n",
       "      <td>Dec-2015</td>\n",
       "      <td>Fully Paid</td>\n",
       "      <td>home_improvement</td>\n",
       "      <td>50.3%</td>\n",
       "      <td>D1</td>\n",
       "      <td>36 months</td>\n",
       "      <td>Home improvement</td>\n",
       "      <td>Not Verified</td>\n",
       "      <td>430xx</td>\n",
       "    </tr>\n",
       "    <tr>\n",
       "      <th>4</th>\n",
       "      <td>FL</td>\n",
       "      <td>Individual</td>\n",
       "      <td>Jun-2006</td>\n",
       "      <td>&lt; 1 year</td>\n",
       "      <td>RN</td>\n",
       "      <td>E</td>\n",
       "      <td>RENT</td>\n",
       "      <td>w</td>\n",
       "      <td>19.89%</td>\n",
       "      <td>Dec-2015</td>\n",
       "      <td>Current</td>\n",
       "      <td>credit_card</td>\n",
       "      <td>102.4%</td>\n",
       "      <td>E3</td>\n",
       "      <td>60 months</td>\n",
       "      <td>NaN</td>\n",
       "      <td>Verified</td>\n",
       "      <td>322xx</td>\n",
       "    </tr>\n",
       "  </tbody>\n",
       "</table>\n",
       "</div>"
      ],
      "text/plain": [
       "  addr_state application_type earliest_cr_line emp_length       emp_title  \\\n",
       "0         KS       Individual         Nov-2003  10+ years         Teacher   \n",
       "1         VT       Individual         Feb-1996     1 year        Director   \n",
       "2         IN       Individual         Oct-2002  10+ years        Engineer   \n",
       "3         OH       Individual         Aug-1997    2 years  Vice-President   \n",
       "4         FL       Individual         Jun-2006   < 1 year              RN   \n",
       "\n",
       "  grade home_ownership initial_list_status int_rate   issue_d loan_status  \\\n",
       "0     B       MORTGAGE                   w    9.80%  Dec-2015  Fully Paid   \n",
       "1     A       MORTGAGE                   w    5.32%  Dec-2015     Current   \n",
       "2     D       MORTGAGE                   w   18.49%  Dec-2015     Current   \n",
       "3     D       MORTGAGE                   w   15.77%  Dec-2015  Fully Paid   \n",
       "4     E           RENT                   w   19.89%  Dec-2015     Current   \n",
       "\n",
       "              purpose revol_util sub_grade        term  \\\n",
       "0  debt_consolidation      13.4%        B3   60 months   \n",
       "1         credit_card      42.5%        A1   36 months   \n",
       "2  debt_consolidation      51.9%        D5   60 months   \n",
       "3    home_improvement      50.3%        D1   36 months   \n",
       "4         credit_card     102.4%        E3   60 months   \n",
       "\n",
       "                     title verification_status zip_code  \n",
       "0       Debt consolidation        Not Verified    660xx  \n",
       "1  Credit card refinancing        Not Verified    054xx  \n",
       "2       Debt consolidation            Verified    471xx  \n",
       "3         Home improvement        Not Verified    430xx  \n",
       "4                      NaN            Verified    322xx  "
      ]
     },
     "execution_count": 11,
     "metadata": {},
     "output_type": "execute_result"
    }
   ],
   "source": [
    "data.select_dtypes(include=['object']).head()"
   ]
  },
  {
   "cell_type": "markdown",
   "metadata": {},
   "source": [
    "We can see that some of the columns actually contain date, so they could be converted to a datetime object (if needed). The columns with a percentage sign can be converted to a float type by dropping the percentage sign. Some of the columns can be converted to an integer type as well. Also, we can see that some of the columns contain information about state and zip code of the clients. Those columns may potentially be dropped, because the state and zip code of a person is not very strongly correlated with the loan information of a person. All these and more details will be explored in future steps, for now we just wanted to look at those object type columns and try to understand their underlying structure. So these columns could potentially be converted to a useful type, integer or float, or just be dropped due to their irrelevant characteristics. "
   ]
  },
  {
   "cell_type": "markdown",
   "metadata": {},
   "source": [
    "Let's now count the number of missing values in each column of the rest of the data and sort them."
   ]
  },
  {
   "cell_type": "code",
   "execution_count": 12,
   "metadata": {},
   "outputs": [
    {
     "data": {
      "text/html": [
       "<div>\n",
       "<style scoped>\n",
       "    .dataframe tbody tr th:only-of-type {\n",
       "        vertical-align: middle;\n",
       "    }\n",
       "\n",
       "    .dataframe tbody tr th {\n",
       "        vertical-align: top;\n",
       "    }\n",
       "\n",
       "    .dataframe thead th {\n",
       "        text-align: right;\n",
       "    }\n",
       "</style>\n",
       "<table border=\"1\" class=\"dataframe\">\n",
       "  <thead>\n",
       "    <tr style=\"text-align: right;\">\n",
       "      <th></th>\n",
       "      <th>missing_count</th>\n",
       "      <th>missing_%</th>\n",
       "    </tr>\n",
       "  </thead>\n",
       "  <tbody>\n",
       "    <tr>\n",
       "      <th>il_util</th>\n",
       "      <td>402480</td>\n",
       "      <td>95.578928</td>\n",
       "    </tr>\n",
       "    <tr>\n",
       "      <th>mths_since_rcnt_il</th>\n",
       "      <td>400287</td>\n",
       "      <td>95.058146</td>\n",
       "    </tr>\n",
       "    <tr>\n",
       "      <th>all_util</th>\n",
       "      <td>399725</td>\n",
       "      <td>94.924685</td>\n",
       "    </tr>\n",
       "    <tr>\n",
       "      <th>inq_fi</th>\n",
       "      <td>399725</td>\n",
       "      <td>94.924685</td>\n",
       "    </tr>\n",
       "    <tr>\n",
       "      <th>inq_last_12m</th>\n",
       "      <td>399725</td>\n",
       "      <td>94.924685</td>\n",
       "    </tr>\n",
       "    <tr>\n",
       "      <th>max_bal_bc</th>\n",
       "      <td>399725</td>\n",
       "      <td>94.924685</td>\n",
       "    </tr>\n",
       "    <tr>\n",
       "      <th>open_acc_6m</th>\n",
       "      <td>399725</td>\n",
       "      <td>94.924685</td>\n",
       "    </tr>\n",
       "    <tr>\n",
       "      <th>open_il_12m</th>\n",
       "      <td>399725</td>\n",
       "      <td>94.924685</td>\n",
       "    </tr>\n",
       "    <tr>\n",
       "      <th>open_il_24m</th>\n",
       "      <td>399725</td>\n",
       "      <td>94.924685</td>\n",
       "    </tr>\n",
       "    <tr>\n",
       "      <th>open_act_il</th>\n",
       "      <td>399725</td>\n",
       "      <td>94.924685</td>\n",
       "    </tr>\n",
       "    <tr>\n",
       "      <th>open_rv_12m</th>\n",
       "      <td>399725</td>\n",
       "      <td>94.924685</td>\n",
       "    </tr>\n",
       "    <tr>\n",
       "      <th>open_rv_24m</th>\n",
       "      <td>399725</td>\n",
       "      <td>94.924685</td>\n",
       "    </tr>\n",
       "    <tr>\n",
       "      <th>total_bal_il</th>\n",
       "      <td>399725</td>\n",
       "      <td>94.924685</td>\n",
       "    </tr>\n",
       "    <tr>\n",
       "      <th>total_cu_tl</th>\n",
       "      <td>399725</td>\n",
       "      <td>94.924685</td>\n",
       "    </tr>\n",
       "    <tr>\n",
       "      <th>mths_since_last_record</th>\n",
       "      <td>346682</td>\n",
       "      <td>82.328300</td>\n",
       "    </tr>\n",
       "    <tr>\n",
       "      <th>mths_since_recent_bc_dlq</th>\n",
       "      <td>312497</td>\n",
       "      <td>74.210218</td>\n",
       "    </tr>\n",
       "    <tr>\n",
       "      <th>mths_since_last_major_derog</th>\n",
       "      <td>298368</td>\n",
       "      <td>70.854934</td>\n",
       "    </tr>\n",
       "    <tr>\n",
       "      <th>mths_since_recent_revol_delinq</th>\n",
       "      <td>269360</td>\n",
       "      <td>63.966260</td>\n",
       "    </tr>\n",
       "    <tr>\n",
       "      <th>mths_since_last_delinq</th>\n",
       "      <td>203964</td>\n",
       "      <td>48.436346</td>\n",
       "    </tr>\n",
       "    <tr>\n",
       "      <th>mths_since_recent_inq</th>\n",
       "      <td>44601</td>\n",
       "      <td>10.591621</td>\n",
       "    </tr>\n",
       "    <tr>\n",
       "      <th>emp_title</th>\n",
       "      <td>23876</td>\n",
       "      <td>5.669953</td>\n",
       "    </tr>\n",
       "    <tr>\n",
       "      <th>emp_length</th>\n",
       "      <td>23819</td>\n",
       "      <td>5.656416</td>\n",
       "    </tr>\n",
       "    <tr>\n",
       "      <th>num_tl_120dpd_2m</th>\n",
       "      <td>19232</td>\n",
       "      <td>4.567119</td>\n",
       "    </tr>\n",
       "    <tr>\n",
       "      <th>mo_sin_old_il_acct</th>\n",
       "      <td>12256</td>\n",
       "      <td>2.910493</td>\n",
       "    </tr>\n",
       "    <tr>\n",
       "      <th>percent_bc_gt_75</th>\n",
       "      <td>4241</td>\n",
       "      <td>1.007131</td>\n",
       "    </tr>\n",
       "    <tr>\n",
       "      <th>bc_util</th>\n",
       "      <td>4229</td>\n",
       "      <td>1.004282</td>\n",
       "    </tr>\n",
       "    <tr>\n",
       "      <th>bc_open_to_buy</th>\n",
       "      <td>3965</td>\n",
       "      <td>0.941588</td>\n",
       "    </tr>\n",
       "    <tr>\n",
       "      <th>mths_since_recent_bc</th>\n",
       "      <td>3800</td>\n",
       "      <td>0.902405</td>\n",
       "    </tr>\n",
       "    <tr>\n",
       "      <th>revol_util</th>\n",
       "      <td>164</td>\n",
       "      <td>0.038946</td>\n",
       "    </tr>\n",
       "    <tr>\n",
       "      <th>title</th>\n",
       "      <td>134</td>\n",
       "      <td>0.031822</td>\n",
       "    </tr>\n",
       "  </tbody>\n",
       "</table>\n",
       "</div>"
      ],
      "text/plain": [
       "                                missing_count  missing_%\n",
       "il_util                                402480  95.578928\n",
       "mths_since_rcnt_il                     400287  95.058146\n",
       "all_util                               399725  94.924685\n",
       "inq_fi                                 399725  94.924685\n",
       "inq_last_12m                           399725  94.924685\n",
       "max_bal_bc                             399725  94.924685\n",
       "open_acc_6m                            399725  94.924685\n",
       "open_il_12m                            399725  94.924685\n",
       "open_il_24m                            399725  94.924685\n",
       "open_act_il                            399725  94.924685\n",
       "open_rv_12m                            399725  94.924685\n",
       "open_rv_24m                            399725  94.924685\n",
       "total_bal_il                           399725  94.924685\n",
       "total_cu_tl                            399725  94.924685\n",
       "mths_since_last_record                 346682  82.328300\n",
       "mths_since_recent_bc_dlq               312497  74.210218\n",
       "mths_since_last_major_derog            298368  70.854934\n",
       "mths_since_recent_revol_delinq         269360  63.966260\n",
       "mths_since_last_delinq                 203964  48.436346\n",
       "mths_since_recent_inq                   44601  10.591621\n",
       "emp_title                               23876   5.669953\n",
       "emp_length                              23819   5.656416\n",
       "num_tl_120dpd_2m                        19232   4.567119\n",
       "mo_sin_old_il_acct                      12256   2.910493\n",
       "percent_bc_gt_75                         4241   1.007131\n",
       "bc_util                                  4229   1.004282\n",
       "bc_open_to_buy                           3965   0.941588\n",
       "mths_since_recent_bc                     3800   0.902405\n",
       "revol_util                                164   0.038946\n",
       "title                                     134   0.031822"
      ]
     },
     "execution_count": 12,
     "metadata": {},
     "output_type": "execute_result"
    }
   ],
   "source": [
    "missing = pd.concat([data.isnull().sum(), 100 * data.isnull().mean()], axis=1)\n",
    "missing.columns=['missing_count', 'missing_%']\n",
    "missing.sort_values(by=['missing_count', 'missing_%'], ascending=False).head(30)"
   ]
  },
  {
   "cell_type": "markdown",
   "metadata": {},
   "source": [
    "If we look carefully, we can see that some columns contain 399725 or more missing values. Let's see if these missing values and the rest non-null values are correlated, i .e. let's see if the missing and non-missing values are for the same rows."
   ]
  },
  {
   "cell_type": "code",
   "execution_count": 13,
   "metadata": {},
   "outputs": [],
   "source": [
    "# You might want to run the following line to install the missingno package first\n",
    "# conda install -c conda-forge/label/gcc7 missingno"
   ]
  },
  {
   "cell_type": "code",
   "execution_count": 14,
   "metadata": {},
   "outputs": [],
   "source": [
    "import missingno as msno\n",
    "%matplotlib inline"
   ]
  },
  {
   "cell_type": "code",
   "execution_count": 15,
   "metadata": {},
   "outputs": [
    {
     "data": {
      "image/png": "[encoded data removed]",
      "text/plain": [
       "<Figure size 1800x720 with 2 Axes>"
      ]
     },
     "metadata": {
      "needs_background": "light"
     },
     "output_type": "display_data"
    }
   ],
   "source": [
    "msno.matrix(data)\n",
    "plt.show()"
   ]
  },
  {
   "cell_type": "markdown",
   "metadata": {},
   "source": [
    "We can already see that some of the columns have missing values for the same rows."
   ]
  },
  {
   "cell_type": "markdown",
   "metadata": {},
   "source": [
    "Let's explore this in more details and obtain the names of the columns, so that we can plot them separately and see the correlations in more details."
   ]
  },
  {
   "cell_type": "code",
   "execution_count": 16,
   "metadata": {},
   "outputs": [
    {
     "data": {
      "image/png": "[encoded data removed]",
      "text/plain": [
       "<Figure size 1800x720 with 2 Axes>"
      ]
     },
     "metadata": {
      "needs_background": "light"
     },
     "output_type": "display_data"
    }
   ],
   "source": [
    "msno.matrix(data.iloc[:,0:44])\n",
    "plt.show()"
   ]
  },
  {
   "cell_type": "code",
   "execution_count": 17,
   "metadata": {},
   "outputs": [
    {
     "data": {
      "image/png": "[encoded data removed]",
      "text/plain": [
       "<Figure size 1800x720 with 2 Axes>"
      ]
     },
     "metadata": {
      "needs_background": "light"
     },
     "output_type": "display_data"
    }
   ],
   "source": [
    "msno.matrix(data.iloc[:,44:89])\n",
    "plt.show()"
   ]
  },
  {
   "cell_type": "markdown",
   "metadata": {},
   "source": [
    "Now that we can see more details about those columns, let's separate them out from the rest of the data and see their correlations (These columns could also be seen from our missing value count table, they make the first 14 columns, each of which contain about 95% of missing values):"
   ]
  },
  {
   "cell_type": "code",
   "execution_count": 18,
   "metadata": {},
   "outputs": [
    {
     "data": {
      "image/png": "[encoded data removed]",
      "text/plain": [
       "<Figure size 1800x720 with 2 Axes>"
      ]
     },
     "metadata": {
      "needs_background": "light"
     },
     "output_type": "display_data"
    }
   ],
   "source": [
    "msno.matrix(data[['all_util', 'inq_fi', 'inq_last_12m', 'max_bal_bc', 'open_acc_6m',\n",
    "                  'open_il_12m', 'open_il_24m', 'open_act_il', 'open_rv_12m', 'open_rv_24m', \n",
    "                  'total_bal_il', 'total_cu_tl', 'il_util', 'mths_since_rcnt_il']])\n",
    "plt.show()"
   ]
  },
  {
   "cell_type": "markdown",
   "metadata": {},
   "source": [
    "Let's also take a look at the heatmap to see the correlation among the non-missing values:"
   ]
  },
  {
   "cell_type": "code",
   "execution_count": 19,
   "metadata": {},
   "outputs": [
    {
     "data": {
      "text/plain": [
       "<AxesSubplot:>"
      ]
     },
     "execution_count": 19,
     "metadata": {},
     "output_type": "execute_result"
    },
    {
     "data": {
      "image/png": "[encoded data removed]",
      "text/plain": [
       "<Figure size 1440x864 with 1 Axes>"
      ]
     },
     "metadata": {
      "needs_background": "light"
     },
     "output_type": "display_data"
    }
   ],
   "source": [
    "msno.heatmap(data[['all_util', 'inq_fi', 'inq_last_12m', 'max_bal_bc', 'open_acc_6m',\n",
    "                      'open_il_12m', 'open_il_24m', 'open_act_il', 'open_rv_12m', 'open_rv_24m',\n",
    "                      'total_bal_il', 'total_cu_tl', 'il_util', 'mths_since_rcnt_il']])\n",
    "# sns.heatmap(data.corr(), square=True, cmap='RdYlGn')"
   ]
  },
  {
   "cell_type": "markdown",
   "metadata": {},
   "source": [
    "From this we can see that all the non-null values of these selected columns are strongly correlated, and they appear only at the top of the above charts. This suggests that either this data was collected from a separate source or it was joined from a different table. We should note that this data (around 20,000 rows) contains about 5% of the whole data set. For that reason, we can just drop these columns."
   ]
  },
  {
   "cell_type": "code",
   "execution_count": 20,
   "metadata": {},
   "outputs": [],
   "source": [
    "data.drop(['all_util', 'inq_fi', 'inq_last_12m', 'max_bal_bc', 'open_acc_6m',\n",
    "                  'open_il_12m', 'open_il_24m', 'open_act_il', 'open_rv_12m', \n",
    "                  'open_rv_24m','total_bal_il', 'total_cu_tl', 'il_util', \n",
    "                  'mths_since_rcnt_il'], axis=1, inplace=True)"
   ]
  },
  {
   "cell_type": "code",
   "execution_count": 21,
   "metadata": {},
   "outputs": [
    {
     "data": {
      "text/html": [
       "<div>\n",
       "<style scoped>\n",
       "    .dataframe tbody tr th:only-of-type {\n",
       "        vertical-align: middle;\n",
       "    }\n",
       "\n",
       "    .dataframe tbody tr th {\n",
       "        vertical-align: top;\n",
       "    }\n",
       "\n",
       "    .dataframe thead th {\n",
       "        text-align: right;\n",
       "    }\n",
       "</style>\n",
       "<table border=\"1\" class=\"dataframe\">\n",
       "  <thead>\n",
       "    <tr style=\"text-align: right;\">\n",
       "      <th></th>\n",
       "      <th>acc_now_delinq</th>\n",
       "      <th>acc_open_past_24mths</th>\n",
       "      <th>addr_state</th>\n",
       "      <th>annual_inc</th>\n",
       "      <th>application_type</th>\n",
       "      <th>avg_cur_bal</th>\n",
       "      <th>bc_open_to_buy</th>\n",
       "      <th>bc_util</th>\n",
       "      <th>chargeoff_within_12_mths</th>\n",
       "      <th>collections_12_mths_ex_med</th>\n",
       "      <th>...</th>\n",
       "      <th>title</th>\n",
       "      <th>tot_cur_bal</th>\n",
       "      <th>tot_hi_cred_lim</th>\n",
       "      <th>total_acc</th>\n",
       "      <th>total_bal_ex_mort</th>\n",
       "      <th>total_bc_limit</th>\n",
       "      <th>total_il_high_credit_limit</th>\n",
       "      <th>total_rev_hi_lim</th>\n",
       "      <th>verification_status</th>\n",
       "      <th>zip_code</th>\n",
       "    </tr>\n",
       "  </thead>\n",
       "  <tbody>\n",
       "    <tr>\n",
       "      <th>421092</th>\n",
       "      <td>0.0</td>\n",
       "      <td>6.0</td>\n",
       "      <td>MA</td>\n",
       "      <td>64400.0</td>\n",
       "      <td>Individual</td>\n",
       "      <td>3895.0</td>\n",
       "      <td>3752.0</td>\n",
       "      <td>61.3</td>\n",
       "      <td>0.0</td>\n",
       "      <td>1.0</td>\n",
       "      <td>...</td>\n",
       "      <td>Debt consolidation</td>\n",
       "      <td>58418.0</td>\n",
       "      <td>96919.0</td>\n",
       "      <td>20.0</td>\n",
       "      <td>58418.0</td>\n",
       "      <td>9700.0</td>\n",
       "      <td>69919.0</td>\n",
       "      <td>27000.0</td>\n",
       "      <td>Source Verified</td>\n",
       "      <td>010xx</td>\n",
       "    </tr>\n",
       "    <tr>\n",
       "      <th>421093</th>\n",
       "      <td>0.0</td>\n",
       "      <td>7.0</td>\n",
       "      <td>TN</td>\n",
       "      <td>35000.0</td>\n",
       "      <td>Individual</td>\n",
       "      <td>3798.0</td>\n",
       "      <td>2554.0</td>\n",
       "      <td>75.9</td>\n",
       "      <td>0.0</td>\n",
       "      <td>0.0</td>\n",
       "      <td>...</td>\n",
       "      <td>Debt consolidation</td>\n",
       "      <td>34178.0</td>\n",
       "      <td>51239.0</td>\n",
       "      <td>22.0</td>\n",
       "      <td>34178.0</td>\n",
       "      <td>10600.0</td>\n",
       "      <td>33239.0</td>\n",
       "      <td>18000.0</td>\n",
       "      <td>Verified</td>\n",
       "      <td>378xx</td>\n",
       "    </tr>\n",
       "    <tr>\n",
       "      <th>421094</th>\n",
       "      <td>0.0</td>\n",
       "      <td>1.0</td>\n",
       "      <td>FL</td>\n",
       "      <td>100000.0</td>\n",
       "      <td>Individual</td>\n",
       "      <td>4163.0</td>\n",
       "      <td>8434.0</td>\n",
       "      <td>79.8</td>\n",
       "      <td>0.0</td>\n",
       "      <td>0.0</td>\n",
       "      <td>...</td>\n",
       "      <td>Credit card refinancing</td>\n",
       "      <td>33307.0</td>\n",
       "      <td>43740.0</td>\n",
       "      <td>10.0</td>\n",
       "      <td>33307.0</td>\n",
       "      <td>41700.0</td>\n",
       "      <td>0.0</td>\n",
       "      <td>41700.0</td>\n",
       "      <td>Verified</td>\n",
       "      <td>331xx</td>\n",
       "    </tr>\n",
       "    <tr>\n",
       "      <th>421095</th>\n",
       "      <td>NaN</td>\n",
       "      <td>NaN</td>\n",
       "      <td>NaN</td>\n",
       "      <td>NaN</td>\n",
       "      <td>NaN</td>\n",
       "      <td>NaN</td>\n",
       "      <td>NaN</td>\n",
       "      <td>NaN</td>\n",
       "      <td>NaN</td>\n",
       "      <td>NaN</td>\n",
       "      <td>...</td>\n",
       "      <td>NaN</td>\n",
       "      <td>NaN</td>\n",
       "      <td>NaN</td>\n",
       "      <td>NaN</td>\n",
       "      <td>NaN</td>\n",
       "      <td>NaN</td>\n",
       "      <td>NaN</td>\n",
       "      <td>NaN</td>\n",
       "      <td>NaN</td>\n",
       "      <td>NaN</td>\n",
       "    </tr>\n",
       "    <tr>\n",
       "      <th>421096</th>\n",
       "      <td>NaN</td>\n",
       "      <td>NaN</td>\n",
       "      <td>NaN</td>\n",
       "      <td>NaN</td>\n",
       "      <td>NaN</td>\n",
       "      <td>NaN</td>\n",
       "      <td>NaN</td>\n",
       "      <td>NaN</td>\n",
       "      <td>NaN</td>\n",
       "      <td>NaN</td>\n",
       "      <td>...</td>\n",
       "      <td>NaN</td>\n",
       "      <td>NaN</td>\n",
       "      <td>NaN</td>\n",
       "      <td>NaN</td>\n",
       "      <td>NaN</td>\n",
       "      <td>NaN</td>\n",
       "      <td>NaN</td>\n",
       "      <td>NaN</td>\n",
       "      <td>NaN</td>\n",
       "      <td>NaN</td>\n",
       "    </tr>\n",
       "  </tbody>\n",
       "</table>\n",
       "<p>5 rows × 75 columns</p>\n",
       "</div>"
      ],
      "text/plain": [
       "        acc_now_delinq  acc_open_past_24mths addr_state  annual_inc  \\\n",
       "421092             0.0                   6.0         MA     64400.0   \n",
       "421093             0.0                   7.0         TN     35000.0   \n",
       "421094             0.0                   1.0         FL    100000.0   \n",
       "421095             NaN                   NaN        NaN         NaN   \n",
       "421096             NaN                   NaN        NaN         NaN   \n",
       "\n",
       "       application_type  avg_cur_bal  bc_open_to_buy  bc_util  \\\n",
       "421092       Individual       3895.0          3752.0     61.3   \n",
       "421093       Individual       3798.0          2554.0     75.9   \n",
       "421094       Individual       4163.0          8434.0     79.8   \n",
       "421095              NaN          NaN             NaN      NaN   \n",
       "421096              NaN          NaN             NaN      NaN   \n",
       "\n",
       "        chargeoff_within_12_mths  collections_12_mths_ex_med  ...  \\\n",
       "421092                       0.0                         1.0  ...   \n",
       "421093                       0.0                         0.0  ...   \n",
       "421094                       0.0                         0.0  ...   \n",
       "421095                       NaN                         NaN  ...   \n",
       "421096                       NaN                         NaN  ...   \n",
       "\n",
       "                          title  tot_cur_bal  tot_hi_cred_lim total_acc  \\\n",
       "421092       Debt consolidation      58418.0          96919.0      20.0   \n",
       "421093       Debt consolidation      34178.0          51239.0      22.0   \n",
       "421094  Credit card refinancing      33307.0          43740.0      10.0   \n",
       "421095                      NaN          NaN              NaN       NaN   \n",
       "421096                      NaN          NaN              NaN       NaN   \n",
       "\n",
       "       total_bal_ex_mort total_bc_limit  total_il_high_credit_limit  \\\n",
       "421092           58418.0         9700.0                     69919.0   \n",
       "421093           34178.0        10600.0                     33239.0   \n",
       "421094           33307.0        41700.0                         0.0   \n",
       "421095               NaN            NaN                         NaN   \n",
       "421096               NaN            NaN                         NaN   \n",
       "\n",
       "        total_rev_hi_lim verification_status zip_code  \n",
       "421092           27000.0     Source Verified    010xx  \n",
       "421093           18000.0            Verified    378xx  \n",
       "421094           41700.0            Verified    331xx  \n",
       "421095               NaN                 NaN      NaN  \n",
       "421096               NaN                 NaN      NaN  \n",
       "\n",
       "[5 rows x 75 columns]"
      ]
     },
     "execution_count": 21,
     "metadata": {},
     "output_type": "execute_result"
    }
   ],
   "source": [
    "# Let's look at the end of the dataset\n",
    "data.tail()"
   ]
  },
  {
   "cell_type": "code",
   "execution_count": 22,
   "metadata": {},
   "outputs": [],
   "source": [
    "#data.tail(2).info()"
   ]
  },
  {
   "cell_type": "markdown",
   "metadata": {},
   "source": [
    "Last two rows have no data, let's drop those two rows:"
   ]
  },
  {
   "cell_type": "code",
   "execution_count": 23,
   "metadata": {},
   "outputs": [],
   "source": [
    "data.drop(data.tail(2).index,inplace = True)"
   ]
  },
  {
   "cell_type": "markdown",
   "metadata": {},
   "source": [
    "Let's now look at the other columns which have significant amount of missing values and also have names that count the number of months:"
   ]
  },
  {
   "cell_type": "code",
   "execution_count": 24,
   "metadata": {},
   "outputs": [
    {
     "data": {
      "text/html": [
       "<div>\n",
       "<style scoped>\n",
       "    .dataframe tbody tr th:only-of-type {\n",
       "        vertical-align: middle;\n",
       "    }\n",
       "\n",
       "    .dataframe tbody tr th {\n",
       "        vertical-align: top;\n",
       "    }\n",
       "\n",
       "    .dataframe thead th {\n",
       "        text-align: right;\n",
       "    }\n",
       "</style>\n",
       "<table border=\"1\" class=\"dataframe\">\n",
       "  <thead>\n",
       "    <tr style=\"text-align: right;\">\n",
       "      <th></th>\n",
       "      <th>mths_since_last_record</th>\n",
       "      <th>mths_since_recent_bc_dlq</th>\n",
       "      <th>mths_since_last_major_derog</th>\n",
       "      <th>mths_since_recent_revol_delinq</th>\n",
       "      <th>mths_since_last_delinq</th>\n",
       "      <th>mths_since_recent_inq</th>\n",
       "      <th>mths_since_recent_bc</th>\n",
       "    </tr>\n",
       "  </thead>\n",
       "  <tbody>\n",
       "    <tr>\n",
       "      <th>0</th>\n",
       "      <td>NaN</td>\n",
       "      <td>NaN</td>\n",
       "      <td>NaN</td>\n",
       "      <td>NaN</td>\n",
       "      <td>NaN</td>\n",
       "      <td>14.0</td>\n",
       "      <td>4.0</td>\n",
       "    </tr>\n",
       "    <tr>\n",
       "      <th>1</th>\n",
       "      <td>NaN</td>\n",
       "      <td>NaN</td>\n",
       "      <td>NaN</td>\n",
       "      <td>NaN</td>\n",
       "      <td>NaN</td>\n",
       "      <td>NaN</td>\n",
       "      <td>73.0</td>\n",
       "    </tr>\n",
       "    <tr>\n",
       "      <th>2</th>\n",
       "      <td>NaN</td>\n",
       "      <td>NaN</td>\n",
       "      <td>NaN</td>\n",
       "      <td>NaN</td>\n",
       "      <td>NaN</td>\n",
       "      <td>16.0</td>\n",
       "      <td>10.0</td>\n",
       "    </tr>\n",
       "    <tr>\n",
       "      <th>3</th>\n",
       "      <td>NaN</td>\n",
       "      <td>NaN</td>\n",
       "      <td>NaN</td>\n",
       "      <td>61.0</td>\n",
       "      <td>61.0</td>\n",
       "      <td>0.0</td>\n",
       "      <td>16.0</td>\n",
       "    </tr>\n",
       "    <tr>\n",
       "      <th>4</th>\n",
       "      <td>NaN</td>\n",
       "      <td>NaN</td>\n",
       "      <td>NaN</td>\n",
       "      <td>NaN</td>\n",
       "      <td>NaN</td>\n",
       "      <td>NaN</td>\n",
       "      <td>25.0</td>\n",
       "    </tr>\n",
       "  </tbody>\n",
       "</table>\n",
       "</div>"
      ],
      "text/plain": [
       "   mths_since_last_record  mths_since_recent_bc_dlq  \\\n",
       "0                     NaN                       NaN   \n",
       "1                     NaN                       NaN   \n",
       "2                     NaN                       NaN   \n",
       "3                     NaN                       NaN   \n",
       "4                     NaN                       NaN   \n",
       "\n",
       "   mths_since_last_major_derog  mths_since_recent_revol_delinq  \\\n",
       "0                          NaN                             NaN   \n",
       "1                          NaN                             NaN   \n",
       "2                          NaN                             NaN   \n",
       "3                          NaN                            61.0   \n",
       "4                          NaN                             NaN   \n",
       "\n",
       "   mths_since_last_delinq  mths_since_recent_inq  mths_since_recent_bc  \n",
       "0                     NaN                   14.0                   4.0  \n",
       "1                     NaN                    NaN                  73.0  \n",
       "2                     NaN                   16.0                  10.0  \n",
       "3                    61.0                    0.0                  16.0  \n",
       "4                     NaN                    NaN                  25.0  "
      ]
     },
     "execution_count": 24,
     "metadata": {},
     "output_type": "execute_result"
    }
   ],
   "source": [
    "data[['mths_since_last_record', 'mths_since_recent_bc_dlq', \n",
    "      'mths_since_last_major_derog', 'mths_since_recent_revol_delinq', \n",
    "      'mths_since_last_delinq', 'mths_since_recent_inq', 'mths_since_recent_bc']].head(5)"
   ]
  },
  {
   "cell_type": "markdown",
   "metadata": {},
   "source": [
    "The documentation of the dataset gives the following definitions of these columns:\n",
    "\n",
    "* `mths_since_last_record`\t       The number of months since the last public record.\n",
    "* `mths_since_recent_bc_dlq`\t   Months since most recent bankcard delinquency\n",
    "* `mths_since_last_major_derog`\t   Months since most recent 90-day or worse rating\n",
    "* `mths_since_recent_revol_delinq` Months since most recent revolving delinquency.\n",
    "* `mths_since_last_delinq`\t       The number of months since the borrower's last delinquency.\n",
    "* `mths_since_recent_inq`\t       Months since most recent inquiry. \n",
    "*  `mths_since_recent_bc`\t       Months since most recent bankcard account opened."
   ]
  },
  {
   "cell_type": "markdown",
   "metadata": {},
   "source": [
    "From this we can see that perhaps the missing values are meant to be zero. Because not every account becomes delinquent or a subject of public record and so. We will just follow the presumtion of innocence and assume that \"everyone is innocent until proven guilty\". So let's replace all the NaN values with zeros and see if that works for our predictive model.  "
   ]
  },
  {
   "cell_type": "code",
   "execution_count": 25,
   "metadata": {},
   "outputs": [],
   "source": [
    "data[['mths_since_last_record', 'mths_since_recent_bc_dlq', \n",
    "      'mths_since_last_major_derog', 'mths_since_recent_revol_delinq', \n",
    "      'mths_since_last_delinq', 'mths_since_recent_inq', \n",
    "      'mths_since_recent_bc']] = data[['mths_since_last_record', 'mths_since_recent_bc_dlq', \n",
    "      'mths_since_last_major_derog', 'mths_since_recent_revol_delinq', \n",
    "      'mths_since_last_delinq', 'mths_since_recent_inq', \n",
    "      'mths_since_recent_bc']].fillna(value=0)"
   ]
  },
  {
   "cell_type": "markdown",
   "metadata": {},
   "source": [
    "Let's look at the rest of the columns with missing values:"
   ]
  },
  {
   "cell_type": "code",
   "execution_count": 26,
   "metadata": {},
   "outputs": [
    {
     "data": {
      "text/html": [
       "<div>\n",
       "<style scoped>\n",
       "    .dataframe tbody tr th:only-of-type {\n",
       "        vertical-align: middle;\n",
       "    }\n",
       "\n",
       "    .dataframe tbody tr th {\n",
       "        vertical-align: top;\n",
       "    }\n",
       "\n",
       "    .dataframe thead th {\n",
       "        text-align: right;\n",
       "    }\n",
       "</style>\n",
       "<table border=\"1\" class=\"dataframe\">\n",
       "  <thead>\n",
       "    <tr style=\"text-align: right;\">\n",
       "      <th></th>\n",
       "      <th>emp_title</th>\n",
       "      <th>emp_length</th>\n",
       "      <th>num_tl_120dpd_2m</th>\n",
       "      <th>mo_sin_old_il_acct</th>\n",
       "      <th>percent_bc_gt_75</th>\n",
       "      <th>bc_util</th>\n",
       "      <th>bc_open_to_buy</th>\n",
       "      <th>revol_util</th>\n",
       "      <th>title</th>\n",
       "    </tr>\n",
       "  </thead>\n",
       "  <tbody>\n",
       "    <tr>\n",
       "      <th>0</th>\n",
       "      <td>Teacher</td>\n",
       "      <td>10+ years</td>\n",
       "      <td>0.0</td>\n",
       "      <td>127.0</td>\n",
       "      <td>0.0</td>\n",
       "      <td>17.1</td>\n",
       "      <td>41055.0</td>\n",
       "      <td>13.4%</td>\n",
       "      <td>Debt consolidation</td>\n",
       "    </tr>\n",
       "    <tr>\n",
       "      <th>1</th>\n",
       "      <td>Director</td>\n",
       "      <td>1 year</td>\n",
       "      <td>0.0</td>\n",
       "      <td>166.0</td>\n",
       "      <td>0.0</td>\n",
       "      <td>44.0</td>\n",
       "      <td>24661.0</td>\n",
       "      <td>42.5%</td>\n",
       "      <td>Credit card refinancing</td>\n",
       "    </tr>\n",
       "    <tr>\n",
       "      <th>2</th>\n",
       "      <td>Engineer</td>\n",
       "      <td>10+ years</td>\n",
       "      <td>0.0</td>\n",
       "      <td>143.0</td>\n",
       "      <td>50.0</td>\n",
       "      <td>59.9</td>\n",
       "      <td>23476.0</td>\n",
       "      <td>51.9%</td>\n",
       "      <td>Debt consolidation</td>\n",
       "    </tr>\n",
       "    <tr>\n",
       "      <th>3</th>\n",
       "      <td>Vice-President</td>\n",
       "      <td>2 years</td>\n",
       "      <td>0.0</td>\n",
       "      <td>118.0</td>\n",
       "      <td>33.3</td>\n",
       "      <td>50.3</td>\n",
       "      <td>21569.0</td>\n",
       "      <td>50.3%</td>\n",
       "      <td>Home improvement</td>\n",
       "    </tr>\n",
       "    <tr>\n",
       "      <th>4</th>\n",
       "      <td>RN</td>\n",
       "      <td>&lt; 1 year</td>\n",
       "      <td>0.0</td>\n",
       "      <td>112.0</td>\n",
       "      <td>100.0</td>\n",
       "      <td>102.4</td>\n",
       "      <td>0.0</td>\n",
       "      <td>102.4%</td>\n",
       "      <td>NaN</td>\n",
       "    </tr>\n",
       "  </tbody>\n",
       "</table>\n",
       "</div>"
      ],
      "text/plain": [
       "        emp_title emp_length  num_tl_120dpd_2m  mo_sin_old_il_acct  \\\n",
       "0         Teacher  10+ years               0.0               127.0   \n",
       "1        Director     1 year               0.0               166.0   \n",
       "2        Engineer  10+ years               0.0               143.0   \n",
       "3  Vice-President    2 years               0.0               118.0   \n",
       "4              RN   < 1 year               0.0               112.0   \n",
       "\n",
       "   percent_bc_gt_75  bc_util  bc_open_to_buy revol_util  \\\n",
       "0               0.0     17.1         41055.0      13.4%   \n",
       "1               0.0     44.0         24661.0      42.5%   \n",
       "2              50.0     59.9         23476.0      51.9%   \n",
       "3              33.3     50.3         21569.0      50.3%   \n",
       "4             100.0    102.4             0.0     102.4%   \n",
       "\n",
       "                     title  \n",
       "0       Debt consolidation  \n",
       "1  Credit card refinancing  \n",
       "2       Debt consolidation  \n",
       "3         Home improvement  \n",
       "4                      NaN  "
      ]
     },
     "execution_count": 26,
     "metadata": {},
     "output_type": "execute_result"
    }
   ],
   "source": [
    "data[['emp_title','emp_length','num_tl_120dpd_2m','mo_sin_old_il_acct','percent_bc_gt_75',\n",
    "      'bc_util','bc_open_to_buy','revol_util','title']].head()"
   ]
  },
  {
   "cell_type": "markdown",
   "metadata": {},
   "source": [
    "We can see that some of these columns with missing values are also of object type. We may first look at the content of the data itself and decide whether we need those columns or not, and if we decide to keep any columns, we can then fill up the missing values and/or change the data type. Let's now look at the object type data again and see if we need to drop any irrelevant columns."
   ]
  },
  {
   "cell_type": "code",
   "execution_count": 27,
   "metadata": {},
   "outputs": [
    {
     "data": {
      "text/html": [
       "<div>\n",
       "<style scoped>\n",
       "    .dataframe tbody tr th:only-of-type {\n",
       "        vertical-align: middle;\n",
       "    }\n",
       "\n",
       "    .dataframe tbody tr th {\n",
       "        vertical-align: top;\n",
       "    }\n",
       "\n",
       "    .dataframe thead th {\n",
       "        text-align: right;\n",
       "    }\n",
       "</style>\n",
       "<table border=\"1\" class=\"dataframe\">\n",
       "  <thead>\n",
       "    <tr style=\"text-align: right;\">\n",
       "      <th></th>\n",
       "      <th>addr_state</th>\n",
       "      <th>application_type</th>\n",
       "      <th>earliest_cr_line</th>\n",
       "      <th>emp_length</th>\n",
       "      <th>emp_title</th>\n",
       "      <th>grade</th>\n",
       "      <th>home_ownership</th>\n",
       "      <th>initial_list_status</th>\n",
       "      <th>int_rate</th>\n",
       "      <th>issue_d</th>\n",
       "      <th>loan_status</th>\n",
       "      <th>purpose</th>\n",
       "      <th>revol_util</th>\n",
       "      <th>sub_grade</th>\n",
       "      <th>term</th>\n",
       "      <th>title</th>\n",
       "      <th>verification_status</th>\n",
       "      <th>zip_code</th>\n",
       "    </tr>\n",
       "  </thead>\n",
       "  <tbody>\n",
       "    <tr>\n",
       "      <th>0</th>\n",
       "      <td>KS</td>\n",
       "      <td>Individual</td>\n",
       "      <td>Nov-2003</td>\n",
       "      <td>10+ years</td>\n",
       "      <td>Teacher</td>\n",
       "      <td>B</td>\n",
       "      <td>MORTGAGE</td>\n",
       "      <td>w</td>\n",
       "      <td>9.80%</td>\n",
       "      <td>Dec-2015</td>\n",
       "      <td>Fully Paid</td>\n",
       "      <td>debt_consolidation</td>\n",
       "      <td>13.4%</td>\n",
       "      <td>B3</td>\n",
       "      <td>60 months</td>\n",
       "      <td>Debt consolidation</td>\n",
       "      <td>Not Verified</td>\n",
       "      <td>660xx</td>\n",
       "    </tr>\n",
       "    <tr>\n",
       "      <th>1</th>\n",
       "      <td>VT</td>\n",
       "      <td>Individual</td>\n",
       "      <td>Feb-1996</td>\n",
       "      <td>1 year</td>\n",
       "      <td>Director</td>\n",
       "      <td>A</td>\n",
       "      <td>MORTGAGE</td>\n",
       "      <td>w</td>\n",
       "      <td>5.32%</td>\n",
       "      <td>Dec-2015</td>\n",
       "      <td>Current</td>\n",
       "      <td>credit_card</td>\n",
       "      <td>42.5%</td>\n",
       "      <td>A1</td>\n",
       "      <td>36 months</td>\n",
       "      <td>Credit card refinancing</td>\n",
       "      <td>Not Verified</td>\n",
       "      <td>054xx</td>\n",
       "    </tr>\n",
       "    <tr>\n",
       "      <th>2</th>\n",
       "      <td>IN</td>\n",
       "      <td>Individual</td>\n",
       "      <td>Oct-2002</td>\n",
       "      <td>10+ years</td>\n",
       "      <td>Engineer</td>\n",
       "      <td>D</td>\n",
       "      <td>MORTGAGE</td>\n",
       "      <td>w</td>\n",
       "      <td>18.49%</td>\n",
       "      <td>Dec-2015</td>\n",
       "      <td>Current</td>\n",
       "      <td>debt_consolidation</td>\n",
       "      <td>51.9%</td>\n",
       "      <td>D5</td>\n",
       "      <td>60 months</td>\n",
       "      <td>Debt consolidation</td>\n",
       "      <td>Verified</td>\n",
       "      <td>471xx</td>\n",
       "    </tr>\n",
       "    <tr>\n",
       "      <th>3</th>\n",
       "      <td>OH</td>\n",
       "      <td>Individual</td>\n",
       "      <td>Aug-1997</td>\n",
       "      <td>2 years</td>\n",
       "      <td>Vice-President</td>\n",
       "      <td>D</td>\n",
       "      <td>MORTGAGE</td>\n",
       "      <td>w</td>\n",
       "      <td>15.77%</td>\n",
       "      <td>Dec-2015</td>\n",
       "      <td>Fully Paid</td>\n",
       "      <td>home_improvement</td>\n",
       "      <td>50.3%</td>\n",
       "      <td>D1</td>\n",
       "      <td>36 months</td>\n",
       "      <td>Home improvement</td>\n",
       "      <td>Not Verified</td>\n",
       "      <td>430xx</td>\n",
       "    </tr>\n",
       "    <tr>\n",
       "      <th>4</th>\n",
       "      <td>FL</td>\n",
       "      <td>Individual</td>\n",
       "      <td>Jun-2006</td>\n",
       "      <td>&lt; 1 year</td>\n",
       "      <td>RN</td>\n",
       "      <td>E</td>\n",
       "      <td>RENT</td>\n",
       "      <td>w</td>\n",
       "      <td>19.89%</td>\n",
       "      <td>Dec-2015</td>\n",
       "      <td>Current</td>\n",
       "      <td>credit_card</td>\n",
       "      <td>102.4%</td>\n",
       "      <td>E3</td>\n",
       "      <td>60 months</td>\n",
       "      <td>NaN</td>\n",
       "      <td>Verified</td>\n",
       "      <td>322xx</td>\n",
       "    </tr>\n",
       "  </tbody>\n",
       "</table>\n",
       "</div>"
      ],
      "text/plain": [
       "  addr_state application_type earliest_cr_line emp_length       emp_title  \\\n",
       "0         KS       Individual         Nov-2003  10+ years         Teacher   \n",
       "1         VT       Individual         Feb-1996     1 year        Director   \n",
       "2         IN       Individual         Oct-2002  10+ years        Engineer   \n",
       "3         OH       Individual         Aug-1997    2 years  Vice-President   \n",
       "4         FL       Individual         Jun-2006   < 1 year              RN   \n",
       "\n",
       "  grade home_ownership initial_list_status int_rate   issue_d loan_status  \\\n",
       "0     B       MORTGAGE                   w    9.80%  Dec-2015  Fully Paid   \n",
       "1     A       MORTGAGE                   w    5.32%  Dec-2015     Current   \n",
       "2     D       MORTGAGE                   w   18.49%  Dec-2015     Current   \n",
       "3     D       MORTGAGE                   w   15.77%  Dec-2015  Fully Paid   \n",
       "4     E           RENT                   w   19.89%  Dec-2015     Current   \n",
       "\n",
       "              purpose revol_util sub_grade        term  \\\n",
       "0  debt_consolidation      13.4%        B3   60 months   \n",
       "1         credit_card      42.5%        A1   36 months   \n",
       "2  debt_consolidation      51.9%        D5   60 months   \n",
       "3    home_improvement      50.3%        D1   36 months   \n",
       "4         credit_card     102.4%        E3   60 months   \n",
       "\n",
       "                     title verification_status zip_code  \n",
       "0       Debt consolidation        Not Verified    660xx  \n",
       "1  Credit card refinancing        Not Verified    054xx  \n",
       "2       Debt consolidation            Verified    471xx  \n",
       "3         Home improvement        Not Verified    430xx  \n",
       "4                      NaN            Verified    322xx  "
      ]
     },
     "execution_count": 27,
     "metadata": {},
     "output_type": "execute_result"
    }
   ],
   "source": [
    "data.select_dtypes(include=['object']).head()"
   ]
  },
  {
   "cell_type": "code",
   "execution_count": 28,
   "metadata": {},
   "outputs": [],
   "source": [
    "#data['title'].unique()\n",
    "#data['title'].value_counts()"
   ]
  },
  {
   "cell_type": "markdown",
   "metadata": {},
   "source": [
    "After some careful review, I decided that `addr_state`, `application_type`, `emp_title` (employment title), `title`, and `zip_code` may not be directly relevant to our task. We are also not sure how to actually quantify some of these columns, so for the simplicity of our model we will just drop those columns. "
   ]
  },
  {
   "cell_type": "code",
   "execution_count": 29,
   "metadata": {},
   "outputs": [],
   "source": [
    "data = data.drop(['addr_state', 'application_type', 'emp_title', 'title', 'zip_code'], axis=1)"
   ]
  },
  {
   "cell_type": "code",
   "execution_count": 30,
   "metadata": {},
   "outputs": [
    {
     "name": "stdout",
     "output_type": "stream",
     "text": [
      "<class 'pandas.core.frame.DataFrame'>\n",
      "Int64Index: 421095 entries, 0 to 421094\n",
      "Data columns (total 70 columns):\n",
      " #   Column                          Non-Null Count   Dtype  \n",
      "---  ------                          --------------   -----  \n",
      " 0   acc_now_delinq                  421095 non-null  float64\n",
      " 1   acc_open_past_24mths            421095 non-null  float64\n",
      " 2   annual_inc                      421095 non-null  float64\n",
      " 3   avg_cur_bal                     421095 non-null  float64\n",
      " 4   bc_open_to_buy                  417132 non-null  float64\n",
      " 5   bc_util                         416868 non-null  float64\n",
      " 6   chargeoff_within_12_mths        421095 non-null  float64\n",
      " 7   collections_12_mths_ex_med      421095 non-null  float64\n",
      " 8   delinq_2yrs                     421095 non-null  float64\n",
      " 9   delinq_amnt                     421095 non-null  float64\n",
      " 10  dti                             421093 non-null  float64\n",
      " 11  earliest_cr_line                421095 non-null  object \n",
      " 12  emp_length                      397278 non-null  object \n",
      " 13  funded_amnt                     421095 non-null  float64\n",
      " 14  funded_amnt_inv                 421095 non-null  float64\n",
      " 15  grade                           421095 non-null  object \n",
      " 16  home_ownership                  421095 non-null  object \n",
      " 17  initial_list_status             421095 non-null  object \n",
      " 18  inq_last_6mths                  421095 non-null  float64\n",
      " 19  installment                     421095 non-null  float64\n",
      " 20  int_rate                        421095 non-null  object \n",
      " 21  issue_d                         421095 non-null  object \n",
      " 22  loan_amnt                       421095 non-null  float64\n",
      " 23  loan_status                     421095 non-null  object \n",
      " 24  mo_sin_old_il_acct              408841 non-null  float64\n",
      " 25  mo_sin_old_rev_tl_op            421095 non-null  float64\n",
      " 26  mo_sin_rcnt_rev_tl_op           421095 non-null  float64\n",
      " 27  mo_sin_rcnt_tl                  421095 non-null  float64\n",
      " 28  mort_acc                        421095 non-null  float64\n",
      " 29  mths_since_last_delinq          421095 non-null  float64\n",
      " 30  mths_since_last_major_derog     421095 non-null  float64\n",
      " 31  mths_since_last_record          421095 non-null  float64\n",
      " 32  mths_since_recent_bc            421095 non-null  float64\n",
      " 33  mths_since_recent_bc_dlq        421095 non-null  float64\n",
      " 34  mths_since_recent_inq           421095 non-null  float64\n",
      " 35  mths_since_recent_revol_delinq  421095 non-null  float64\n",
      " 36  num_accts_ever_120_pd           421095 non-null  float64\n",
      " 37  num_actv_bc_tl                  421095 non-null  float64\n",
      " 38  num_actv_rev_tl                 421095 non-null  float64\n",
      " 39  num_bc_sats                     421095 non-null  float64\n",
      " 40  num_bc_tl                       421095 non-null  float64\n",
      " 41  num_il_tl                       421095 non-null  float64\n",
      " 42  num_op_rev_tl                   421095 non-null  float64\n",
      " 43  num_rev_accts                   421094 non-null  float64\n",
      " 44  num_rev_tl_bal_gt_0             421095 non-null  float64\n",
      " 45  num_sats                        421095 non-null  float64\n",
      " 46  num_tl_120dpd_2m                401865 non-null  float64\n",
      " 47  num_tl_30dpd                    421095 non-null  float64\n",
      " 48  num_tl_90g_dpd_24m              421095 non-null  float64\n",
      " 49  num_tl_op_past_12m              421095 non-null  float64\n",
      " 50  open_acc                        421095 non-null  float64\n",
      " 51  pct_tl_nvr_dlq                  421095 non-null  float64\n",
      " 52  percent_bc_gt_75                416856 non-null  float64\n",
      " 53  policy_code                     421095 non-null  float64\n",
      " 54  pub_rec                         421095 non-null  float64\n",
      " 55  pub_rec_bankruptcies            421095 non-null  float64\n",
      " 56  purpose                         421095 non-null  object \n",
      " 57  revol_bal                       421095 non-null  float64\n",
      " 58  revol_util                      420933 non-null  object \n",
      " 59  sub_grade                       421095 non-null  object \n",
      " 60  tax_liens                       421095 non-null  float64\n",
      " 61  term                            421095 non-null  object \n",
      " 62  tot_cur_bal                     421095 non-null  float64\n",
      " 63  tot_hi_cred_lim                 421095 non-null  float64\n",
      " 64  total_acc                       421095 non-null  float64\n",
      " 65  total_bal_ex_mort               421095 non-null  float64\n",
      " 66  total_bc_limit                  421095 non-null  float64\n",
      " 67  total_il_high_credit_limit      421095 non-null  float64\n",
      " 68  total_rev_hi_lim                421095 non-null  float64\n",
      " 69  verification_status             421095 non-null  object \n",
      "dtypes: float64(57), object(13)\n",
      "memory usage: 228.1+ MB\n"
     ]
    }
   ],
   "source": [
    "data.info() # you can run this code if you want to see some details"
   ]
  },
  {
   "cell_type": "markdown",
   "metadata": {},
   "source": [
    "Let's explore the rest of the dataset with null values:"
   ]
  },
  {
   "cell_type": "code",
   "execution_count": 31,
   "metadata": {},
   "outputs": [
    {
     "data": {
      "text/html": [
       "<div>\n",
       "<style scoped>\n",
       "    .dataframe tbody tr th:only-of-type {\n",
       "        vertical-align: middle;\n",
       "    }\n",
       "\n",
       "    .dataframe tbody tr th {\n",
       "        vertical-align: top;\n",
       "    }\n",
       "\n",
       "    .dataframe thead th {\n",
       "        text-align: right;\n",
       "    }\n",
       "</style>\n",
       "<table border=\"1\" class=\"dataframe\">\n",
       "  <thead>\n",
       "    <tr style=\"text-align: right;\">\n",
       "      <th></th>\n",
       "      <th>bc_open_to_buy</th>\n",
       "      <th>bc_util</th>\n",
       "      <th>dti</th>\n",
       "      <th>emp_length</th>\n",
       "      <th>mo_sin_old_il_acct</th>\n",
       "      <th>num_rev_accts</th>\n",
       "      <th>num_tl_120dpd_2m</th>\n",
       "      <th>percent_bc_gt_75</th>\n",
       "      <th>revol_util</th>\n",
       "    </tr>\n",
       "  </thead>\n",
       "  <tbody>\n",
       "    <tr>\n",
       "      <th>51</th>\n",
       "      <td>NaN</td>\n",
       "      <td>NaN</td>\n",
       "      <td>6.52</td>\n",
       "      <td>6 years</td>\n",
       "      <td>167.0</td>\n",
       "      <td>4.0</td>\n",
       "      <td>0.0</td>\n",
       "      <td>NaN</td>\n",
       "      <td>56.3%</td>\n",
       "    </tr>\n",
       "    <tr>\n",
       "      <th>69</th>\n",
       "      <td>8818.0</td>\n",
       "      <td>27.7</td>\n",
       "      <td>16.11</td>\n",
       "      <td>NaN</td>\n",
       "      <td>123.0</td>\n",
       "      <td>25.0</td>\n",
       "      <td>0.0</td>\n",
       "      <td>0.0</td>\n",
       "      <td>21.2%</td>\n",
       "    </tr>\n",
       "    <tr>\n",
       "      <th>71</th>\n",
       "      <td>27172.0</td>\n",
       "      <td>10.9</td>\n",
       "      <td>10.24</td>\n",
       "      <td>NaN</td>\n",
       "      <td>139.0</td>\n",
       "      <td>13.0</td>\n",
       "      <td>0.0</td>\n",
       "      <td>0.0</td>\n",
       "      <td>10.3%</td>\n",
       "    </tr>\n",
       "    <tr>\n",
       "      <th>78</th>\n",
       "      <td>20142.0</td>\n",
       "      <td>32.2</td>\n",
       "      <td>8.43</td>\n",
       "      <td>8 years</td>\n",
       "      <td>NaN</td>\n",
       "      <td>22.0</td>\n",
       "      <td>0.0</td>\n",
       "      <td>12.5</td>\n",
       "      <td>26.7%</td>\n",
       "    </tr>\n",
       "    <tr>\n",
       "      <th>97</th>\n",
       "      <td>347.0</td>\n",
       "      <td>96.6</td>\n",
       "      <td>10.17</td>\n",
       "      <td>1 year</td>\n",
       "      <td>NaN</td>\n",
       "      <td>9.0</td>\n",
       "      <td>0.0</td>\n",
       "      <td>100.0</td>\n",
       "      <td>75.3%</td>\n",
       "    </tr>\n",
       "  </tbody>\n",
       "</table>\n",
       "</div>"
      ],
      "text/plain": [
       "    bc_open_to_buy  bc_util    dti emp_length  mo_sin_old_il_acct  \\\n",
       "51             NaN      NaN   6.52    6 years               167.0   \n",
       "69          8818.0     27.7  16.11        NaN               123.0   \n",
       "71         27172.0     10.9  10.24        NaN               139.0   \n",
       "78         20142.0     32.2   8.43    8 years                 NaN   \n",
       "97           347.0     96.6  10.17     1 year                 NaN   \n",
       "\n",
       "    num_rev_accts  num_tl_120dpd_2m  percent_bc_gt_75 revol_util  \n",
       "51            4.0               0.0               NaN      56.3%  \n",
       "69           25.0               0.0               0.0      21.2%  \n",
       "71           13.0               0.0               0.0      10.3%  \n",
       "78           22.0               0.0              12.5      26.7%  \n",
       "97            9.0               0.0             100.0      75.3%  "
      ]
     },
     "execution_count": 31,
     "metadata": {},
     "output_type": "execute_result"
    }
   ],
   "source": [
    "subset_df = data.loc[:, data.isnull().any()] # columns with null values\n",
    "#subset_df\n",
    "nan_values = subset_df[subset_df.isna().any(axis=1)] # rows and columns with null values\n",
    "nan_values.head()"
   ]
  },
  {
   "cell_type": "markdown",
   "metadata": {},
   "source": [
    "We see that some of the rows and columns still contain null values. Let's try to understand these columns and see if we can replace all those null values with something else, for example with zero. If that's not possible to do under the context, we will then just drop all the rows with null values. "
   ]
  },
  {
   "cell_type": "markdown",
   "metadata": {},
   "source": [
    "The documentation of the dataset gives the following definitions for these columns:\n",
    "\n",
    "* `bc_open_to_buy` - Total open to buy on revolving bankcards.\n",
    "* `bc_util` - Ratio of total current balance to high credit/credit limit for all bankcard accounts.\n",
    "* `dti` - A ratio calculated using the borrower’s total monthly debt payments on the total debt obligations, excluding mortgage and the requested LC loan, divided by the borrower’s self-reported monthly income.\n",
    "* `emp_length` - Employment length in years. Possible values are between 0 and 10 where 0 means less than one year and 10 means ten or more years. \n",
    "* `mo_sin_old_il_acct` - Months since oldest bank installment account opened.\n",
    "* `num_rev_accts` - Number of revolving accounts. \n",
    "* `num_tl_120dpd_2m` - Number of accounts currently 120 days past due (updated in past 2 months)\n",
    "* `percent_bc_gt_75` - Percentage of all bankcard accounts > 75% of limit.\n",
    "* `revol_util` - Revolving line utilization rate, or the amount of credit the borrower is using relative to all available revolving credit."
   ]
  },
  {
   "cell_type": "markdown",
   "metadata": {},
   "source": [
    "Let's now explore each of these columns one by one and try to convert them to an integer or float type data."
   ]
  },
  {
   "cell_type": "code",
   "execution_count": 32,
   "metadata": {},
   "outputs": [
    {
     "data": {
      "text/plain": [
       "3963"
      ]
     },
     "execution_count": 32,
     "metadata": {},
     "output_type": "execute_result"
    }
   ],
   "source": [
    "data['bc_open_to_buy'].isna().sum()"
   ]
  },
  {
   "cell_type": "code",
   "execution_count": 33,
   "metadata": {},
   "outputs": [
    {
     "data": {
      "text/plain": [
       "8526"
      ]
     },
     "execution_count": 33,
     "metadata": {},
     "output_type": "execute_result"
    }
   ],
   "source": [
    "len(data[data['bc_open_to_buy']==0]['bc_open_to_buy'])"
   ]
  },
  {
   "cell_type": "markdown",
   "metadata": {},
   "source": [
    "Since the value of zero is part of this column, maybe we can replace all the missing values with zeros. "
   ]
  },
  {
   "cell_type": "code",
   "execution_count": 34,
   "metadata": {},
   "outputs": [],
   "source": [
    "data['bc_open_to_buy'] = data['bc_open_to_buy'].fillna(value=0)"
   ]
  },
  {
   "cell_type": "markdown",
   "metadata": {},
   "source": [
    "We will perform similar analysis of the other columns and fill the missing values appropriately:"
   ]
  },
  {
   "cell_type": "code",
   "execution_count": 35,
   "metadata": {},
   "outputs": [],
   "source": [
    "data['bc_util'] = data['bc_util'].fillna(value=0)"
   ]
  },
  {
   "cell_type": "code",
   "execution_count": 36,
   "metadata": {},
   "outputs": [],
   "source": [
    "data['dti'] = data['dti'].fillna(value=0)"
   ]
  },
  {
   "cell_type": "code",
   "execution_count": 37,
   "metadata": {},
   "outputs": [
    {
     "data": {
      "text/plain": [
       "array(['10+ years', '1 year', '2 years', '< 1 year', '8 years', '5 years',\n",
       "       '3 years', '9 years', '7 years', '4 years', '6 years', nan],\n",
       "      dtype=object)"
      ]
     },
     "execution_count": 37,
     "metadata": {},
     "output_type": "execute_result"
    }
   ],
   "source": [
    "data['emp_length'].unique()"
   ]
  },
  {
   "cell_type": "code",
   "execution_count": 38,
   "metadata": {},
   "outputs": [],
   "source": [
    "#data['emp_length'] = data['emp_length'].replace({' years':''}, {' year':''}, regex = True)\n",
    "data['emp_length'] = data['emp_length'].replace(regex={' years': '', ' year': ''})"
   ]
  },
  {
   "cell_type": "code",
   "execution_count": 39,
   "metadata": {},
   "outputs": [],
   "source": [
    "data['emp_length'] = data['emp_length'].replace(['10+', '< 1'], ['10', '0'])"
   ]
  },
  {
   "cell_type": "code",
   "execution_count": 40,
   "metadata": {},
   "outputs": [],
   "source": [
    "data['emp_length'] = data['emp_length'].fillna(value=0)"
   ]
  },
  {
   "cell_type": "code",
   "execution_count": 41,
   "metadata": {},
   "outputs": [
    {
     "data": {
      "text/plain": [
       "array(['10', '1', '2', '0', '8', '5', '3', '9', '7', '4', '6', 0],\n",
       "      dtype=object)"
      ]
     },
     "execution_count": 41,
     "metadata": {},
     "output_type": "execute_result"
    }
   ],
   "source": [
    "data['emp_length'].unique()"
   ]
  },
  {
   "cell_type": "code",
   "execution_count": 42,
   "metadata": {},
   "outputs": [],
   "source": [
    "data['emp_length'] = data['emp_length'].astype('int64')"
   ]
  },
  {
   "cell_type": "code",
   "execution_count": 43,
   "metadata": {},
   "outputs": [],
   "source": [
    "#data['emp_length'] = data['emp_length'].astype(\"category\")"
   ]
  },
  {
   "cell_type": "code",
   "execution_count": 44,
   "metadata": {},
   "outputs": [],
   "source": [
    "data['mo_sin_old_il_acct'] = data['mo_sin_old_il_acct'].fillna(value=0)"
   ]
  },
  {
   "cell_type": "code",
   "execution_count": 45,
   "metadata": {},
   "outputs": [],
   "source": [
    "data['num_rev_accts'] = data['num_rev_accts'].fillna(value=0)"
   ]
  },
  {
   "cell_type": "code",
   "execution_count": 46,
   "metadata": {},
   "outputs": [],
   "source": [
    "data['num_tl_120dpd_2m'] = data['num_tl_120dpd_2m'].fillna(value=0)"
   ]
  },
  {
   "cell_type": "code",
   "execution_count": 47,
   "metadata": {},
   "outputs": [],
   "source": [
    "data['percent_bc_gt_75'] = data['percent_bc_gt_75'].fillna(value=0)"
   ]
  },
  {
   "cell_type": "code",
   "execution_count": 48,
   "metadata": {},
   "outputs": [],
   "source": [
    "data['revol_util'] = data['revol_util'].replace({'%':''}, regex = True)"
   ]
  },
  {
   "cell_type": "code",
   "execution_count": 49,
   "metadata": {},
   "outputs": [],
   "source": [
    "data['revol_util'] = data['revol_util'].astype('float64')"
   ]
  },
  {
   "cell_type": "code",
   "execution_count": 50,
   "metadata": {},
   "outputs": [],
   "source": [
    "data['revol_util'] = data['revol_util'].fillna(value=0)"
   ]
  },
  {
   "cell_type": "code",
   "execution_count": 51,
   "metadata": {},
   "outputs": [],
   "source": [
    "# data.select_dtypes(include=['object']).head(10)"
   ]
  },
  {
   "cell_type": "code",
   "execution_count": 52,
   "metadata": {},
   "outputs": [],
   "source": [
    "# 'earliest_cr_line' can be converted to number of years of the existing credit line.\n",
    "# We can extract the year part of this column and subtract it from 2015 \n",
    "# (this dataset is from 2015)\n",
    "data['earliest_cr_line'] = data['earliest_cr_line'].str.extract('(\\d+)')\n",
    "data['cr_line_years'] = 2015 - data['earliest_cr_line'].astype('int64')\n",
    "data.drop(['earliest_cr_line'], axis=1, inplace = True)"
   ]
  },
  {
   "cell_type": "code",
   "execution_count": 53,
   "metadata": {},
   "outputs": [],
   "source": [
    "#data['int_rate'] = data['int_rate'].str.extract('(\\d+)') # need to divide by 100\n",
    "data['int_rate'] = data['int_rate'].replace({'%':''}, regex = True)"
   ]
  },
  {
   "cell_type": "code",
   "execution_count": 54,
   "metadata": {},
   "outputs": [],
   "source": [
    "data['int_rate'] = data['int_rate'].astype('float64')"
   ]
  },
  {
   "cell_type": "code",
   "execution_count": 55,
   "metadata": {},
   "outputs": [],
   "source": [
    "data['term'] = data['term'].replace({' months':''}, regex = True).astype('int64')"
   ]
  },
  {
   "cell_type": "code",
   "execution_count": 56,
   "metadata": {},
   "outputs": [],
   "source": [
    "data['verification_status'] = data['verification_status'].replace({'Source ':''},regex = True)"
   ]
  },
  {
   "cell_type": "code",
   "execution_count": 57,
   "metadata": {},
   "outputs": [
    {
     "data": {
      "text/plain": [
       "array(['Not Verified', 'Verified'], dtype=object)"
      ]
     },
     "execution_count": 57,
     "metadata": {},
     "output_type": "execute_result"
    }
   ],
   "source": [
    "data['verification_status'].unique()"
   ]
  },
  {
   "cell_type": "code",
   "execution_count": 58,
   "metadata": {},
   "outputs": [
    {
     "data": {
      "text/html": [
       "<div>\n",
       "<style scoped>\n",
       "    .dataframe tbody tr th:only-of-type {\n",
       "        vertical-align: middle;\n",
       "    }\n",
       "\n",
       "    .dataframe tbody tr th {\n",
       "        vertical-align: top;\n",
       "    }\n",
       "\n",
       "    .dataframe thead th {\n",
       "        text-align: right;\n",
       "    }\n",
       "</style>\n",
       "<table border=\"1\" class=\"dataframe\">\n",
       "  <thead>\n",
       "    <tr style=\"text-align: right;\">\n",
       "      <th></th>\n",
       "      <th>grade</th>\n",
       "      <th>home_ownership</th>\n",
       "      <th>initial_list_status</th>\n",
       "      <th>issue_d</th>\n",
       "      <th>loan_status</th>\n",
       "      <th>purpose</th>\n",
       "      <th>sub_grade</th>\n",
       "      <th>verification_status</th>\n",
       "    </tr>\n",
       "  </thead>\n",
       "  <tbody>\n",
       "    <tr>\n",
       "      <th>0</th>\n",
       "      <td>B</td>\n",
       "      <td>MORTGAGE</td>\n",
       "      <td>w</td>\n",
       "      <td>Dec-2015</td>\n",
       "      <td>Fully Paid</td>\n",
       "      <td>debt_consolidation</td>\n",
       "      <td>B3</td>\n",
       "      <td>Not Verified</td>\n",
       "    </tr>\n",
       "    <tr>\n",
       "      <th>1</th>\n",
       "      <td>A</td>\n",
       "      <td>MORTGAGE</td>\n",
       "      <td>w</td>\n",
       "      <td>Dec-2015</td>\n",
       "      <td>Current</td>\n",
       "      <td>credit_card</td>\n",
       "      <td>A1</td>\n",
       "      <td>Not Verified</td>\n",
       "    </tr>\n",
       "    <tr>\n",
       "      <th>2</th>\n",
       "      <td>D</td>\n",
       "      <td>MORTGAGE</td>\n",
       "      <td>w</td>\n",
       "      <td>Dec-2015</td>\n",
       "      <td>Current</td>\n",
       "      <td>debt_consolidation</td>\n",
       "      <td>D5</td>\n",
       "      <td>Verified</td>\n",
       "    </tr>\n",
       "    <tr>\n",
       "      <th>3</th>\n",
       "      <td>D</td>\n",
       "      <td>MORTGAGE</td>\n",
       "      <td>w</td>\n",
       "      <td>Dec-2015</td>\n",
       "      <td>Fully Paid</td>\n",
       "      <td>home_improvement</td>\n",
       "      <td>D1</td>\n",
       "      <td>Not Verified</td>\n",
       "    </tr>\n",
       "    <tr>\n",
       "      <th>4</th>\n",
       "      <td>E</td>\n",
       "      <td>RENT</td>\n",
       "      <td>w</td>\n",
       "      <td>Dec-2015</td>\n",
       "      <td>Current</td>\n",
       "      <td>credit_card</td>\n",
       "      <td>E3</td>\n",
       "      <td>Verified</td>\n",
       "    </tr>\n",
       "  </tbody>\n",
       "</table>\n",
       "</div>"
      ],
      "text/plain": [
       "  grade home_ownership initial_list_status   issue_d loan_status  \\\n",
       "0     B       MORTGAGE                   w  Dec-2015  Fully Paid   \n",
       "1     A       MORTGAGE                   w  Dec-2015     Current   \n",
       "2     D       MORTGAGE                   w  Dec-2015     Current   \n",
       "3     D       MORTGAGE                   w  Dec-2015  Fully Paid   \n",
       "4     E           RENT                   w  Dec-2015     Current   \n",
       "\n",
       "              purpose sub_grade verification_status  \n",
       "0  debt_consolidation        B3        Not Verified  \n",
       "1         credit_card        A1        Not Verified  \n",
       "2  debt_consolidation        D5            Verified  \n",
       "3    home_improvement        D1        Not Verified  \n",
       "4         credit_card        E3            Verified  "
      ]
     },
     "execution_count": 58,
     "metadata": {},
     "output_type": "execute_result"
    }
   ],
   "source": [
    "data.select_dtypes(include=['object']).head()"
   ]
  },
  {
   "cell_type": "markdown",
   "metadata": {},
   "source": [
    "The documentation of this dataset says that if `loan_status = {‘Charged Off’, ‘Default’}`, then the loan has charged off, otherwise it has not.\n",
    "\n",
    "So this means that we can categorize the `loan_status` columns with binary values. We also decided to drop the `sub_grade` column which categorizes the `grade` column with even finer details. We think it is not that important to have so many different cateogries, and that the `grade` category which has 7 unique values is already enough for our puspose."
   ]
  },
  {
   "cell_type": "code",
   "execution_count": 59,
   "metadata": {},
   "outputs": [],
   "source": [
    "data = data.drop(['sub_grade'], axis=1)"
   ]
  },
  {
   "cell_type": "code",
   "execution_count": 60,
   "metadata": {},
   "outputs": [
    {
     "data": {
      "text/plain": [
       "array(['Fully Paid', 'Current', 'Charged Off', 'Late (16-30 days)',\n",
       "       'Late (31-120 days)', 'In Grace Period', 'Default'], dtype=object)"
      ]
     },
     "execution_count": 60,
     "metadata": {},
     "output_type": "execute_result"
    }
   ],
   "source": [
    "data['loan_status'].unique()"
   ]
  },
  {
   "cell_type": "code",
   "execution_count": 61,
   "metadata": {},
   "outputs": [],
   "source": [
    "data['loan_status'].replace({'Charged Off': 1, 'Default': 1, 'Fully Paid': 0, 'Current': 0,\n",
    "                             'Late (16-30 days)': 0, 'Late (31-120 days)': 0, \n",
    "                             'In Grace Period': 0}, inplace=True)"
   ]
  },
  {
   "cell_type": "code",
   "execution_count": 62,
   "metadata": {},
   "outputs": [
    {
     "data": {
      "text/plain": [
       "array([0, 1])"
      ]
     },
     "execution_count": 62,
     "metadata": {},
     "output_type": "execute_result"
    }
   ],
   "source": [
    "data['loan_status'].unique()"
   ]
  },
  {
   "cell_type": "code",
   "execution_count": 63,
   "metadata": {},
   "outputs": [
    {
     "data": {
      "text/html": [
       "<div>\n",
       "<style scoped>\n",
       "    .dataframe tbody tr th:only-of-type {\n",
       "        vertical-align: middle;\n",
       "    }\n",
       "\n",
       "    .dataframe tbody tr th {\n",
       "        vertical-align: top;\n",
       "    }\n",
       "\n",
       "    .dataframe thead th {\n",
       "        text-align: right;\n",
       "    }\n",
       "</style>\n",
       "<table border=\"1\" class=\"dataframe\">\n",
       "  <thead>\n",
       "    <tr style=\"text-align: right;\">\n",
       "      <th></th>\n",
       "      <th>grade</th>\n",
       "      <th>home_ownership</th>\n",
       "      <th>initial_list_status</th>\n",
       "      <th>issue_d</th>\n",
       "      <th>purpose</th>\n",
       "      <th>verification_status</th>\n",
       "    </tr>\n",
       "  </thead>\n",
       "  <tbody>\n",
       "    <tr>\n",
       "      <th>0</th>\n",
       "      <td>B</td>\n",
       "      <td>MORTGAGE</td>\n",
       "      <td>w</td>\n",
       "      <td>Dec-2015</td>\n",
       "      <td>debt_consolidation</td>\n",
       "      <td>Not Verified</td>\n",
       "    </tr>\n",
       "    <tr>\n",
       "      <th>1</th>\n",
       "      <td>A</td>\n",
       "      <td>MORTGAGE</td>\n",
       "      <td>w</td>\n",
       "      <td>Dec-2015</td>\n",
       "      <td>credit_card</td>\n",
       "      <td>Not Verified</td>\n",
       "    </tr>\n",
       "    <tr>\n",
       "      <th>2</th>\n",
       "      <td>D</td>\n",
       "      <td>MORTGAGE</td>\n",
       "      <td>w</td>\n",
       "      <td>Dec-2015</td>\n",
       "      <td>debt_consolidation</td>\n",
       "      <td>Verified</td>\n",
       "    </tr>\n",
       "    <tr>\n",
       "      <th>3</th>\n",
       "      <td>D</td>\n",
       "      <td>MORTGAGE</td>\n",
       "      <td>w</td>\n",
       "      <td>Dec-2015</td>\n",
       "      <td>home_improvement</td>\n",
       "      <td>Not Verified</td>\n",
       "    </tr>\n",
       "    <tr>\n",
       "      <th>4</th>\n",
       "      <td>E</td>\n",
       "      <td>RENT</td>\n",
       "      <td>w</td>\n",
       "      <td>Dec-2015</td>\n",
       "      <td>credit_card</td>\n",
       "      <td>Verified</td>\n",
       "    </tr>\n",
       "  </tbody>\n",
       "</table>\n",
       "</div>"
      ],
      "text/plain": [
       "  grade home_ownership initial_list_status   issue_d             purpose  \\\n",
       "0     B       MORTGAGE                   w  Dec-2015  debt_consolidation   \n",
       "1     A       MORTGAGE                   w  Dec-2015         credit_card   \n",
       "2     D       MORTGAGE                   w  Dec-2015  debt_consolidation   \n",
       "3     D       MORTGAGE                   w  Dec-2015    home_improvement   \n",
       "4     E           RENT                   w  Dec-2015         credit_card   \n",
       "\n",
       "  verification_status  \n",
       "0        Not Verified  \n",
       "1        Not Verified  \n",
       "2            Verified  \n",
       "3        Not Verified  \n",
       "4            Verified  "
      ]
     },
     "execution_count": 63,
     "metadata": {},
     "output_type": "execute_result"
    }
   ],
   "source": [
    "data.select_dtypes(include=['object']).head()"
   ]
  },
  {
   "cell_type": "code",
   "execution_count": 64,
   "metadata": {},
   "outputs": [],
   "source": [
    "# need to create categorical columns first\n",
    "# pd.get_dummies(data, drop_first=False)"
   ]
  },
  {
   "cell_type": "code",
   "execution_count": 65,
   "metadata": {},
   "outputs": [],
   "source": [
    "data[data.select_dtypes(['object']).columns] = \\\n",
    "data.select_dtypes(['object']).apply(lambda x: x.astype('category'))"
   ]
  },
  {
   "cell_type": "code",
   "execution_count": 66,
   "metadata": {},
   "outputs": [],
   "source": [
    "# data.select_dtypes(include=['category']).head()"
   ]
  },
  {
   "cell_type": "code",
   "execution_count": 67,
   "metadata": {},
   "outputs": [
    {
     "name": "stdout",
     "output_type": "stream",
     "text": [
      "<class 'pandas.core.frame.DataFrame'>\n",
      "Int64Index: 421095 entries, 0 to 421094\n",
      "Data columns (total 69 columns):\n",
      " #   Column                          Non-Null Count   Dtype   \n",
      "---  ------                          --------------   -----   \n",
      " 0   acc_now_delinq                  421095 non-null  float64 \n",
      " 1   acc_open_past_24mths            421095 non-null  float64 \n",
      " 2   annual_inc                      421095 non-null  float64 \n",
      " 3   avg_cur_bal                     421095 non-null  float64 \n",
      " 4   bc_open_to_buy                  421095 non-null  float64 \n",
      " 5   bc_util                         421095 non-null  float64 \n",
      " 6   chargeoff_within_12_mths        421095 non-null  float64 \n",
      " 7   collections_12_mths_ex_med      421095 non-null  float64 \n",
      " 8   delinq_2yrs                     421095 non-null  float64 \n",
      " 9   delinq_amnt                     421095 non-null  float64 \n",
      " 10  dti                             421095 non-null  float64 \n",
      " 11  emp_length                      421095 non-null  int64   \n",
      " 12  funded_amnt                     421095 non-null  float64 \n",
      " 13  funded_amnt_inv                 421095 non-null  float64 \n",
      " 14  grade                           421095 non-null  category\n",
      " 15  home_ownership                  421095 non-null  category\n",
      " 16  initial_list_status             421095 non-null  category\n",
      " 17  inq_last_6mths                  421095 non-null  float64 \n",
      " 18  installment                     421095 non-null  float64 \n",
      " 19  int_rate                        421095 non-null  float64 \n",
      " 20  issue_d                         421095 non-null  category\n",
      " 21  loan_amnt                       421095 non-null  float64 \n",
      " 22  loan_status                     421095 non-null  int64   \n",
      " 23  mo_sin_old_il_acct              421095 non-null  float64 \n",
      " 24  mo_sin_old_rev_tl_op            421095 non-null  float64 \n",
      " 25  mo_sin_rcnt_rev_tl_op           421095 non-null  float64 \n",
      " 26  mo_sin_rcnt_tl                  421095 non-null  float64 \n",
      " 27  mort_acc                        421095 non-null  float64 \n",
      " 28  mths_since_last_delinq          421095 non-null  float64 \n",
      " 29  mths_since_last_major_derog     421095 non-null  float64 \n",
      " 30  mths_since_last_record          421095 non-null  float64 \n",
      " 31  mths_since_recent_bc            421095 non-null  float64 \n",
      " 32  mths_since_recent_bc_dlq        421095 non-null  float64 \n",
      " 33  mths_since_recent_inq           421095 non-null  float64 \n",
      " 34  mths_since_recent_revol_delinq  421095 non-null  float64 \n",
      " 35  num_accts_ever_120_pd           421095 non-null  float64 \n",
      " 36  num_actv_bc_tl                  421095 non-null  float64 \n",
      " 37  num_actv_rev_tl                 421095 non-null  float64 \n",
      " 38  num_bc_sats                     421095 non-null  float64 \n",
      " 39  num_bc_tl                       421095 non-null  float64 \n",
      " 40  num_il_tl                       421095 non-null  float64 \n",
      " 41  num_op_rev_tl                   421095 non-null  float64 \n",
      " 42  num_rev_accts                   421095 non-null  float64 \n",
      " 43  num_rev_tl_bal_gt_0             421095 non-null  float64 \n",
      " 44  num_sats                        421095 non-null  float64 \n",
      " 45  num_tl_120dpd_2m                421095 non-null  float64 \n",
      " 46  num_tl_30dpd                    421095 non-null  float64 \n",
      " 47  num_tl_90g_dpd_24m              421095 non-null  float64 \n",
      " 48  num_tl_op_past_12m              421095 non-null  float64 \n",
      " 49  open_acc                        421095 non-null  float64 \n",
      " 50  pct_tl_nvr_dlq                  421095 non-null  float64 \n",
      " 51  percent_bc_gt_75                421095 non-null  float64 \n",
      " 52  policy_code                     421095 non-null  float64 \n",
      " 53  pub_rec                         421095 non-null  float64 \n",
      " 54  pub_rec_bankruptcies            421095 non-null  float64 \n",
      " 55  purpose                         421095 non-null  category\n",
      " 56  revol_bal                       421095 non-null  float64 \n",
      " 57  revol_util                      421095 non-null  float64 \n",
      " 58  tax_liens                       421095 non-null  float64 \n",
      " 59  term                            421095 non-null  int64   \n",
      " 60  tot_cur_bal                     421095 non-null  float64 \n",
      " 61  tot_hi_cred_lim                 421095 non-null  float64 \n",
      " 62  total_acc                       421095 non-null  float64 \n",
      " 63  total_bal_ex_mort               421095 non-null  float64 \n",
      " 64  total_bc_limit                  421095 non-null  float64 \n",
      " 65  total_il_high_credit_limit      421095 non-null  float64 \n",
      " 66  total_rev_hi_lim                421095 non-null  float64 \n",
      " 67  verification_status             421095 non-null  category\n",
      " 68  cr_line_years                   421095 non-null  int64   \n",
      "dtypes: category(6), float64(59), int64(4)\n",
      "memory usage: 208.0 MB\n"
     ]
    }
   ],
   "source": [
    "data.info()"
   ]
  },
  {
   "cell_type": "code",
   "execution_count": 68,
   "metadata": {},
   "outputs": [],
   "source": [
    "#data.isna().any().any()"
   ]
  },
  {
   "cell_type": "code",
   "execution_count": 69,
   "metadata": {},
   "outputs": [
    {
     "name": "stdout",
     "output_type": "stream",
     "text": [
      "Writing file.  \"data/loan_data_cleaned_1.csv\"\n"
     ]
    }
   ],
   "source": [
    "# save the data to a new csv file\n",
    "datapath = 'data'\n",
    "save_file(data, 'loan_data_cleaned_1.csv', datapath)"
   ]
  },
  {
   "cell_type": "code",
   "execution_count": null,
   "metadata": {},
   "outputs": [],
   "source": []
  }
 ],
 "metadata": {
  "kernelspec": {
   "display_name": "Python 3",
   "language": "python",
   "name": "python3"
  },
  "language_info": {
   "codemirror_mode": {
    "name": "ipython",
    "version": 3
   },
   "file_extension": ".py",
   "mimetype": "text/x-python",
   "name": "python",
   "nbconvert_exporter": "python",
   "pygments_lexer": "ipython3",
   "version": "3.8.8"
  }
 },
 "nbformat": 4,
 "nbformat_minor": 2
}
