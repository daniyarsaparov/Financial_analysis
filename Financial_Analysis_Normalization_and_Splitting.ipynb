{
 "cells": [
  {
   "cell_type": "markdown",
   "id": "05912f2d",
   "metadata": {},
   "source": [
    "# Data splitting and Scaling"
   ]
  },
  {
   "cell_type": "code",
   "execution_count": 1,
   "id": "7f4514f9",
   "metadata": {},
   "outputs": [],
   "source": [
    "import re\n",
    "import pandas as pd\n",
    "import numpy as np\n",
    "import seaborn as sns\n",
    "import matplotlib.pyplot as plt\n",
    "from PIL import Image, ImageDraw\n",
    "import os\n",
    "from library.sb_utils import save_file\n",
    "from sklearn.decomposition import PCA\n",
    "from sklearn.preprocessing import scale"
   ]
  },
  {
   "cell_type": "code",
   "execution_count": 2,
   "id": "e31b84ae",
   "metadata": {},
   "outputs": [],
   "source": [
    "data = pd.read_csv('data/loan_data_cleaned_2.csv')"
   ]
  },
  {
   "cell_type": "code",
   "execution_count": 3,
   "id": "627fe7cc",
   "metadata": {},
   "outputs": [
    {
     "name": "stdout",
     "output_type": "stream",
     "text": [
      "<class 'pandas.core.frame.DataFrame'>\n",
      "RangeIndex: 318659 entries, 0 to 318658\n",
      "Data columns (total 68 columns):\n",
      " #   Column                          Non-Null Count   Dtype  \n",
      "---  ------                          --------------   -----  \n",
      " 0   acc_now_delinq                  318659 non-null  float64\n",
      " 1   acc_open_past_24mths            318659 non-null  float64\n",
      " 2   annual_inc                      318659 non-null  float64\n",
      " 3   avg_cur_bal                     318659 non-null  float64\n",
      " 4   bc_open_to_buy                  318659 non-null  float64\n",
      " 5   bc_util                         318659 non-null  float64\n",
      " 6   chargeoff_within_12_mths        318659 non-null  float64\n",
      " 7   collections_12_mths_ex_med      318659 non-null  float64\n",
      " 8   delinq_2yrs                     318659 non-null  float64\n",
      " 9   delinq_amnt                     318659 non-null  float64\n",
      " 10  dti                             318659 non-null  float64\n",
      " 11  emp_length                      318659 non-null  int64  \n",
      " 12  funded_amnt                     318659 non-null  float64\n",
      " 13  funded_amnt_inv                 318659 non-null  float64\n",
      " 14  grade                           318659 non-null  object \n",
      " 15  home_ownership                  318659 non-null  object \n",
      " 16  initial_list_status             318659 non-null  object \n",
      " 17  inq_last_6mths                  318659 non-null  float64\n",
      " 18  installment                     318659 non-null  float64\n",
      " 19  int_rate                        318659 non-null  float64\n",
      " 20  issue_d                         318659 non-null  object \n",
      " 21  loan_amnt                       318659 non-null  float64\n",
      " 22  loan_status                     318659 non-null  int64  \n",
      " 23  mo_sin_old_il_acct              318659 non-null  float64\n",
      " 24  mo_sin_old_rev_tl_op            318659 non-null  float64\n",
      " 25  mo_sin_rcnt_rev_tl_op           318659 non-null  float64\n",
      " 26  mo_sin_rcnt_tl                  318659 non-null  float64\n",
      " 27  mort_acc                        318659 non-null  float64\n",
      " 28  mths_since_last_delinq          318659 non-null  float64\n",
      " 29  mths_since_last_major_derog     318659 non-null  float64\n",
      " 30  mths_since_last_record          318659 non-null  float64\n",
      " 31  mths_since_recent_bc            318659 non-null  float64\n",
      " 32  mths_since_recent_bc_dlq        318659 non-null  float64\n",
      " 33  mths_since_recent_inq           318659 non-null  float64\n",
      " 34  mths_since_recent_revol_delinq  318659 non-null  float64\n",
      " 35  num_accts_ever_120_pd           318659 non-null  float64\n",
      " 36  num_actv_bc_tl                  318659 non-null  float64\n",
      " 37  num_actv_rev_tl                 318659 non-null  float64\n",
      " 38  num_bc_sats                     318659 non-null  float64\n",
      " 39  num_bc_tl                       318659 non-null  float64\n",
      " 40  num_il_tl                       318659 non-null  float64\n",
      " 41  num_op_rev_tl                   318659 non-null  float64\n",
      " 42  num_rev_accts                   318659 non-null  float64\n",
      " 43  num_rev_tl_bal_gt_0             318659 non-null  float64\n",
      " 44  num_sats                        318659 non-null  float64\n",
      " 45  num_tl_120dpd_2m                318659 non-null  float64\n",
      " 46  num_tl_30dpd                    318659 non-null  float64\n",
      " 47  num_tl_90g_dpd_24m              318659 non-null  float64\n",
      " 48  num_tl_op_past_12m              318659 non-null  float64\n",
      " 49  open_acc                        318659 non-null  float64\n",
      " 50  pct_tl_nvr_dlq                  318659 non-null  float64\n",
      " 51  percent_bc_gt_75                318659 non-null  float64\n",
      " 52  pub_rec                         318659 non-null  float64\n",
      " 53  pub_rec_bankruptcies            318659 non-null  float64\n",
      " 54  purpose                         318659 non-null  object \n",
      " 55  revol_bal                       318659 non-null  float64\n",
      " 56  revol_util                      318659 non-null  float64\n",
      " 57  tax_liens                       318659 non-null  float64\n",
      " 58  term                            318659 non-null  int64  \n",
      " 59  tot_cur_bal                     318659 non-null  float64\n",
      " 60  tot_hi_cred_lim                 318659 non-null  float64\n",
      " 61  total_acc                       318659 non-null  float64\n",
      " 62  total_bal_ex_mort               318659 non-null  float64\n",
      " 63  total_bc_limit                  318659 non-null  float64\n",
      " 64  total_il_high_credit_limit      318659 non-null  float64\n",
      " 65  total_rev_hi_lim                318659 non-null  float64\n",
      " 66  verification_status             318659 non-null  object \n",
      " 67  cr_line_years                   318659 non-null  int64  \n",
      "dtypes: float64(58), int64(4), object(6)\n",
      "memory usage: 165.3+ MB\n"
     ]
    }
   ],
   "source": [
    "data.info()"
   ]
  },
  {
   "cell_type": "code",
   "execution_count": 14,
   "id": "43f30f14",
   "metadata": {},
   "outputs": [],
   "source": [
    "data = pd.get_dummies(data, prefix='if')"
   ]
  },
  {
   "cell_type": "code",
   "execution_count": 15,
   "id": "6f743186",
   "metadata": {},
   "outputs": [
    {
     "data": {
      "text/plain": [
       "(318659, 102)"
      ]
     },
     "execution_count": 15,
     "metadata": {},
     "output_type": "execute_result"
    }
   ],
   "source": [
    "data.shape"
   ]
  },
  {
   "cell_type": "code",
   "execution_count": 16,
   "id": "89a28fcc",
   "metadata": {},
   "outputs": [],
   "source": [
    "targets = ['loan_status', 'int_rate']\n",
    "features = list(set(data.columns)-set(targets))"
   ]
  },
  {
   "cell_type": "code",
   "execution_count": 17,
   "id": "256dc168",
   "metadata": {},
   "outputs": [],
   "source": [
    "X = data[features]\n",
    "y = data['loan_status']"
   ]
  },
  {
   "cell_type": "code",
   "execution_count": 18,
   "id": "14da766e",
   "metadata": {},
   "outputs": [],
   "source": [
    "from sklearn.model_selection import train_test_split\n",
    "X_train, X_test, y_train, y_test = train_test_split(X, y, test_size=0.2, random_state=42)"
   ]
  },
  {
   "cell_type": "code",
   "execution_count": 19,
   "id": "baac82e2",
   "metadata": {},
   "outputs": [],
   "source": [
    "from sklearn.preprocessing import MinMaxScaler\n",
    "#from sklearn.preprocessing import StandardScaler\n",
    "scaler = MinMaxScaler()\n",
    "#scaler = StandardScaler()\n",
    "scaler.fit(X_train)\n",
    "X_train = scaler.transform(X_train)\n",
    "X_test = scaler.transform(X_test)"
   ]
  },
  {
   "cell_type": "code",
   "execution_count": null,
   "id": "c2081aba",
   "metadata": {},
   "outputs": [],
   "source": []
  }
 ],
 "metadata": {
  "kernelspec": {
   "display_name": "Python 3",
   "language": "python",
   "name": "python3"
  },
  "language_info": {
   "codemirror_mode": {
    "name": "ipython",
    "version": 3
   },
   "file_extension": ".py",
   "mimetype": "text/x-python",
   "name": "python",
   "nbconvert_exporter": "python",
   "pygments_lexer": "ipython3",
   "version": "3.8.8"
  }
 },
 "nbformat": 4,
 "nbformat_minor": 5
}
