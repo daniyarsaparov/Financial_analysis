{
 "cells": [
  {
   "cell_type": "code",
   "execution_count": 1,
   "id": "9223d659",
   "metadata": {},
   "outputs": [],
   "source": [
    "import re\n",
    "import pandas as pd\n",
    "import numpy as np\n",
    "import seaborn as sns\n",
    "import matplotlib.pyplot as plt\n",
    "from PIL import Image, ImageDraw\n",
    "import os\n",
    "#from library.sb_utils import save_file\n",
    "from sklearn.decomposition import PCA\n",
    "from sklearn.preprocessing import scale"
   ]
  },
  {
   "cell_type": "code",
   "execution_count": 3,
   "id": "2cdeb5dd",
   "metadata": {},
   "outputs": [],
   "source": [
    "data = pd.read_csv('data/loan_data_cleaned_2.csv')"
   ]
  },
  {
   "cell_type": "code",
   "execution_count": 4,
   "id": "ac9967c3",
   "metadata": {},
   "outputs": [],
   "source": [
    "data = pd.get_dummies(data, prefix='if')"
   ]
  },
  {
   "cell_type": "code",
   "execution_count": 5,
   "id": "df80f612",
   "metadata": {},
   "outputs": [
    {
     "data": {
      "text/html": [
       "<div>\n",
       "<style scoped>\n",
       "    .dataframe tbody tr th:only-of-type {\n",
       "        vertical-align: middle;\n",
       "    }\n",
       "\n",
       "    .dataframe tbody tr th {\n",
       "        vertical-align: top;\n",
       "    }\n",
       "\n",
       "    .dataframe thead th {\n",
       "        text-align: right;\n",
       "    }\n",
       "</style>\n",
       "<table border=\"1\" class=\"dataframe\">\n",
       "  <thead>\n",
       "    <tr style=\"text-align: right;\">\n",
       "      <th></th>\n",
       "      <th>acc_now_delinq</th>\n",
       "      <th>acc_open_past_24mths</th>\n",
       "      <th>annual_inc</th>\n",
       "      <th>avg_cur_bal</th>\n",
       "      <th>bc_open_to_buy</th>\n",
       "      <th>bc_util</th>\n",
       "      <th>chargeoff_within_12_mths</th>\n",
       "      <th>collections_12_mths_ex_med</th>\n",
       "      <th>delinq_2yrs</th>\n",
       "      <th>delinq_amnt</th>\n",
       "      <th>...</th>\n",
       "      <th>if_major_purchase</th>\n",
       "      <th>if_medical</th>\n",
       "      <th>if_moving</th>\n",
       "      <th>if_other</th>\n",
       "      <th>if_renewable_energy</th>\n",
       "      <th>if_small_business</th>\n",
       "      <th>if_vacation</th>\n",
       "      <th>if_wedding</th>\n",
       "      <th>if_Not Verified</th>\n",
       "      <th>if_Verified</th>\n",
       "    </tr>\n",
       "  </thead>\n",
       "  <tbody>\n",
       "    <tr>\n",
       "      <th>0</th>\n",
       "      <td>0.0</td>\n",
       "      <td>8.0</td>\n",
       "      <td>65000.0</td>\n",
       "      <td>10086.0</td>\n",
       "      <td>41055.0</td>\n",
       "      <td>17.1</td>\n",
       "      <td>0.0</td>\n",
       "      <td>0.0</td>\n",
       "      <td>0.0</td>\n",
       "      <td>0.0</td>\n",
       "      <td>...</td>\n",
       "      <td>0</td>\n",
       "      <td>0</td>\n",
       "      <td>0</td>\n",
       "      <td>0</td>\n",
       "      <td>0</td>\n",
       "      <td>0</td>\n",
       "      <td>0</td>\n",
       "      <td>0</td>\n",
       "      <td>1</td>\n",
       "      <td>0</td>\n",
       "    </tr>\n",
       "    <tr>\n",
       "      <th>1</th>\n",
       "      <td>0.0</td>\n",
       "      <td>7.0</td>\n",
       "      <td>175000.0</td>\n",
       "      <td>51015.0</td>\n",
       "      <td>21569.0</td>\n",
       "      <td>50.3</td>\n",
       "      <td>0.0</td>\n",
       "      <td>0.0</td>\n",
       "      <td>0.0</td>\n",
       "      <td>0.0</td>\n",
       "      <td>...</td>\n",
       "      <td>0</td>\n",
       "      <td>0</td>\n",
       "      <td>0</td>\n",
       "      <td>0</td>\n",
       "      <td>0</td>\n",
       "      <td>0</td>\n",
       "      <td>0</td>\n",
       "      <td>0</td>\n",
       "      <td>1</td>\n",
       "      <td>0</td>\n",
       "    </tr>\n",
       "    <tr>\n",
       "      <th>2</th>\n",
       "      <td>0.0</td>\n",
       "      <td>1.0</td>\n",
       "      <td>44000.0</td>\n",
       "      <td>19041.0</td>\n",
       "      <td>0.0</td>\n",
       "      <td>102.4</td>\n",
       "      <td>0.0</td>\n",
       "      <td>0.0</td>\n",
       "      <td>0.0</td>\n",
       "      <td>0.0</td>\n",
       "      <td>...</td>\n",
       "      <td>0</td>\n",
       "      <td>0</td>\n",
       "      <td>0</td>\n",
       "      <td>0</td>\n",
       "      <td>0</td>\n",
       "      <td>0</td>\n",
       "      <td>0</td>\n",
       "      <td>0</td>\n",
       "      <td>0</td>\n",
       "      <td>1</td>\n",
       "    </tr>\n",
       "    <tr>\n",
       "      <th>3</th>\n",
       "      <td>0.0</td>\n",
       "      <td>1.0</td>\n",
       "      <td>104000.0</td>\n",
       "      <td>3068.0</td>\n",
       "      <td>8302.0</td>\n",
       "      <td>75.0</td>\n",
       "      <td>0.0</td>\n",
       "      <td>0.0</td>\n",
       "      <td>0.0</td>\n",
       "      <td>0.0</td>\n",
       "      <td>...</td>\n",
       "      <td>0</td>\n",
       "      <td>0</td>\n",
       "      <td>0</td>\n",
       "      <td>0</td>\n",
       "      <td>0</td>\n",
       "      <td>0</td>\n",
       "      <td>0</td>\n",
       "      <td>0</td>\n",
       "      <td>0</td>\n",
       "      <td>1</td>\n",
       "    </tr>\n",
       "    <tr>\n",
       "      <th>4</th>\n",
       "      <td>0.0</td>\n",
       "      <td>4.0</td>\n",
       "      <td>38000.0</td>\n",
       "      <td>1150.0</td>\n",
       "      <td>6924.0</td>\n",
       "      <td>43.7</td>\n",
       "      <td>0.0</td>\n",
       "      <td>0.0</td>\n",
       "      <td>0.0</td>\n",
       "      <td>0.0</td>\n",
       "      <td>...</td>\n",
       "      <td>0</td>\n",
       "      <td>0</td>\n",
       "      <td>0</td>\n",
       "      <td>0</td>\n",
       "      <td>0</td>\n",
       "      <td>0</td>\n",
       "      <td>0</td>\n",
       "      <td>0</td>\n",
       "      <td>1</td>\n",
       "      <td>0</td>\n",
       "    </tr>\n",
       "  </tbody>\n",
       "</table>\n",
       "<p>5 rows × 102 columns</p>\n",
       "</div>"
      ],
      "text/plain": [
       "   acc_now_delinq  acc_open_past_24mths  annual_inc  avg_cur_bal  \\\n",
       "0             0.0                   8.0     65000.0      10086.0   \n",
       "1             0.0                   7.0    175000.0      51015.0   \n",
       "2             0.0                   1.0     44000.0      19041.0   \n",
       "3             0.0                   1.0    104000.0       3068.0   \n",
       "4             0.0                   4.0     38000.0       1150.0   \n",
       "\n",
       "   bc_open_to_buy  bc_util  chargeoff_within_12_mths  \\\n",
       "0         41055.0     17.1                       0.0   \n",
       "1         21569.0     50.3                       0.0   \n",
       "2             0.0    102.4                       0.0   \n",
       "3          8302.0     75.0                       0.0   \n",
       "4          6924.0     43.7                       0.0   \n",
       "\n",
       "   collections_12_mths_ex_med  delinq_2yrs  delinq_amnt  ...  \\\n",
       "0                         0.0          0.0          0.0  ...   \n",
       "1                         0.0          0.0          0.0  ...   \n",
       "2                         0.0          0.0          0.0  ...   \n",
       "3                         0.0          0.0          0.0  ...   \n",
       "4                         0.0          0.0          0.0  ...   \n",
       "\n",
       "   if_major_purchase  if_medical  if_moving  if_other  if_renewable_energy  \\\n",
       "0                  0           0          0         0                    0   \n",
       "1                  0           0          0         0                    0   \n",
       "2                  0           0          0         0                    0   \n",
       "3                  0           0          0         0                    0   \n",
       "4                  0           0          0         0                    0   \n",
       "\n",
       "   if_small_business  if_vacation  if_wedding  if_Not Verified  if_Verified  \n",
       "0                  0            0           0                1            0  \n",
       "1                  0            0           0                1            0  \n",
       "2                  0            0           0                0            1  \n",
       "3                  0            0           0                0            1  \n",
       "4                  0            0           0                1            0  \n",
       "\n",
       "[5 rows x 102 columns]"
      ]
     },
     "execution_count": 5,
     "metadata": {},
     "output_type": "execute_result"
    }
   ],
   "source": [
    "data.head()"
   ]
  },
  {
   "cell_type": "code",
   "execution_count": 6,
   "id": "3cdb91a9",
   "metadata": {},
   "outputs": [],
   "source": [
    "targets = ['loan_status', 'int_rate']\n",
    "features = list(set(data.columns)-set(targets))\n",
    "#features = [\"annual_inc\", \"avg_cur_bal\", \"chargeoff_within_12_mths\", \n",
    "#                         \"delinq_2yrs\", \"dti\", \"funded_amnt_inv\", \"installment\", \"loan_amnt\", \n",
    "#                         \"num_accts_ever_120_pd\", \"num_bc_sats\", \"num_sats\", \"open_acc\", \n",
    "#                         \"pct_tl_nvr_dlq\", \"pub_rec_bankruptcies\", \"revol_bal\", \"tot_cur_bal\"]"
   ]
  },
  {
   "cell_type": "code",
   "execution_count": 7,
   "id": "a0806e97",
   "metadata": {},
   "outputs": [],
   "source": [
    "data_shuffled = data.sample(frac=1).reset_index(drop=True)"
   ]
  },
  {
   "cell_type": "code",
   "execution_count": 8,
   "id": "ec86a5a1",
   "metadata": {},
   "outputs": [
    {
     "data": {
      "text/plain": [
       "(318659, 102)"
      ]
     },
     "execution_count": 8,
     "metadata": {},
     "output_type": "execute_result"
    }
   ],
   "source": [
    "data_shuffled.shape"
   ]
  },
  {
   "cell_type": "markdown",
   "id": "1b9d89bb",
   "metadata": {},
   "source": [
    "We have an unbalanced data in terms of the target `loan_status`, so here we will undersample the majority of the data so that the number of undersampled data will be same as the minority of the dataset. "
   ]
  },
  {
   "cell_type": "code",
   "execution_count": 10,
   "id": "35ac0576",
   "metadata": {},
   "outputs": [],
   "source": [
    "data_train = data_shuffled.iloc[ :255000,:] # 255 000 by 102 matrix\n",
    "data_test = data_shuffled.iloc[255000: ,:] # 63 659 by 102 matrix"
   ]
  },
  {
   "cell_type": "code",
   "execution_count": 11,
   "id": "68b9de01",
   "metadata": {},
   "outputs": [],
   "source": [
    "X_train = data_train[features]\n",
    "y_train = data_train['loan_status']"
   ]
  },
  {
   "cell_type": "code",
   "execution_count": 12,
   "id": "79715a49",
   "metadata": {},
   "outputs": [],
   "source": [
    "data_charged_off = data_train[data_train['loan_status']==1]"
   ]
  },
  {
   "cell_type": "code",
   "execution_count": 13,
   "id": "d93d6a7b",
   "metadata": {},
   "outputs": [
    {
     "data": {
      "text/plain": [
       "(39802, 102)"
      ]
     },
     "execution_count": 13,
     "metadata": {},
     "output_type": "execute_result"
    }
   ],
   "source": [
    "data_charged_off.shape"
   ]
  },
  {
   "cell_type": "code",
   "execution_count": 14,
   "id": "0ba291e9",
   "metadata": {},
   "outputs": [],
   "source": [
    "data_not_charged_off = data_train[data_train['loan_status']==0].sample(frac=0.19).reset_index(drop=True)"
   ]
  },
  {
   "cell_type": "code",
   "execution_count": 15,
   "id": "1cf18575",
   "metadata": {},
   "outputs": [
    {
     "data": {
      "text/plain": [
       "(40888, 102)"
      ]
     },
     "execution_count": 15,
     "metadata": {},
     "output_type": "execute_result"
    }
   ],
   "source": [
    "data_not_charged_off.shape"
   ]
  },
  {
   "cell_type": "code",
   "execution_count": 16,
   "id": "6cae17ab",
   "metadata": {},
   "outputs": [],
   "source": [
    "data_train_balanced = pd.concat([data_charged_off, data_not_charged_off]).sample(frac=1).reset_index(drop=True)"
   ]
  },
  {
   "cell_type": "code",
   "execution_count": 17,
   "id": "31d1afd8",
   "metadata": {},
   "outputs": [
    {
     "data": {
      "text/plain": [
       "(80690, 102)"
      ]
     },
     "execution_count": 17,
     "metadata": {},
     "output_type": "execute_result"
    }
   ],
   "source": [
    "data_train_balanced.shape"
   ]
  },
  {
   "cell_type": "code",
   "execution_count": 18,
   "id": "cd0564ee",
   "metadata": {},
   "outputs": [],
   "source": [
    "X_train = data_train_balanced[features]\n",
    "y_train = data_train_balanced['loan_status']\n",
    "X_test = data_test[features]\n",
    "y_test = data_test['loan_status']"
   ]
  },
  {
   "cell_type": "code",
   "execution_count": 19,
   "id": "341dfb15",
   "metadata": {},
   "outputs": [
    {
     "data": {
      "text/plain": [
       "pandas.core.frame.DataFrame"
      ]
     },
     "execution_count": 19,
     "metadata": {},
     "output_type": "execute_result"
    }
   ],
   "source": [
    "type(X_train)"
   ]
  },
  {
   "cell_type": "code",
   "execution_count": 20,
   "id": "e2675caf",
   "metadata": {},
   "outputs": [],
   "source": [
    "from sklearn.preprocessing import MinMaxScaler\n",
    "#from sklearn.preprocessing import StandardScaler\n",
    "scaler = MinMaxScaler()\n",
    "#scaler = StandardScaler()\n",
    "X_train = scaler.fit_transform(X_train)\n",
    "#scaler.fit(X_train)\n",
    "#X_train = scaler.transform(X_train)\n",
    "X_test = scaler.transform(X_test)"
   ]
  },
  {
   "cell_type": "markdown",
   "id": "f100a78f",
   "metadata": {},
   "source": [
    "## Logistic Regression Classifier"
   ]
  },
  {
   "cell_type": "code",
   "execution_count": 21,
   "id": "0cd888b6",
   "metadata": {},
   "outputs": [],
   "source": [
    "from sklearn.linear_model import LogisticRegression\n",
    "from sklearn.metrics import accuracy_score"
   ]
  },
  {
   "cell_type": "code",
   "execution_count": 24,
   "id": "de2979ce",
   "metadata": {},
   "outputs": [],
   "source": [
    "from sklearn.metrics import precision_recall_curve\n",
    "from sklearn.metrics import f1_score\n",
    "from sklearn.metrics import auc\n",
    "from sklearn.metrics import classification_report,confusion_matrix,roc_curve,roc_auc_score\n",
    "from sklearn.metrics import accuracy_score,log_loss"
   ]
  },
  {
   "cell_type": "code",
   "execution_count": 27,
   "id": "e5cbbb80",
   "metadata": {},
   "outputs": [],
   "source": [
    "classifier = LogisticRegression(tol=0.0001, C=3.0, fit_intercept=True, \n",
    "                                intercept_scaling=1, class_weight='balanced', \n",
    "                                random_state=42, solver='lbfgs', max_iter=1000, \n",
    "                                multi_class='ovr')\n",
    "\n",
    "classifier.fit(X_train, y_train)\n",
    "y_pred = classifier.predict(X_test)"
   ]
  },
  {
   "cell_type": "code",
   "execution_count": null,
   "id": "de244fd1",
   "metadata": {},
   "outputs": [],
   "source": [
    "accuracy = accuracy_score(y_test, y_pred)\n",
    "print(\"The accuracy of our prediction is: \", round(accuracy*100, 2), \"%\")"
   ]
  },
  {
   "cell_type": "code",
   "execution_count": 28,
   "id": "ffc78450",
   "metadata": {},
   "outputs": [
    {
     "name": "stdout",
     "output_type": "stream",
     "text": [
      "              precision    recall  f1-score   support\n",
      "\n",
      "           0       0.91      0.62      0.74     53839\n",
      "           1       0.25      0.67      0.36      9820\n",
      "\n",
      "    accuracy                           0.63     63659\n",
      "   macro avg       0.58      0.65      0.55     63659\n",
      "weighted avg       0.81      0.63      0.68     63659\n",
      "\n"
     ]
    }
   ],
   "source": [
    "print(classification_report(y_test, y_pred))"
   ]
  },
  {
   "cell_type": "markdown",
   "id": "a88fb57e",
   "metadata": {},
   "source": [
    "## Decision Tree"
   ]
  },
  {
   "cell_type": "code",
   "execution_count": 29,
   "id": "456a005a",
   "metadata": {},
   "outputs": [
    {
     "data": {
      "text/plain": [
       "DecisionTreeClassifier(criterion='entropy', random_state=42)"
      ]
     },
     "execution_count": 29,
     "metadata": {},
     "output_type": "execute_result"
    }
   ],
   "source": [
    "from sklearn import tree, metrics\n",
    "entr_model = tree.DecisionTreeClassifier(criterion='entropy', random_state = 42)\n",
    "entr_model.fit(X_train, y_train)\n",
    "y_pred = entr_model.predict(X_test)\n",
    "y_pred = pd.Series(y_pred)\n",
    "entr_model"
   ]
  },
  {
   "cell_type": "code",
   "execution_count": 30,
   "id": "ca1c71af",
   "metadata": {},
   "outputs": [
    {
     "name": "stdout",
     "output_type": "stream",
     "text": [
      "              precision    recall  f1-score   support\n",
      "\n",
      "           0       0.87      0.57      0.69     53839\n",
      "           1       0.19      0.55      0.28      9820\n",
      "\n",
      "    accuracy                           0.57     63659\n",
      "   macro avg       0.53      0.56      0.49     63659\n",
      "weighted avg       0.77      0.57      0.63     63659\n",
      "\n"
     ]
    }
   ],
   "source": [
    "print(classification_report(y_test, y_pred))"
   ]
  },
  {
   "cell_type": "code",
   "execution_count": null,
   "id": "f6275ba4",
   "metadata": {},
   "outputs": [],
   "source": [
    "# Run this block for model evaluation metrics \n",
    "print(\"Model Entropy - no max depth:\")\n",
    "print(\"Accuracy:\", metrics.accuracy_score(y_test,y_pred))\n",
    "print(\"Balanced accuracy:\", metrics.balanced_accuracy_score(y_test,y_pred))\n",
    "print('Precision score for \"Charged Off\"' , metrics.precision_score(y_test,y_pred, pos_label = \"Charged Off\"))\n",
    "print('Precision score for \"Not Charged Off\"' , metrics.precision_score(y_test,y_pred, pos_label = \"Not Charged Off\"))\n",
    "print('Recall score for \"Charged Off\"' , metrics.recall_score(y_test,y_pred, pos_label = \"Charged Off\"))\n",
    "print('Recall score for \"Not Charged Off\"' , metrics.recall_score(y_test,y_pred, pos_label = \"Not Charged Off\"))"
   ]
  },
  {
   "cell_type": "markdown",
   "id": "61c4eea8",
   "metadata": {},
   "source": [
    "False negative is our priority, minimize false negative\n",
    "charge off 1 (positive)\n",
    "not charge off 0 (negative)"
   ]
  },
  {
   "cell_type": "code",
   "execution_count": null,
   "id": "e74b9d94",
   "metadata": {},
   "outputs": [],
   "source": [
    "from sklearn.metrics import confusion_matrix\n",
    "confusion_matrix(y_test, y_pred)"
   ]
  },
  {
   "cell_type": "code",
   "execution_count": null,
   "id": "c9f3bce0",
   "metadata": {},
   "outputs": [],
   "source": [
    "from sklearn.experimental import enable_iterative_imputer\n",
    "from sklearn.impute import IterativeImputer\n",
    "from sklearn.ensemble import ExtraTreesRegressor"
   ]
  },
  {
   "cell_type": "markdown",
   "id": "b12d534d",
   "metadata": {},
   "source": [
    "## Random Forest Classifier"
   ]
  },
  {
   "cell_type": "code",
   "execution_count": 31,
   "id": "ba36a6bf",
   "metadata": {},
   "outputs": [],
   "source": [
    "from sklearn.ensemble import RandomForestClassifier\n",
    "clf = RandomForestClassifier(n_estimators=300, random_state = 1,n_jobs=-1)\n",
    "model_res = clf.fit(X_train, y_train)\n",
    "y_pred = model_res.predict(X_test)\n",
    "#y_pred_prob = model_res.predict_proba(X_test_scaled)\n",
    "#f1 = f1_score(y_test, y_pred, average='weighted')\n",
    "#cm = confusion_matrix(y_test, y_pred)\n",
    "#print('Random Forest: f1-score=%.3f' % (f1))"
   ]
  },
  {
   "cell_type": "code",
   "execution_count": 33,
   "id": "9a515332",
   "metadata": {},
   "outputs": [],
   "source": [
    "clf = RandomForestClassifier(n_estimators=300, \n",
    "                             criterion='gini',\n",
    "                             class_weight= 'balanced',\n",
    "                             max_features=3,\n",
    "                             max_depth=7,\n",
    "                             random_state = 1,n_jobs=-1)\n",
    "clf.fit(X_train, y_train)\n",
    "y_pred = clf.predict(X_test)"
   ]
  },
  {
   "cell_type": "code",
   "execution_count": 34,
   "id": "c3adca44",
   "metadata": {},
   "outputs": [
    {
     "name": "stdout",
     "output_type": "stream",
     "text": [
      "              precision    recall  f1-score   support\n",
      "\n",
      "           0       0.91      0.62      0.73     53839\n",
      "           1       0.24      0.66      0.35      9820\n",
      "\n",
      "    accuracy                           0.62     63659\n",
      "   macro avg       0.57      0.64      0.54     63659\n",
      "weighted avg       0.81      0.62      0.68     63659\n",
      "\n"
     ]
    }
   ],
   "source": [
    "print(classification_report(y_test, y_pred))"
   ]
  },
  {
   "cell_type": "code",
   "execution_count": null,
   "id": "005aafe2",
   "metadata": {
    "scrolled": true
   },
   "outputs": [],
   "source": [
    "#!pip install bayesian-optimization"
   ]
  },
  {
   "cell_type": "code",
   "execution_count": 35,
   "id": "473de073",
   "metadata": {},
   "outputs": [],
   "source": [
    "from bayes_opt import BayesianOptimization"
   ]
  },
  {
   "cell_type": "code",
   "execution_count": 36,
   "id": "42b0e426",
   "metadata": {},
   "outputs": [],
   "source": [
    "from sklearn.metrics import log_loss, make_scorer"
   ]
  },
  {
   "cell_type": "code",
   "execution_count": 37,
   "id": "eba92c34",
   "metadata": {},
   "outputs": [],
   "source": [
    "from sklearn.model_selection import cross_val_score"
   ]
  },
  {
   "cell_type": "code",
   "execution_count": 38,
   "id": "80bea171",
   "metadata": {},
   "outputs": [],
   "source": [
    "ll = make_scorer(log_loss, greater_is_better=False)"
   ]
  },
  {
   "cell_type": "code",
   "execution_count": 39,
   "id": "d67dc7ee",
   "metadata": {},
   "outputs": [],
   "source": [
    "def rf_eval(n_estimators, max_depth, max_features):\n",
    "    params = {'n_estimators' : int(n_estimators), \n",
    "              'max_depth' : int(max_depth), \n",
    "              'max_features' : int(max_features)}\n",
    "    scores = cross_val_score(RandomForestClassifier(**params, n_jobs=-1), X_train, y_train, scoring=ll, cv=10)\n",
    "    score = scores.mean()\n",
    "    return score"
   ]
  },
  {
   "cell_type": "code",
   "execution_count": 40,
   "id": "b81d2c9a",
   "metadata": {},
   "outputs": [
    {
     "name": "stdout",
     "output_type": "stream",
     "text": [
      "|   iter    |  target   | max_depth | max_fe... | n_esti... |\n",
      "-------------------------------------------------------------\n",
      "| \u001b[0m 1       \u001b[0m | \u001b[0m-12.2    \u001b[0m | \u001b[0m 11.92   \u001b[0m | \u001b[0m 5.562   \u001b[0m | \u001b[0m 451.5   \u001b[0m |\n",
      "| \u001b[95m 2       \u001b[0m | \u001b[95m-12.17   \u001b[0m | \u001b[95m 11.5    \u001b[0m | \u001b[95m 6.943   \u001b[0m | \u001b[95m 795.2   \u001b[0m |\n",
      "| \u001b[0m 3       \u001b[0m | \u001b[0m-12.2    \u001b[0m | \u001b[0m 10.2    \u001b[0m | \u001b[0m 6.961   \u001b[0m | \u001b[0m 794.7   \u001b[0m |\n",
      "| \u001b[0m 4       \u001b[0m | \u001b[0m-12.24   \u001b[0m | \u001b[0m 7.614   \u001b[0m | \u001b[0m 8.947   \u001b[0m | \u001b[0m 836.4   \u001b[0m |\n",
      "| \u001b[95m 5       \u001b[0m | \u001b[95m-12.17   \u001b[0m | \u001b[95m 12.46   \u001b[0m | \u001b[95m 5.649   \u001b[0m | \u001b[95m 794.7   \u001b[0m |\n",
      "| \u001b[95m 6       \u001b[0m | \u001b[95m-12.15   \u001b[0m | \u001b[95m 13.16   \u001b[0m | \u001b[95m 7.402   \u001b[0m | \u001b[95m 796.1   \u001b[0m |\n",
      "| \u001b[0m 7       \u001b[0m | \u001b[0m-12.15   \u001b[0m | \u001b[0m 13.46   \u001b[0m | \u001b[0m 8.412   \u001b[0m | \u001b[0m 799.9   \u001b[0m |\n",
      "| \u001b[0m 8       \u001b[0m | \u001b[0m-12.17   \u001b[0m | \u001b[0m 13.84   \u001b[0m | \u001b[0m 4.547   \u001b[0m | \u001b[0m 799.3   \u001b[0m |\n",
      "| \u001b[95m 9       \u001b[0m | \u001b[95m-12.13   \u001b[0m | \u001b[95m 17.54   \u001b[0m | \u001b[95m 8.995   \u001b[0m | \u001b[95m 798.8   \u001b[0m |\n",
      "| \u001b[0m 10      \u001b[0m | \u001b[0m-12.15   \u001b[0m | \u001b[0m 17.9    \u001b[0m | \u001b[0m 9.014   \u001b[0m | \u001b[0m 794.5   \u001b[0m |\n",
      "| \u001b[0m 11      \u001b[0m | \u001b[0m-12.15   \u001b[0m | \u001b[0m 19.36   \u001b[0m | \u001b[0m 7.48    \u001b[0m | \u001b[0m 801.6   \u001b[0m |\n",
      "| \u001b[95m 12      \u001b[0m | \u001b[95m-12.12   \u001b[0m | \u001b[95m 16.42   \u001b[0m | \u001b[95m 9.679   \u001b[0m | \u001b[95m 804.3   \u001b[0m |\n",
      "=============================================================\n"
     ]
    }
   ],
   "source": [
    "rf_BO = BayesianOptimization(rf_eval, \n",
    "                             {'n_estimators' : (100, 1000), \n",
    "                              'max_depth' : (2, 20) , \n",
    "                              'max_features' : (2, 10)})\n",
    "\n",
    "rf_BO.maximize(n_iter=10, init_points=2)"
   ]
  },
  {
   "cell_type": "code",
   "execution_count": 41,
   "id": "82036b8a",
   "metadata": {},
   "outputs": [
    {
     "data": {
      "text/plain": [
       "{'target': -12.119324888500469,\n",
       " 'params': {'max_depth': 16.42475442316463,\n",
       "  'max_features': 9.6788230989808,\n",
       "  'n_estimators': 804.3269744935467}}"
      ]
     },
     "execution_count": 41,
     "metadata": {},
     "output_type": "execute_result"
    }
   ],
   "source": [
    "best_params_rf = rf_BO.max\n",
    "best_params_rf"
   ]
  },
  {
   "cell_type": "code",
   "execution_count": 42,
   "id": "bebafb3e",
   "metadata": {},
   "outputs": [],
   "source": [
    "rf = RandomForestClassifier(n_estimators=int(best_params_rf['params']['n_estimators']), \n",
    "                            max_depth=int(best_params_rf['params']['max_depth']), \n",
    "                            max_features=int(best_params_rf['params']['max_features']),\n",
    "                            n_jobs=-1)\n",
    "rf.fit(X_train, y_train)\n",
    "rf_y_pred = rf.predict(X_test)"
   ]
  },
  {
   "cell_type": "code",
   "execution_count": 43,
   "id": "c78432aa",
   "metadata": {},
   "outputs": [
    {
     "name": "stdout",
     "output_type": "stream",
     "text": [
      "              precision    recall  f1-score   support\n",
      "\n",
      "           0       0.91      0.63      0.74     53839\n",
      "           1       0.25      0.66      0.36      9820\n",
      "\n",
      "    accuracy                           0.63     63659\n",
      "   macro avg       0.58      0.65      0.55     63659\n",
      "weighted avg       0.81      0.63      0.68     63659\n",
      "\n"
     ]
    }
   ],
   "source": [
    "print(classification_report(y_test, rf_y_pred))"
   ]
  },
  {
   "cell_type": "code",
   "execution_count": 44,
   "id": "a87ed74b",
   "metadata": {},
   "outputs": [
    {
     "data": {
      "image/png": "[encoded data removed]",
      "text/plain": [
       "<Figure size 432x288 with 2 Axes>"
      ]
     },
     "metadata": {
      "needs_background": "light"
     },
     "output_type": "display_data"
    }
   ],
   "source": [
    "sns.heatmap(confusion_matrix(y_test, rf_y_pred))\n",
    "plt.xlabel('Predicted Class')\n",
    "plt.ylabel('Actual Class')\n",
    "plt.title('Confusion Matrix for Random Forest')\n",
    "plt.show();"
   ]
  },
  {
   "cell_type": "code",
   "execution_count": null,
   "id": "5e606fb1",
   "metadata": {},
   "outputs": [],
   "source": []
  },
  {
   "cell_type": "code",
   "execution_count": null,
   "id": "e85c7c5c",
   "metadata": {},
   "outputs": [],
   "source": []
  },
  {
   "cell_type": "code",
   "execution_count": null,
   "id": "dcab0795",
   "metadata": {},
   "outputs": [],
   "source": []
  }
 ],
 "metadata": {
  "kernelspec": {
   "display_name": "Python 3",
   "language": "python",
   "name": "python3"
  },
  "language_info": {
   "codemirror_mode": {
    "name": "ipython",
    "version": 3
   },
   "file_extension": ".py",
   "mimetype": "text/x-python",
   "name": "python",
   "nbconvert_exporter": "python",
   "pygments_lexer": "ipython3",
   "version": "3.8.8"
  }
 },
 "nbformat": 4,
 "nbformat_minor": 5
}
